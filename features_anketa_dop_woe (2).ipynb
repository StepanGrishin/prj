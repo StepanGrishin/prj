{
 "cells": [
  {
   "cell_type": "code",
   "execution_count": 1,
   "id": "c1fa40a9",
   "metadata": {},
   "outputs": [],
   "source": [
    "import pandas as pd\n",
    "import numpy as np\n",
    "import seaborn as sns\n",
    "import matplotlib.pyplot as plt\n",
    "\n",
    "\n",
    "import phik\n",
    "from phik.report import plot_correlation_matrix\n",
    "from phik import report\n",
    "\n",
    "import sklearn\n",
    "from sklearn.feature_selection  import SelectKBest, f_classif, f_regression, mutual_info_classif, SelectFpr\n",
    "from sklearn.decomposition import PCA\n",
    "from sklearn.preprocessing import StandardScaler, RobustScaler\n",
    "\n",
    "\n",
    "from sklearn import metrics\n",
    "\n",
    "from sklearn.model_selection import train_test_split\n",
    "\n",
    "from tqdm.notebook import tqdm\n",
    "\n",
    "import warnings\n",
    "warnings.filterwarnings(\"ignore\")\n",
    "\n",
    "from datetime import datetime, timedelta\n",
    "\n",
    "from catboost import CatBoostClassifier\n",
    "from catboost.utils import get_roc_curve\n",
    "\n",
    "from catboost import cv\n",
    "from catboost import Pool\n",
    "from category_encoders import CatBoostEncoder, WOEEncoder, OneHotEncoder\n",
    "\n",
    "from sklearn.metrics import roc_auc_score\n",
    "from sklearn.metrics import roc_curve\n",
    "from sklearn.metrics import classification_report\n",
    "\n",
    "from sklearn.metrics import accuracy_score\n",
    "from sklearn.metrics import f1_score\n",
    "from sklearn.metrics import precision_score\n",
    "from sklearn.metrics import recall_score\n",
    "\n",
    "from sklearn.model_selection import train_test_split\n",
    "from sklearn.metrics import accuracy_score\n",
    "from sklearn.metrics import classification_report\n",
    "from sklearn.datasets import load_wine\n",
    "import optuna\n",
    "from optuna.samplers import TPESampler\n",
    "import catboost\n",
    "import pickle"
   ]
  },
  {
   "cell_type": "code",
   "execution_count": 2,
   "id": "ded0ca04",
   "metadata": {},
   "outputs": [],
   "source": [
    "pd.options.display.max_columns = 200\n",
    "pd.options.display.max_rows = 200"
   ]
  },
  {
   "cell_type": "markdown",
   "id": "562d9e36",
   "metadata": {},
   "source": [
    "# Данные анкеты"
   ]
  },
  {
   "cell_type": "markdown",
   "id": "460e9ac9",
   "metadata": {},
   "source": [
    "## загрузка"
   ]
  },
  {
   "cell_type": "code",
   "execution_count": 3,
   "id": "275928c1",
   "metadata": {},
   "outputs": [],
   "source": [
    "df= pd.read_csv(\"C:/Users/e8/Documents/new_scoring_23/anketa.csv\", sep=';')"
   ]
  },
  {
   "cell_type": "markdown",
   "id": "d4892454",
   "metadata": {},
   "source": [
    "## обработка фичей"
   ]
  },
  {
   "cell_type": "code",
   "execution_count": 4,
   "id": "14113057",
   "metadata": {},
   "outputs": [],
   "source": [
    "df = df[df['loan_cnt'].isin([0])]"
   ]
  },
  {
   "cell_type": "code",
   "execution_count": 5,
   "id": "e19179eb",
   "metadata": {},
   "outputs": [
    {
     "data": {
      "text/plain": [
       "OrganizationPhone_group\n",
       "1    367076\n",
       "4    354164\n",
       "2    270028\n",
       "3    161447\n",
       "Name: count, dtype: int64"
      ]
     },
     "execution_count": 5,
     "metadata": {},
     "output_type": "execute_result"
    }
   ],
   "source": [
    "df['OrganizationPhone'] = df['OrganizationPhone'].astype('str')\n",
    "\n",
    "df['OrganizationPhone_group'] = df.apply(lambda x: 1 if '+7 (9' in x['OrganizationPhone'] else 2, axis = 1)\n",
    "\n",
    "df['OrganizationPhone_group'] = df.apply(lambda x: 3 if '+7 (4' in x['OrganizationPhone']\n",
    "                                                 else x['OrganizationPhone_group'], axis = 1)\n",
    "\n",
    "df['OrganizationPhone_group'] = df.apply(lambda x: 4 if 'nan' in x['OrganizationPhone']\n",
    "                                                 else x['OrganizationPhone_group'], axis = 1)\n",
    "\n",
    "df['OrganizationPhone_group'].value_counts(dropna=False)"
   ]
  },
  {
   "cell_type": "code",
   "execution_count": 6,
   "id": "9267c80b",
   "metadata": {},
   "outputs": [],
   "source": [
    "del df['PersonId']\n",
    "del df['OrganizationPhone']"
   ]
  },
  {
   "cell_type": "markdown",
   "id": "4857c332",
   "metadata": {},
   "source": [
    "# Данные доп"
   ]
  },
  {
   "cell_type": "markdown",
   "id": "042ccac8",
   "metadata": {},
   "source": [
    "## Загрузка"
   ]
  },
  {
   "cell_type": "code",
   "execution_count": 7,
   "id": "cc7b5eb8",
   "metadata": {},
   "outputs": [],
   "source": [
    "df1= pd.read_csv(\"C:/Users/e8/Documents/new_scoring_23/data_.csv\", on_bad_lines='skip', sep=';')"
   ]
  },
  {
   "cell_type": "markdown",
   "id": "4fc534aa",
   "metadata": {},
   "source": [
    "## Обработка и джойним"
   ]
  },
  {
   "cell_type": "code",
   "execution_count": 10,
   "id": "6b96b0e3",
   "metadata": {
    "scrolled": true
   },
   "outputs": [],
   "source": [
    "df1 = df1[df1['loan_cnt'].isin([0])]\n",
    "\n",
    "del df1['InsuranceContract']\n",
    "\n",
    "del df1['PersonId']\n",
    "del df1['LoanId']"
   ]
  },
  {
   "cell_type": "code",
   "execution_count": 11,
   "id": "deecc8cc",
   "metadata": {},
   "outputs": [],
   "source": [
    "df = df1.merge(df, on='DraftId', how = 'left')"
   ]
  },
  {
   "cell_type": "code",
   "execution_count": 12,
   "id": "f729433a",
   "metadata": {
    "scrolled": true
   },
   "outputs": [],
   "source": [
    "df['StoreName'] = df['StoreName'].fillna('website')"
   ]
  },
  {
   "cell_type": "code",
   "execution_count": 13,
   "id": "17b6bd4f",
   "metadata": {},
   "outputs": [],
   "source": [
    "df = df.applymap(lambda x: x.upper() if isinstance(x, str) else x)"
   ]
  },
  {
   "cell_type": "code",
   "execution_count": 14,
   "id": "b458f028",
   "metadata": {},
   "outputs": [],
   "source": [
    "df['Bank'] = df['Bank'].apply(lambda x: 'SBER' if 'SBER' in str(x) else x)\n",
    "df['Bank'] = df['Bank'].apply(lambda x: 'TINKOFF' if 'TINKOFF' in str(x) else x)\n",
    "df['Bank'] = df['Bank'].apply(lambda x: 'ALFA-BANK' if 'ALFA-BANK' in str(x) else x)\n",
    "df['Bank'] = df['Bank'].apply(lambda x: 'VTB' if 'VTB' in str(x) else x)\n",
    "df['Bank'] = df['Bank'].apply(lambda x: 'RAIFFEISENBANK' if 'RAIFFEISENBANK' in str(x) else x)\n",
    "df['Bank'] = df['Bank'].apply(lambda x: 'OTKRITIE' if 'OTKRITIE' in str(x) else x)\n",
    "df['Bank'] = df['Bank'].apply(lambda x: 'QIWI' if 'QIWI' in str(x) else x)\n",
    "df['Bank'] = df['Bank'].apply(lambda x: 'POCHTA BANK' if 'POCHTA' in str(x) else x)\n",
    "df['Bank'] = df['Bank'].apply(lambda x: 'GAZPROMBANK' if 'GAZPROMBANK' in str(x) else x)\n",
    "df['Bank'] = df['Bank'].apply(lambda x: 'PROMSVYAZBANK' if 'PROMSVYAZBANK' in str(x) else x)\n",
    "df['Bank'] = df['Bank'].apply(lambda x: 'AGRICULTURAL BANK' if 'AGRICULTURAL BANK' in str(x) else x)\n",
    "df['Bank'] = df['Bank'].apply(lambda x: 'AK BARS' if 'AK BARS' in str(x) else x)\n",
    "df['Bank'] = df['Bank'].apply(lambda x: 'HOME' if 'HOME CREDIT' in str(x) else x)\n",
    "df['Bank'] = df['Bank'].apply(lambda x: 'URALSIB' if 'URALSIB' in str(x) else x)\n",
    "df['Bank'] = df['Bank'].apply(lambda x: 'ROSBANK' if 'ROSBANK' in str(x) else x)\n",
    "df['Bank'] = df['Bank'].apply(lambda x: 'YANDEX' if 'YANDEX' in str(x) else x)\n",
    "df['Bank'] = df['Bank'].apply(lambda x: 'UNICREDIT' if 'UNICREDIT' in str(x) else x)\n"
   ]
  },
  {
   "cell_type": "code",
   "execution_count": 17,
   "id": "a72c3970",
   "metadata": {},
   "outputs": [
    {
     "data": {
      "text/plain": [
       "Gender\n",
       "0.0    647645\n",
       "1.0    503806\n",
       "Name: count, dtype: int64"
      ]
     },
     "execution_count": 17,
     "metadata": {},
     "output_type": "execute_result"
    }
   ],
   "source": [
    "df = df[df['Gender'].isin([1,2])]\n",
    "df['Gender'] = df['Gender'] - 1\n",
    "df['Gender'].value_counts()"
   ]
  },
  {
   "cell_type": "code",
   "execution_count": 18,
   "id": "031429a4",
   "metadata": {},
   "outputs": [],
   "source": [
    "df = df.drop_duplicates('DraftId')"
   ]
  },
  {
   "cell_type": "code",
   "execution_count": 19,
   "id": "e1f16196",
   "metadata": {},
   "outputs": [
    {
     "data": {
      "text/plain": [
       "Index(['DraftId', 'CreateTime', 'InsurancePolicy', 'VerifiedByESIA',\n",
       "       'EMailVerified', 'EMailToken', 'drafts_count', 'off_registered',\n",
       "       'RegisterSameFact', 'Leads', 'Referer', 'StoreName', 'mobile',\n",
       "       'PingTreeLead', 'Bin', 'Bank', 'mask_person_addcontact', 'card_cnt',\n",
       "       'AttemptCount_sum', 'loan_cnt_x', 'Default_00', 'Default_30',\n",
       "       'Default_90', 'num_model', 'LoanAmount', 'RequestAmount', 'age',\n",
       "       'ActivityType', 'Education', 'Gender', 'LoanPurpose', 'MaritalStatus',\n",
       "       'MonthlyIncome', 'Post', 'loan_cnt_y', 'OrganizationPhone_group'],\n",
       "      dtype='object')"
      ]
     },
     "execution_count": 19,
     "metadata": {},
     "output_type": "execute_result"
    }
   ],
   "source": [
    "df.columns"
   ]
  },
  {
   "cell_type": "code",
   "execution_count": 20,
   "id": "2a7b2441",
   "metadata": {},
   "outputs": [],
   "source": [
    "# оставляем нужные столбцы\n",
    "df = df[['DraftId', 'CreateTime',  'InsurancePolicy',\n",
    "       'VerifiedByESIA', 'EMailVerified', 'EMailToken', 'drafts_count',\n",
    "        'RegisterSameFact',  'StoreName',\n",
    "       'mobile', 'PingTreeLead', 'Bin', 'Bank', 'mask_person_addcontact',\n",
    "        'age',\n",
    "       'ActivityType', 'Education', 'Gender', 'LoanPurpose', 'MaritalStatus',\n",
    "       'MonthlyIncome', 'Post', 'OrganizationPhone_group','LoanAmount',  'Default_00', 'Default_30',\n",
    "       'Default_90']]"
   ]
  },
  {
   "cell_type": "code",
   "execution_count": 21,
   "id": "a4967080",
   "metadata": {},
   "outputs": [],
   "source": [
    "attribs=[ 'InsurancePolicy',\n",
    "       'VerifiedByESIA', 'EMailVerified', \n",
    "       'RegisterSameFact',  'StoreName',\n",
    "       'mobile', 'PingTreeLead', 'Bin', 'Bank', 'mask_person_addcontact',\n",
    "         'ActivityType', 'Education', 'Gender', 'LoanPurpose', 'MaritalStatus',\n",
    "       'MonthlyIncome', 'Post', 'OrganizationPhone_group']"
   ]
  },
  {
   "cell_type": "code",
   "execution_count": 22,
   "id": "b89e2401",
   "metadata": {},
   "outputs": [],
   "source": [
    "df[attribs] = df[attribs].fillna('0')"
   ]
  },
  {
   "cell_type": "code",
   "execution_count": 23,
   "id": "0f7873b8",
   "metadata": {},
   "outputs": [],
   "source": [
    "# df.to_csv('original.csv', sep = ';') # сохраняем ориг если надо "
   ]
  },
  {
   "cell_type": "markdown",
   "id": "df0c8640",
   "metadata": {},
   "source": [
    "## Убираем хвосты"
   ]
  },
  {
   "cell_type": "code",
   "execution_count": 24,
   "id": "938d66a7",
   "metadata": {
    "scrolled": true
   },
   "outputs": [
    {
     "name": "stdout",
     "output_type": "stream",
     "text": [
      "InsurancePolicy хвосты\n",
      " []\n",
      "InsurancePolicy Что оставляем\n",
      " {'1': 775717, '0': 373972} \n",
      " dict_keys(['1', '0'])\n",
      "InsurancePolicy \n",
      " dict_keys(['1', '0'])\n",
      "VerifiedByESIA хвосты\n",
      " []\n",
      "VerifiedByESIA Что оставляем\n",
      " {'0': 1105437, '1': 44252} \n",
      " dict_keys(['0', '1'])\n",
      "VerifiedByESIA \n",
      " dict_keys(['0', '1'])\n",
      "EMailVerified хвосты\n",
      " []\n",
      "EMailVerified Что оставляем\n",
      " {'0': 1137969, '1': 11720} \n",
      " dict_keys(['0', '1'])\n",
      "EMailVerified \n",
      " dict_keys(['0', '1'])\n",
      "RegisterSameFact хвосты\n",
      " ['0']\n",
      "RegisterSameFact Что оставляем\n",
      " {'1.0': 1077021, '0.0': 72664} \n",
      " dict_keys(['1.0', '0.0'])\n",
      "RegisterSameFact \n",
      " dict_keys(['1.0', '0.0'])\n",
      "StoreName хвосты\n",
      " []\n",
      "StoreName Что оставляем\n",
      " {'WEBSITE': 1070650, 'PLAYMARKET': 54991, 'APPSTORE': 22067, 'APPGALLERY': 1981} \n",
      " dict_keys(['WEBSITE', 'PLAYMARKET', 'APPSTORE', 'APPGALLERY'])\n",
      "StoreName \n",
      " dict_keys(['WEBSITE', 'PLAYMARKET', 'APPSTORE', 'APPGALLERY'])\n",
      "mobile хвосты\n",
      " []\n",
      "mobile Что оставляем\n",
      " {'0': 1070650, '1': 79039} \n",
      " dict_keys(['0', '1'])\n",
      "mobile \n",
      " dict_keys(['0', '1'])\n",
      "PingTreeLead хвосты\n",
      " []\n",
      "PingTreeLead Что оставляем\n",
      " {'0': 916305, '1': 233384} \n",
      " dict_keys(['0', '1'])\n",
      "PingTreeLead \n",
      " dict_keys(['0', '1'])\n",
      "Bin хвосты\n",
      " ['472879.0', '525833.0', '220054.0', '462718.0', '555947.0', '220148.0', '220004.0', '554781.0', '548416.0', '427229.0', '546937.0', '557071.0', '430180.0', '527349.0', '487417.0', '548413.0', '543211.0', '220058.0', '547927.0', '220065.0', '465626.0', '548454.0', '0', '548430.0', '424204.0', '548386.0', '220084.0', '532186.0', '427930.0', '356514.0', '424290.0', '220016.0', '532743.0', '527798.0', '554386.0', '427950.0', '427906.0', '553420.0', '418260.0', '427962.0', '525477.0', '548466.0', '548477.0', '427936.0', '548426.0', '220049.0', '220087.0', '220055.0', '427926.0', '427942.0', '548406.0', '546339.0', '427952.0', '430181.0', '557030.0', '522199.0', '437557.0', '548472.0', '548450.0', '548498.0', '220074.0', '220040.0', '548447.0', '470550.0', '528588.0', '419581.0', '548442.0', '220091.0', '548460.0', '427970.0', '220195.0', '548431.0', '521178.0', '548444.0', '402910.0', '427954.0', '220439.0', '419150.0', '220009.0', '548449.0', '548452.0', '220172.0', '510229.0', '533205.0', '220067.0', '220097.0', '473829.0', '427913.0', '548412.0', '548428.0', '427972.0', '530794.0', '477964.0', '220034.0', '427960.0', '525784.0', '525854.0', '489350.0', '220374.0', '437424.0', '427953.0', '515792.0', '443272.0', '424205.0', '220059.0', '220078.0', '220322.0', '522458.0', '416741.0', '427911.0', '479789.0', '427949.0', '532130.0', '427931.0', '557072.0', '477904.0', '548459.0', '427918.0', '440666.0', '530403.0', '220064.0', '220147.0', '481779.0', '415482.0', '531310.0', '427944.0', '438970.0', '220362.0', '220112.0', '554782.0', '518111.0', '548427.0', '542033.0', '443886.0', '518449.0', '220149.0', '220279.0', '548425.0', '220082.0', '446065.0', '554607.0', '510070.0', '514930.0', '520935.0', '220255.0', '478476.0', '427966.0', '548470.0', '220214.0', '514017.0', '416740.0', '555957.0', '548468.0', '220384.0', '548435.0', '427902.0', '522470.0', '548410.0', '427907.0', '427941.0', '487432.0', '427922.0', '526839.0', '404270.0', '427945.0', '548476.0', '220256.0', '548422.0', '534251.0', '629244.0', '516009.0', '427230.0', '676463.0', '427977.0', '409398.0', '427683.0', '478390.0', '424975.0', '532947.0', '536961.0', '548463.0', '449600.0', '513691.0', '531362.0', '220197.0', '419163.0', '522598.0', '220047.0', '405991.0', '464837.0', '546850.0', '438931.0', '443306.0', '510230.0', '548407.0', '427912.0', '527093.0', '517583.0', '427244.0', '424538.0', '541279.0', '548999.0', '544561.0', '427910.0', '419149.0', '548411.0', '548402.0', '539962.0', '677384.0', '427680.0', '427686.0', '427933.0', '550583.0', '427956.0', '430312.0', '220217.0', '220083.0', '413307.0', '549071.0', '548403.0', '427684.0', '552186.0', '415042.0', '548461.0', '548420.0', '548436.0', '220129.0', '438933.0', '518033.0', '220134.0', '485463.0', '548456.0', '469382.0', '427964.0', '548291.0', '548432.0', '413203.0', '545251.0', '548443.0', '676280.0', '526483.0', '540814.0', '406149.0', '220324.0', '427685.0', '220415.0', '427908.0', '520348.0', '443273.0', '220249.0', '457825.0', '427928.0', '427681.0', '220071.0', '548469.0', '425534.0', '427963.0', '220445.0', '220022.0', '415481.0', '524655.0', '418713.0', '472432.0', '426102.0', '446942.0', '516295.0', '539175.0', '440204.0', '554863.0', '557976.0', '462717.0', '220025.0', '220052.0', '469362.0', '462703.0', '544886.0', '427904.0', '403841.0', '427959.0', '220354.0', '427905.0', '427935.0', '531317.0', '548464.0', '518916.0', '544639.0', '427929.0', '487416.0', '450726.0', '476208.0', '538994.0', '533595.0', '427946.0', '533206.0', '532814.0', '220005.0', '424436.0', '220108.0', '535082.0', '445483.0', '220104.0', '427903.0', '472934.0', '427925.0', '466156.0', '484891.0', '484691.0', '404807.0', '404266.0', '544218.0', '220140.0', '220170.0', '524853.0', '554562.0', '406296.0', '220210.0', '220187.0', '521310.0', '427917.0', '220231.0', '427843.0', '427968.0', '427999.0', '423569.0', '220093.0', '427969.0', '527379.0', '550025.0', '407528.0', '430430.0', '676347.0', '427961.0', '555933.0', '474158.0', '220188.0', '417053.0', '415311.0', '542255.0', '401376.0', '548755.0', '220133.0', '537004.0', '549307.0', '427687.0', '515841.0', '220166.0', '427417.0', '427943.0', '548777.0', '477032.0', '419532.0', '220331.0', '427948.0', '489349.0', '400787.0', '518487.0', '671182.0', '403780.0', '427939.0', '427909.0', '427975.0', '559488.0', '436100.0', '427927.0', '220278.0', '220209.0', '434381.0', '512463.0', '521330.0', '557805.0', '220268.0', '417250.0', '533151.0', '542751.0', '220228.0', '220014.0', '416951.0', '419215.0', '220160.0', '403840.0', '417367.0', '427682.0', '220099.0', '525736.0', '427699.0', '220117.0', '427920.0', '545293.0', '425690.0', '538110.0', '532315.0', '403897.0', '541913.0', '512036.0', '220344.0', '533681.0', '535058.0', '445894.0', '458411.0', '220158.0', '528096.0', '220258.0', '220208.0', '521801.0', '546340.0', '542382.0', '419579.0', '528808.0', '400763.0', '547237.0', '422608.0', '220360.0', '416497.0', '220076.0', '429908.0', '356546.0', '427264.0', '533594.0', '220316.0', '531484.0', '539102.0', '490855.0', '220157.0', '427932.0', '536511.0', '220181.0', '539838.0', '533157.0', '417429.0', '460046.0', '418386.0', '464845.0', '220013.0', '220239.0', '549309.0', '220155.0', '220057.0', '405993.0', '548405.0', '548451.0', '527594.0', '548265.0', '542654.0', '402457.0', '531344.0', '220159.0', '220150.0', '548062.0', '516387.0', '544962.0', '539114.0', '424480.0', '220259.0', '529100.0', '428117.0', '549478.0', '443302.0', '518882.0', '427937.0', '545152.0', '548499.0', '524528.0', '512338.0', '524665.0', '523630.0', '510100.0', '557056.0', '429430.0', '548448.0', '469612.0', '220037.0', '546999.0', '515876.0', '517955.0', '220161.0', '548601.0', '558636.0', '419999.0', '220199.0', '464915.0', '411727.0', '629129.0', '403898.0', '548387.0', '427974.0', '470674.0', '512273.0', '510092.0', '557106.0', '220006.0', '437563.0', '437524.0', '475182.0', '408396.0', '220031.0', '464784.0', '220342.0', '529864.0', '220144.0', '427499.0', '518996.0', '220162.0', '410138.0', '220253.0', '533685.0', '515805.0', '220146.0', '533214.0', '479716.0', '414658.0', '429040.0', '220021.0', '436865.0', '533208.0', '522038.0', '479333.0', '412284.0', '402326.0', '677319.0', '403896.0', '420772.0', '554393.0', '427951.0', '423308.0', '220080.0', '433300.0', '409755.0', '463627.0', '404138.0', '425620.0', '427242.0', '470127.0', '522224.0', '403394.0', '519747.0', '220089.0', '525551.0', '550165.0', '441318.0', '529813.0', '220178.0', '541715.0', '403842.0', '522988.0', '629157.0', '469611.0', '478475.0', '526891.0', '428521.0', '404844.0', '220343.0', '524448.0', '514515.0', '220186.0', '414656.0', '512478.0', '220211.0', '455603.0', '530900.0', '520905.0', '538010.0', '428522.0', '427426.0', '427440.0', '220154.0', '220325.0', '418387.0', '443307.0', '415428.0', '220136.0', '542049.0', '418711.0', '559969.0', '548713.0', '481781.0', '447603.0', '533469.0', '427715.0', '530827.0', '464636.0', '471370.0', '555882.0', '538816.0', '522029.0', '518275.0', '471430.0', '427411.0', '427688.0', '515605.0', '518397.0', '558672.0', '220257.0', '427451.0', '220296.0', '527883.0', '547912.0', '544058.0', '519333.0', '549525.0', '426825.0', '541162.0', '220254.0', '472345.0', '412475.0', '532301.0', '220127.0', '432089.0', '445494.0', '522705.0', '410229.0', '405666.0', '427450.0', '549715.0', '515587.0', '526818.0', '521820.0', '220120.0', '220329.0', '426037.0', '427452.0', '510126.0', '425691.0', '518864.0', '448343.0', '533611.0', '220165.0', '543101.0', '220111.0', '522640.0', '403184.0', '547954.0', '422495.0', '541600.0', '531315.0', '427468.0', '470679.0', '465206.0', '516646.0', '220267.0', '220305.0', '547911.0', '220185.0', '220119.0', '531207.0', '480938.0', '522031.0', '437562.0', '522711.0', '557725.0', '406364.0', '220262.0', '512762.0', '539852.0', '470342.0']\n",
      "Bin Что оставляем\n",
      " {'220220.0': 379689, '220070.0': 194093, '553691.0': 76821, '220024.0': 35244, '220015.0': 35178, '522860.0': 19877, '427938.0': 15418, '437772.0': 13623, '481776.0': 13096, '220028.0': 11671, '220029.0': 10814, '533669.0': 9920, '220073.0': 8996, '427616.0': 8443, '546998.0': 8217, '555949.0': 8145, '220432.0': 7493, '220077.0': 7027, '220030.0': 6865, '220027.0': 6618, '427638.0': 6506, '536829.0': 6145, '220002.0': 5689, '427432.0': 5529, '489347.0': 5156, '427640.0': 4831, '458443.0': 4608, '489049.0': 4556, '546940.0': 4289, '424917.0': 3959, '427630.0': 3794, '220003.0': 3604, '546938.0': 3383, '427655.0': 3216, '469395.0': 3175, '427667.0': 3171, '220001.0': 3150, '537965.0': 3101, '220038.0': 3021, '220431.0': 2936, '220424.0': 2930, '220412.0': 2877, '676907.0': 2841, '427660.0': 2822, '220053.0': 2726, '220341.0': 2651, '521324.0': 2613, '220039.0': 2538, '446915.0': 2455, '400680.0': 2322, '220019.0': 2264, '558620.0': 2227, '427606.0': 2223, '553609.0': 2165, '427662.0': 2157, '427652.0': 2135, '546955.0': 2106, '524602.0': 2091, '427631.0': 2064, '546960.0': 2049, '405870.0': 2042, '546930.0': 2026, '528041.0': 2016, '427650.0': 1873, '447624.0': 1785, '524614.0': 1695, '220026.0': 1674, '427654.0': 1670, '427672.0': 1589, '427642.0': 1589, '427626.0': 1583, '220045.0': 1558, '427602.0': 1515, '546967.0': 1462, '427618.0': 1456, '437773.0': 1451, '639002.0': 1434, '427649.0': 1422, '538150.0': 1409, '427644.0': 1384, '220196.0': 1354, '220048.0': 1293, '546962.0': 1291, '427613.0': 1289, '546952.0': 1224, '676454.0': 1216, '546906.0': 1156, '427611.0': 1133, '552175.0': 1067, '427646.0': 1066, '427656.0': 1063, '546916.0': 1033, '427676.0': 1013, '536672.0': 1003, '220050.0': 992, '559900.0': 965, '477986.0': 962, '220156.0': 936, '220011.0': 917, '435303.0': 911, '427670.0': 911, '546931.0': 907, '539877.0': 907, '404802.0': 848, '427666.0': 847, '489042.0': 829, '510069.0': 815, '546956.0': 815, '427645.0': 767, '510621.0': 766, '546918.0': 756, '220008.0': 752, '546972.0': 751, '427663.0': 736, '516473.0': 732, '527269.0': 730, '546942.0': 728, '427610.0': 709, '220033.0': 703, '546944.0': 688, '427603.0': 673, '546954.0': 671, '427622.0': 667, '546949.0': 651, '427664.0': 646, '427675.0': 643, '516116.0': 641, '546911.0': 630, '427608.0': 626, '356299.0': 622, '546946.0': 612, '220007.0': 602, '432498.0': 599, '548673.0': 594, '554759.0': 592, '427648.0': 586, '548401.0': 583, '427607.0': 582, '546926.0': 574, '427601.0': 569, '427633.0': 567, '404268.0': 566, '546913.0': 560, '427659.0': 552, '427628.0': 543, '427627.0': 529, '427605.0': 519, '546950.0': 518, '520985.0': 517, '546902.0': 516, '427668.0': 502, '427604.0': 502, '427674.0': 501, '546907.0': 501, '479087.0': 499, '427427.0': 493, '220010.0': 487, '548655.0': 482, '546912.0': 473, '427612.0': 468, '427653.0': 464, '546901.0': 464, '427635.0': 454, '546910.0': 446, '427669.0': 436, '427677.0': 434, '220020.0': 430, '427641.0': 428, '427661.0': 426, '220098.0': 421, '548440.0': 409, '546904.0': 409, '546974.0': 400, '546968.0': 398, '462729.0': 397, '427609.0': 390, '546927.0': 385, '427901.0': 384, '546969.0': 383, '546941.0': 383, '532356.0': 380, '0.0': 373, '546920.0': 371, '546970.0': 370, '546948.0': 364, '554761.0': 359, '220095.0': 356, '427636.0': 355, '427637.0': 355, '546963.0': 355, '546976.0': 349, '546945.0': 348, '220062.0': 347, '440503.0': 337, '427620.0': 329, '427617.0': 328, '220488.0': 328, '427940.0': 327, '522223.0': 326, '546928.0': 324, '220060.0': 324, '427651.0': 321, '546959.0': 320, '417398.0': 318, '427632.0': 315, '546935.0': 314, '548438.0': 313, '546933.0': 312, '546961.0': 309, '546966.0': 303, '426101.0': 294, '220023.0': 292, '546977.0': 289, '546905.0': 287, '548462.0': 283, '427625.0': 281, '546908.0': 277, '546922.0': 276, '520373.0': 269, '546975.0': 265, '546917.0': 264, '559654.0': 262, '552140.0': 261, '546953.0': 249, '427639.0': 247, '427629.0': 243, '220418.0': 241, '400079.0': 239, '479769.0': 237, '546964.0': 234, '220125.0': 231, '220066.0': 231, '427916.0': 226, '408397.0': 224, '220056.0': 218, '546909.0': 214, '427643.0': 210, '548455.0': 201, '546903.0': 201, '548674.0': 200, '510047.0': 199, '404841.0': 196, '546939.0': 191, '548445.0': 188, '487415.0': 186, '546951.0': 182, '220100.0': 179, '445433.0': 178, '479004.0': 177, '559813.0': 176, '546932.0': 176, '220018.0': 175, '546925.0': 174, '546947.0': 174, '414657.0': 173, '220069.0': 172, '546936.0': 171, '557000.0': 171, '220017.0': 168, '432433.0': 167, '220096.0': 166, '404136.0': 164, '427967.0': 164, '481782.0': 163, '356504.0': 160, '427955.0': 159, '546929.0': 158, '518901.0': 156, '419804.0': 156, '220042.0': 156, '405992.0': 152, '546943.0': 150} \n",
      " dict_keys(['220220.0', '220070.0', '553691.0', '220024.0', '220015.0', '522860.0', '427938.0', '437772.0', '481776.0', '220028.0', '220029.0', '533669.0', '220073.0', '427616.0', '546998.0', '555949.0', '220432.0', '220077.0', '220030.0', '220027.0', '427638.0', '536829.0', '220002.0', '427432.0', '489347.0', '427640.0', '458443.0', '489049.0', '546940.0', '424917.0', '427630.0', '220003.0', '546938.0', '427655.0', '469395.0', '427667.0', '220001.0', '537965.0', '220038.0', '220431.0', '220424.0', '220412.0', '676907.0', '427660.0', '220053.0', '220341.0', '521324.0', '220039.0', '446915.0', '400680.0', '220019.0', '558620.0', '427606.0', '553609.0', '427662.0', '427652.0', '546955.0', '524602.0', '427631.0', '546960.0', '405870.0', '546930.0', '528041.0', '427650.0', '447624.0', '524614.0', '220026.0', '427654.0', '427672.0', '427642.0', '427626.0', '220045.0', '427602.0', '546967.0', '427618.0', '437773.0', '639002.0', '427649.0', '538150.0', '427644.0', '220196.0', '220048.0', '546962.0', '427613.0', '546952.0', '676454.0', '546906.0', '427611.0', '552175.0', '427646.0', '427656.0', '546916.0', '427676.0', '536672.0', '220050.0', '559900.0', '477986.0', '220156.0', '220011.0', '435303.0', '427670.0', '546931.0', '539877.0', '404802.0', '427666.0', '489042.0', '510069.0', '546956.0', '427645.0', '510621.0', '546918.0', '220008.0', '546972.0', '427663.0', '516473.0', '527269.0', '546942.0', '427610.0', '220033.0', '546944.0', '427603.0', '546954.0', '427622.0', '546949.0', '427664.0', '427675.0', '516116.0', '546911.0', '427608.0', '356299.0', '546946.0', '220007.0', '432498.0', '548673.0', '554759.0', '427648.0', '548401.0', '427607.0', '546926.0', '427601.0', '427633.0', '404268.0', '546913.0', '427659.0', '427628.0', '427627.0', '427605.0', '546950.0', '520985.0', '546902.0', '427668.0', '427604.0', '427674.0', '546907.0', '479087.0', '427427.0', '220010.0', '548655.0', '546912.0', '427612.0', '427653.0', '546901.0', '427635.0', '546910.0', '427669.0', '427677.0', '220020.0', '427641.0', '427661.0', '220098.0', '548440.0', '546904.0', '546974.0', '546968.0', '462729.0', '427609.0', '546927.0', '427901.0', '546969.0', '546941.0', '532356.0', '0.0', '546920.0', '546970.0', '546948.0', '554761.0', '220095.0', '427636.0', '427637.0', '546963.0', '546976.0', '546945.0', '220062.0', '440503.0', '427620.0', '427617.0', '220488.0', '427940.0', '522223.0', '546928.0', '220060.0', '427651.0', '546959.0', '417398.0', '427632.0', '546935.0', '548438.0', '546933.0', '546961.0', '546966.0', '426101.0', '220023.0', '546977.0', '546905.0', '548462.0', '427625.0', '546908.0', '546922.0', '520373.0', '546975.0', '546917.0', '559654.0', '552140.0', '546953.0', '427639.0', '427629.0', '220418.0', '400079.0', '479769.0', '546964.0', '220125.0', '220066.0', '427916.0', '408397.0', '220056.0', '546909.0', '427643.0', '548455.0', '546903.0', '548674.0', '510047.0', '404841.0', '546939.0', '548445.0', '487415.0', '546951.0', '220100.0', '445433.0', '479004.0', '559813.0', '546932.0', '220018.0', '546925.0', '546947.0', '414657.0', '220069.0', '546936.0', '557000.0', '220017.0', '432433.0', '220096.0', '404136.0', '427967.0', '481782.0', '356504.0', '427955.0', '546929.0', '518901.0', '419804.0', '220042.0', '405992.0', '546943.0'])\n",
      "Bin \n",
      " dict_keys(['220220.0', '220070.0', '553691.0', '220024.0', '220015.0', '522860.0', '427938.0', '437772.0', '481776.0', '220028.0', '220029.0', '533669.0', '220073.0', '427616.0', '546998.0', '555949.0', '220432.0', '220077.0', '220030.0', '220027.0', '427638.0', '536829.0', '220002.0', '427432.0', '489347.0', '427640.0', '458443.0', '489049.0', '546940.0', '424917.0', '427630.0', '220003.0', '546938.0', '427655.0', '469395.0', '427667.0', '220001.0', '537965.0', '220038.0', '220431.0', '220424.0', '220412.0', '676907.0', '427660.0', '220053.0', '220341.0', '521324.0', '220039.0', '446915.0', '400680.0', '220019.0', '558620.0', '427606.0', '553609.0', '427662.0', '427652.0', '546955.0', '524602.0', '427631.0', '546960.0', '405870.0', '546930.0', '528041.0', '427650.0', '447624.0', '524614.0', '220026.0', '427654.0', '427672.0', '427642.0', '427626.0', '220045.0', '427602.0', '546967.0', '427618.0', '437773.0', '639002.0', '427649.0', '538150.0', '427644.0', '220196.0', '220048.0', '546962.0', '427613.0', '546952.0', '676454.0', '546906.0', '427611.0', '552175.0', '427646.0', '427656.0', '546916.0', '427676.0', '536672.0', '220050.0', '559900.0', '477986.0', '220156.0', '220011.0', '435303.0', '427670.0', '546931.0', '539877.0', '404802.0', '427666.0', '489042.0', '510069.0', '546956.0', '427645.0', '510621.0', '546918.0', '220008.0', '546972.0', '427663.0', '516473.0', '527269.0', '546942.0', '427610.0', '220033.0', '546944.0', '427603.0', '546954.0', '427622.0', '546949.0', '427664.0', '427675.0', '516116.0', '546911.0', '427608.0', '356299.0', '546946.0', '220007.0', '432498.0', '548673.0', '554759.0', '427648.0', '548401.0', '427607.0', '546926.0', '427601.0', '427633.0', '404268.0', '546913.0', '427659.0', '427628.0', '427627.0', '427605.0', '546950.0', '520985.0', '546902.0', '427668.0', '427604.0', '427674.0', '546907.0', '479087.0', '427427.0', '220010.0', '548655.0', '546912.0', '427612.0', '427653.0', '546901.0', '427635.0', '546910.0', '427669.0', '427677.0', '220020.0', '427641.0', '427661.0', '220098.0', '548440.0', '546904.0', '546974.0', '546968.0', '462729.0', '427609.0', '546927.0', '427901.0', '546969.0', '546941.0', '532356.0', '0.0', '546920.0', '546970.0', '546948.0', '554761.0', '220095.0', '427636.0', '427637.0', '546963.0', '546976.0', '546945.0', '220062.0', '440503.0', '427620.0', '427617.0', '220488.0', '427940.0', '522223.0', '546928.0', '220060.0', '427651.0', '546959.0', '417398.0', '427632.0', '546935.0', '548438.0', '546933.0', '546961.0', '546966.0', '426101.0', '220023.0', '546977.0', '546905.0', '548462.0', '427625.0', '546908.0', '546922.0', '520373.0', '546975.0', '546917.0', '559654.0', '552140.0', '546953.0', '427639.0', '427629.0', '220418.0', '400079.0', '479769.0', '546964.0', '220125.0', '220066.0', '427916.0', '408397.0', '220056.0', '546909.0', '427643.0', '548455.0', '546903.0', '548674.0', '510047.0', '404841.0', '546939.0', '548445.0', '487415.0', '546951.0', '220100.0', '445433.0', '479004.0', '559813.0', '546932.0', '220018.0', '546925.0', '546947.0', '414657.0', '220069.0', '546936.0', '557000.0', '220017.0', '432433.0', '220096.0', '404136.0', '427967.0', '481782.0', '356504.0', '427955.0', '546929.0', '518901.0', '419804.0', '220042.0', '405992.0', '546943.0'])\n",
      "Bank хвосты\n",
      " ['[RU] JSCB OF SUPPORT TO COMMERCE AND BUSINESS SKB BANK', 'CREDIT URAL BANK', '[RU] ASIAN PACIFIC BANK OJSC', '[RU] CREDIT BANK OF MOSCOW', 'MEMBERS FIRST C.U.', '[RU] BANK SAINT-PETERSBURG OJSC', 'WELLS FARGO BANK, N.A.', '[RU] OJSC OTP BANK', '[RU] OJSC SOCIAL COMMERCIAL BANK OF PRIMORYE PRIMSOTSBANK', '[RU] CREDIT BANK OF MOSCOW (CBM)', '[RU] JSCB NOVIKOMBANK', '[RU] ORIENT EXPRESS BANK OJSC (OAO KB ORIENT)', '[RU] FAR EASTERN BANK', '[RU] CB KUBAN KREDIT, 000', '[RU] CHELINDBANK', '[RU] AVANGARD JSB', '[RU] LLC ICB SOVCOMBANK INVESTMENT COMMERCIAL BANK SO', '[RU] JSCB TRANSCAPITALBANK', 'CB KUBAN KREDIT, 000', 'COMMERCIAL BANK EXPOBANK', 'UNICREDIT', 'CHELINDBANK', 'BANKFIRST', '[RU] ABSOLUT BANK', 'COMMERCIAL BANK MASTER-BANK', '[RU] JSC INVESTMENT CITY BANK', 'CB KOLTSO URALA', '[RU] CB CENTER-INVEST', '[RU] JOINT STOCK MOSCOW BANK FOR RECONSTRUCTION AND DEVELOPMENT', '[RU] TRANSCREDITBANK', 'JSC BANK TURANALEM', '[RU] ZAO (JSB) TATSOTSBANK', 'ONEY S.P.A.', '[RU] RUSSIAN REGIONAL DEVELOPMENT BANK OJSC', '[RU] INVESTMENT BANK OF CHELYABINSK JS CHELYABINVESTBANK', 'JSCB TRANSCREDIT', 'MDM BANK OJSC', '[RU] JSC IZHCOMBANK', '[RU] JSB DEVON KREDIT', '[RU] COMMERCIAL BANK ASSISTANCE FOR PUBLIC INITIATIVES SOBINBANK', '[RU] CREDIT URAL BANK', '[RU] SDM BANK', '[RU] MDM BANK OJSC', 'CAIXABANK S.A.', '[RU] CJSC CREDIT EUROPE BANK', 'URALFINANS CB LLC', '[RU] OJSC ROSGOSSTRAKH BANK', '[RU] BANCA INTESA', 'CROCUS-BANK LTD', '[RU] MOSCOW BANK FOR RECONSTRUCTION AND DEVELOPMENT JSCB', 'CARD SERVICES FOR CREDIT UNIONS, INC.', '[RU] ALEF BANK THE CLOSED CORPORATION JSB', '[US] CARD SERVICES FOR CREDIT UNIONS, INC.', '[RU] ALMAZERGIENBANK', 'SDM BANK', 'JSC BANK ALEKSANDROVSKY', '[RU] BCS BANK JSC', '[US] FIA CARD SERVICES, N.A.', '[RU] JSCB SOYUZ', 'ROSE HILL BANK', 'OJSC OTP BANK', 'WELLS FARGO BANK NEVADA, N.A.', 'JSB DEVON KREDIT', 'BARCLAYS BANK LIMITED LIABILITY COMPANY', 'COOPERATIEVE CENTRALE RAIFFEISEN- BOERENLEENBANK B.A. (RABOB', '[RU] CLOSED JSB SURGUTNEFTEGASBANK', '[RU] JSCB PRIMORYE', '[RU] JSCB FORA BANK', '[RU] JSC METKOMBANK', 'LIMITED LIABILIY COMPANY MEDIC AL COMMERCIAL BANK AVERS', 'AGRICULTURAL BANK', '[RU] JSC BANK FINSERVICE', 'SCB BALTIC BANK FOR DEVELOPMENT (ZAO)', '[RU] JS BANK SEVERGAZBANK', '[RU] CJSC COMMERCIAL BANK CITIBANK', '[RU] JSB TOGLIATTIKHIMBANK', 'FIRST TENNESSEE BANK, N.A.', '[RU] JSB INTERPROGRESSBANK (CJSC)', '[RU] NEYVA BANK LLC', 'OJSC COMMERCIAL BANK', 'STAVROPOLPROMSTROYBANK OAO', 'JSCB NOVIKOMBANK', '[RU] URALS INDUSTRIAL BANK OJSC', '[RU] JSB OF COMMERCE ENERGOBANK PUBLIC CORPORATION', 'JOINT STOCK MOSCOW BANK FOR RECONSTRUCTION AND DEVELOPMENT', 'ST. PETERSBURG SOCIAL COMMERCIAL BANK CJSC', '[RU] OJSC BANK PETROCOMMERCE', 'CB LANTA BANK', 'OPEN JOINT STOCK COMPANY BANK', '[RU] JSC BANK OF KHANTY-MANSIYSK', '[RU] OJSC CB URALSKY FINANSOVY DOM', '[US] U.S. BANK N.A. ND', '[RU] COMMERCIAL BANK RENAISSANCE CAPITAL (LIMITED LIABILITY', 'PSCU FINANCIAL SERVICES, INC.', '[RU] JSCB BANK OF MOSCOW', '[RU] OJSC FUNDSERVICEBANK', '[RU] JSCB BUSINESS SERVICE TRUST CJSC', '[US] FIRST NATIONAL BANK OF OMAHA', '[RU] CB KOLTSO URALA', '[RU] MOSCOW JSCB VOZROZHDENIYE', 'BANCO PROVINCIAL S.A.I.C.A. - S.A.C.A.', '[RU] SAINT PETERSBURG INDUSTRIAL JSB', 'JSCB ROSSIYSKY CAPITAL', '[RU] JSC BANK OF MOSCOW', 'SAINT PETERSBURG JSCB TAVRICHESKIY', '[RU] JSC BYSTROBANK', '[RU] CITIZENS FINANCIAL SERVICES', 'BANK SAINT-PETERSBURG OJSC', '[RU] OJSC GUTA BANK']\n",
      "Bank Что оставляем\n",
      " {'SBER': 575127, '0': 327172, '[US] NEW WORLD IMMEDIATE ': 76821, 'VTB': 46908, 'ALFA-BANK': 43033, 'TINKOFF': 17846, '[IQ] JORDAN AHLI BANK': 8145, 'QIWI': 7731, 'OTKRITIE': 7515, 'POCHTA BANK': 7027, 'RNKB': 5689, 'PROMSVYAZBANK': 4615, 'RAIFFEISENBANK': 3658, 'CHINA AND SOUTH SEA BANK, LTD.': 2322, 'CREDIT UNION PAYMENT CENTER (LIMITED LIABILITY COMPANY)': 2174, 'ROSBANK': 1805, 'BANK LEVOBEREZHNY': 917, 'CREDIT UNION CARD SERVICES, INC.': 911, 'ISLAND F.C.U.': 848, 'OJSC JSB ROSSIYA': 752, 'URALSIB': 751, 'GAZPROMBANK': 681, 'JCB INTERNATIONAL CREDIT CARD CO., LTD.': 622, 'GENBANK': 602, 'MOSCOW BANK FOR RECONSTRUCTION AND DEVELOPMENT JSCB': 566, 'AK BARS': 564, '[RU] JSCB AVANGARD': 341, 'HOME': 267, '[RU] BANK ZENIT': 262, '[RU] JSC RUSSIAN STANDARD BANK': 238, '[RU] BANK SAINT PETERSBURG PLC': 237, '[RU] URAL BANK FOR RECONSTRUCTION AND DEVELOPMENT JSC': 212, 'BANCO DE DESARROLLO RURAL S.A. BANRURAL': 196, '[RU] CREDIT UNION PAYMENT CENTER (LIMITED LIABILITY COMPANY)': 179, '[RU] JSCB MOSCOW INDUSTRIAL BANK': 176, 'NON-BANKING CREDIT ORG UNITED SETTLEMENT SYSTEM': 171, '[RU] OJSC LETO BANK': 152} \n",
      " dict_keys(['SBER', '0', '[US] NEW WORLD IMMEDIATE ', 'VTB', 'ALFA-BANK', 'TINKOFF', '[IQ] JORDAN AHLI BANK', 'QIWI', 'OTKRITIE', 'POCHTA BANK', 'RNKB', 'PROMSVYAZBANK', 'RAIFFEISENBANK', 'CHINA AND SOUTH SEA BANK, LTD.', 'CREDIT UNION PAYMENT CENTER (LIMITED LIABILITY COMPANY)', 'ROSBANK', 'BANK LEVOBEREZHNY', 'CREDIT UNION CARD SERVICES, INC.', 'ISLAND F.C.U.', 'OJSC JSB ROSSIYA', 'URALSIB', 'GAZPROMBANK', 'JCB INTERNATIONAL CREDIT CARD CO., LTD.', 'GENBANK', 'MOSCOW BANK FOR RECONSTRUCTION AND DEVELOPMENT JSCB', 'AK BARS', '[RU] JSCB AVANGARD', 'HOME', '[RU] BANK ZENIT', '[RU] JSC RUSSIAN STANDARD BANK', '[RU] BANK SAINT PETERSBURG PLC', '[RU] URAL BANK FOR RECONSTRUCTION AND DEVELOPMENT JSC', 'BANCO DE DESARROLLO RURAL S.A. BANRURAL', '[RU] CREDIT UNION PAYMENT CENTER (LIMITED LIABILITY COMPANY)', '[RU] JSCB MOSCOW INDUSTRIAL BANK', 'NON-BANKING CREDIT ORG UNITED SETTLEMENT SYSTEM', '[RU] OJSC LETO BANK'])\n",
      "Bank \n",
      " dict_keys(['SBER', '0', '[US] NEW WORLD IMMEDIATE ', 'VTB', 'ALFA-BANK', 'TINKOFF', '[IQ] JORDAN AHLI BANK', 'QIWI', 'OTKRITIE', 'POCHTA BANK', 'RNKB', 'PROMSVYAZBANK', 'RAIFFEISENBANK', 'CHINA AND SOUTH SEA BANK, LTD.', 'CREDIT UNION PAYMENT CENTER (LIMITED LIABILITY COMPANY)', 'ROSBANK', 'BANK LEVOBEREZHNY', 'CREDIT UNION CARD SERVICES, INC.', 'ISLAND F.C.U.', 'OJSC JSB ROSSIYA', 'URALSIB', 'GAZPROMBANK', 'JCB INTERNATIONAL CREDIT CARD CO., LTD.', 'GENBANK', 'MOSCOW BANK FOR RECONSTRUCTION AND DEVELOPMENT JSCB', 'AK BARS', '[RU] JSCB AVANGARD', 'HOME', '[RU] BANK ZENIT', '[RU] JSC RUSSIAN STANDARD BANK', '[RU] BANK SAINT PETERSBURG PLC', '[RU] URAL BANK FOR RECONSTRUCTION AND DEVELOPMENT JSC', 'BANCO DE DESARROLLO RURAL S.A. BANRURAL', '[RU] CREDIT UNION PAYMENT CENTER (LIMITED LIABILITY COMPANY)', '[RU] JSCB MOSCOW INDUSTRIAL BANK', 'NON-BANKING CREDIT ORG UNITED SETTLEMENT SYSTEM', '[RU] OJSC LETO BANK'])\n"
     ]
    },
    {
     "name": "stdout",
     "output_type": "stream",
     "text": [
      "mask_person_addcontact хвосты\n",
      " []\n",
      "mask_person_addcontact Что оставляем\n",
      " {'0': 1147909, '1': 1780} \n",
      " dict_keys(['0', '1'])\n",
      "mask_person_addcontact \n",
      " dict_keys(['0', '1'])\n",
      "ActivityType хвосты\n",
      " []\n",
      "ActivityType Что оставляем\n",
      " {'0': 1066235, 'ТОРГОВЛЯ': 20271, 'ПРОМЫШЛЕННОСТЬ': 12638, 'ДРУГОЕ': 9434, 'СЕРВИС И УСЛУГИ': 8713, 'СТРОИТЕЛЬСТВО И НЕДВИЖИМОСТЬ': 6949, 'ТРАНСПОРТ': 5221, 'ГОСУДАРСТВЕННАЯ СЛУЖБА': 4818, 'НАУКА И ОБРАЗОВАНИЕ': 2815, 'МЕДИЦИНА': 2431, 'АРМИЯ': 2093, 'ОХРАННАЯ ДЕЯТЕЛЬНОСТЬ': 1908, 'ДОБЫВАЮЩИЙ СЕКТОР': 1743, 'ФИНАНСЫ, БАНКИ, СТРАХОВАНИЕ, КОНСАЛТИНГ': 1628, 'ИНФОРМАЦИОННЫЕ ТЕХНОЛОГИИ/ТЕЛЕКОММУНИКАЦИИ': 1625, 'КУЛЬТУРА И ИСКУССТВО': 809, 'ТЭК': 358} \n",
      " dict_keys(['0', 'ТОРГОВЛЯ', 'ПРОМЫШЛЕННОСТЬ', 'ДРУГОЕ', 'СЕРВИС И УСЛУГИ', 'СТРОИТЕЛЬСТВО И НЕДВИЖИМОСТЬ', 'ТРАНСПОРТ', 'ГОСУДАРСТВЕННАЯ СЛУЖБА', 'НАУКА И ОБРАЗОВАНИЕ', 'МЕДИЦИНА', 'АРМИЯ', 'ОХРАННАЯ ДЕЯТЕЛЬНОСТЬ', 'ДОБЫВАЮЩИЙ СЕКТОР', 'ФИНАНСЫ, БАНКИ, СТРАХОВАНИЕ, КОНСАЛТИНГ', 'ИНФОРМАЦИОННЫЕ ТЕХНОЛОГИИ/ТЕЛЕКОММУНИКАЦИИ', 'КУЛЬТУРА И ИСКУССТВО', 'ТЭК'])\n",
      "ActivityType \n",
      " dict_keys(['0', 'ТОРГОВЛЯ', 'ПРОМЫШЛЕННОСТЬ', 'ДРУГОЕ', 'СЕРВИС И УСЛУГИ', 'СТРОИТЕЛЬСТВО И НЕДВИЖИМОСТЬ', 'ТРАНСПОРТ', 'ГОСУДАРСТВЕННАЯ СЛУЖБА', 'НАУКА И ОБРАЗОВАНИЕ', 'МЕДИЦИНА', 'АРМИЯ', 'ОХРАННАЯ ДЕЯТЕЛЬНОСТЬ', 'ДОБЫВАЮЩИЙ СЕКТОР', 'ФИНАНСЫ, БАНКИ, СТРАХОВАНИЕ, КОНСАЛТИНГ', 'ИНФОРМАЦИОННЫЕ ТЕХНОЛОГИИ/ТЕЛЕКОММУНИКАЦИИ', 'КУЛЬТУРА И ИСКУССТВО', 'ТЭК'])\n",
      "Education хвосты\n",
      " []\n",
      "Education Что оставляем\n",
      " {'СРЕДНЕЕ СПЕЦИАЛЬНОЕ': 510657, 'ВЫСШЕЕ': 246121, 'СРЕДНЕЕ': 244981, 'НЕПОЛНОЕ ВЫСШЕЕ': 97185, 'НЕПОЛНОЕ СРЕДНЕЕ': 47523, 'ДРУГОЕ': 2349, '0': 873} \n",
      " dict_keys(['СРЕДНЕЕ СПЕЦИАЛЬНОЕ', 'ВЫСШЕЕ', 'СРЕДНЕЕ', 'НЕПОЛНОЕ ВЫСШЕЕ', 'НЕПОЛНОЕ СРЕДНЕЕ', 'ДРУГОЕ', '0'])\n",
      "Education \n",
      " dict_keys(['СРЕДНЕЕ СПЕЦИАЛЬНОЕ', 'ВЫСШЕЕ', 'СРЕДНЕЕ', 'НЕПОЛНОЕ ВЫСШЕЕ', 'НЕПОЛНОЕ СРЕДНЕЕ', 'ДРУГОЕ', '0'])\n",
      "Gender хвосты\n",
      " []\n",
      "Gender Что оставляем\n",
      " {'0.0': 646648, '1.0': 503041} \n",
      " dict_keys(['0.0', '1.0'])\n",
      "Gender \n",
      " dict_keys(['0.0', '1.0'])\n",
      "LoanPurpose хвосты\n",
      " []\n",
      "LoanPurpose Что оставляем\n",
      " {'0': 1057665, 'НЕПРЕДВИДЕННЫЕ РАСХОДЫ': 31619, 'МЕДИЦИНСКИЕ УСЛУГИ': 12344, 'РЕМОНТ ДОМА ИЛИ АВТОМОБИЛЯ': 12107, 'ДРУГОЕ': 10546, 'ЕЖЕДНЕВНЫЕ РАСХОДЫ': 10157, 'ПОКУПКА БЫТОВОЙ ТЕХНИКИ И ЭЛЕКТРОНИКИ': 5647, 'ПОДАРКИ': 5595, 'ОБРАЗОВАНИЕ': 2363, 'БИЗНЕС': 885, 'ПУТЕШЕСТВИЯ, ОТДЫХ': 761} \n",
      " dict_keys(['0', 'НЕПРЕДВИДЕННЫЕ РАСХОДЫ', 'МЕДИЦИНСКИЕ УСЛУГИ', 'РЕМОНТ ДОМА ИЛИ АВТОМОБИЛЯ', 'ДРУГОЕ', 'ЕЖЕДНЕВНЫЕ РАСХОДЫ', 'ПОКУПКА БЫТОВОЙ ТЕХНИКИ И ЭЛЕКТРОНИКИ', 'ПОДАРКИ', 'ОБРАЗОВАНИЕ', 'БИЗНЕС', 'ПУТЕШЕСТВИЯ, ОТДЫХ'])\n",
      "LoanPurpose \n",
      " dict_keys(['0', 'НЕПРЕДВИДЕННЫЕ РАСХОДЫ', 'МЕДИЦИНСКИЕ УСЛУГИ', 'РЕМОНТ ДОМА ИЛИ АВТОМОБИЛЯ', 'ДРУГОЕ', 'ЕЖЕДНЕВНЫЕ РАСХОДЫ', 'ПОКУПКА БЫТОВОЙ ТЕХНИКИ И ЭЛЕКТРОНИКИ', 'ПОДАРКИ', 'ОБРАЗОВАНИЕ', 'БИЗНЕС', 'ПУТЕШЕСТВИЯ, ОТДЫХ'])\n",
      "MaritalStatus хвосты\n",
      " ['0']\n",
      "MaritalStatus Что оставляем\n",
      " {'0.0': 575004, '1.0': 355943, '3.0': 110308, '4.0': 87081, '2.0': 21247} \n",
      " dict_keys(['0.0', '1.0', '3.0', '4.0', '2.0'])\n",
      "MaritalStatus \n",
      " dict_keys(['0.0', '1.0', '3.0', '4.0', '2.0'])\n",
      "MonthlyIncome хвосты\n",
      " ['260000.0', '41500.0', '32800.0', '4500.0', '117000.0', '127000.0', '40500.0', '70.0', '118000.0', '25600.0', '128000.0', '156000.0', '19800.0', '45900.0', '126000.0', '37800.0', '1500.0', '39800.0', '106000.0', '134000.0', '35800.0', '78600.0', '28700.0', '48600.0', '116000.0', '29800.0', '47800.0', '138000.0', '36700.0', '113000.0', '48700.0', '17800.0', '42700.0', '38700.0', '65.0', '34600.0', '67800.0', '56800.0', '30500.0', '46700.0', '24600.0', '57500.0', '32700.0', '67500.0', '950000.0', '38600.0', '55500.0', '25800.0', '36800.0', '34700.0', '63500.0', '36600.0', '68500.0', '23600.0', '114000.0', '24700.0', '158000.0', '48900.0', '46800.0', '32600.0', '38900.0', '32400.0', '75.0', '7500.0', '109000.0', '370000.0', '132000.0', '29700.0', '380000.0', '49800.0', '26800.0', '47900.0', '35400.0', '111000.0', '215000.0', '43600.0', '360000.0', '23700.0', '290000.0', '137000.0', '43700.0', '12800.0', '64500.0', '1500000.0', '10500.0', '11500.0', '52300.0', '25700.0', '78500.0', '23800.0', '176000.0', '33600.0', '340000.0', '18700.0', '37600.0', '42600.0', '29600.0', '27600.0', '245000.0', '56500.0', '54500.0', '65500.0', '50500.0', '136000.0', '28400.0', '43200.0', '62500.0', '38800.0', '28800.0', '147000.0', '27400.0', '36900.0', '34800.0', '53500.0', '420000.0', '25400.0', '21600.0', '28300.0', '43800.0', '18900.0', '13700.0', '56400.0', '45009.0', '55.0', '57800.0', '129000.0', '54600.0', '54300.0', '54700.0', '47600.0', '225000.0', '36400.0', '430000.0', '23400.0', '21700.0', '26300.0', '198000.0', '47200.0', '58500.0', '205000.0', '38400.0', '16700.0', '72500.0', '119000.0', '47300.0', '42800.0', '26400.0', '480000.0', '34200.0', '80.0', '35200.0', '22300.0', '76500.0', '37900.0', '75500.0', '470000.0', '37400.0', '15600.0', '38300.0', '73500.0', '27300.0', '68900.0', '21800.0', '35900.0', '22700.0', '148000.0', '16800.0', '58900.0', '33700.0', '24800.0', '15700.0', '31700.0', '39700.0', '39600.0', '27900.0', '146000.0', '74500.0', '6500.0', '22800.0', '20.0', '48800.0', '8500.0', '187000.0', '85500.0', '28.0', '78900.0', '49700.0', '18600.0', '101000.0', '31600.0', '40009.0', '154000.0', '58700.0', '24300.0', '15300.0', '153000.0', '52800.0', '41700.0', '21300.0', '24900.0', '780000.0', '48300.0', '62300.0', '68700.0', '48200.0', '66500.0', '19200.0', '87500.0', '65700.0', '5912.0', '22600.0', '57400.0', '64300.0', '20800.0', '157000.0', '167000.0', '139000.0', '37200.0', '47700.0', '12600.0', '58600.0', '53200.0', '122000.0', '21400.0', '19700.0', '17600.0', '49600.0', '87300.0', '5500.0', '64200.0', '9500.0', '21200.0', '143000.0', '17200.0', '56300.0', '31200.0', '49900.0', '560000.0', '82500.0', '55600.0', '51500.0', '16400.0', '310000.0', '680000.0', '20700.0', '204000.0', '178000.0', '58400.0', '98500.0', '121000.0', '37700.0', '65400.0', '86500.0', '149000.0', '46200.0', '38200.0', '30900.0', '45300.0', '39900.0', '330000.0', '19600.0', '12200.0', '29300.0', '15900.0', '152000.0', '25300.0', '63400.0', '75400.0', '35009.0', '57300.0', '58300.0', '14800.0', '76800.0', '32900.0', '18200.0', '17900.0', '15800.0', '2000000.0', '196000.0', '189000.0', '27.0', '51200.0', '32.0', '52200.0', '13200.0', '65800.0', '50009.0', '14700.0', '54800.0', '67400.0', '52700.0', '43400.0', '142000.0', '26900.0', '59500.0', '41200.0', '69800.0', '235000.0', '670000.0', '54200.0', '13600.0', '26600.0', '65009.0', '52600.0', '164000.0', '55800.0', '53600.0', '36200.0', '51800.0', '64800.0', '72300.0', '19300.0', '179000.0', '26100.0', '63800.0', '15.0', '197000.0', '56900.0', '460000.0', '27700.0', '67900.0', '22400.0', '18800.0', '275000.0', '33200.0', '159000.0', '26200.0', '144000.0', '69500.0', '48.0', '18400.0', '11900.0', '60200.0', '39999.0', '34900.0', '52400.0', '60500.0', '54900.0', '45200.0', '1800.0', '42.0', '40800.0', '500.0', '85.0', '90.0', '63200.0', '5600.0', '67300.0', '64700.0', '19900.0', '12700.0', '24.0', '42400.0', '16300.0', '186000.0', '71500.0', '40300.0', '31800.0', '1100000.0', '15200.0', '75900.0', '44800.0', '4800.0', '57600.0', '74800.0', '19100.0', '131000.0', '530000.0', '72600.0', '12400.0', '30009.0', '42200.0', '265000.0', '71300.0', '34.0', '57200.0', '3200.0', '36.0', '16200.0', '65300.0', '53800.0', '2700.0', '65900.0', '17400.0', '68400.0', '740000.0', '20600.0', '63700.0', '29900.0', '25900.0', '168000.0', '33800.0', '4200.0', '40600.0', '13800.0', '75600.0', '83500.0', '53400.0', '540000.0', '68300.0', '97500.0', '1300000.0', '41800.0', '76400.0', '14200.0', '43.0', '33400.0', '18.0', '42900.0', '20300.0', '18300.0', '390000.0', '27200.0', '14600.0', '35300.0', '59800.0', '760000.0', '31400.0', '30800.0', '79500.0', '60009.0', '54660.0', '65600.0', '34300.0', '76300.0', '98700.0', '55900.0', '96700.0', '2300.0', '41300.0', '3.0', '44200.0', '162000.0', '44700.0', '520000.0', '163000.0', '20200.0', '39300.0', '410000.0', '570000.0', '33100.0', '23200.0', '23.0', '1200.0', '44600.0', '57900.0', '75009.0', '81500.0', '46600.0', '55555.0', '141000.0', '174000.0', '79900.0', '56200.0', '77500.0', '32100.0', '580000.0', '39400.0', '60900.0', '59600.0', '58800.0', '41600.0', '34560.0', '55400.0', '43900.0', '730000.0', '10800.0', '295000.0', '47.0', '192000.0', '100.0', '38.0', '71200.0', '41900.0', '75300.0', '64090.0', '44300.0', '7600.0', '33450.0', '89700.0', '32450.0', '37.0', '30200.0', '84500.0', '53700.0', '67200.0', '32009.0', '193000.0', '12900.0', '5900.0', '32300.0', '58200.0', '92500.0', '12300.0', '17300.0', '150.0', '194000.0', '980000.0', '133000.0', '73400.0', '188000.0', '73800.0', '86700.0', '20900.0', '23900.0', '62800.0', '65200.0', '25200.0', '214000.0', '46900.0', '75800.0', '22900.0', '27650.0', '50300.0', '74300.0', '46.0', '38560.0', '39.0', '61300.0', '166000.0', '30400.0', '87600.0', '50600.0', '40900.0', '84700.0', '31900.0', '54400.0', '29400.0', '11300.0', '74600.0', '85600.0', '82600.0', '490000.0', '11800.0', '184000.0', '68200.0', '3000000.0', '43300.0', '11400.0', '255000.0', '285000.0', '62700.0', '61500.0', '70009.0', '34567.0', '124500.0', '5400.0', '24467.0', '440000.0', '80500.0', '11200.0', '46400.0', '15400.0', '98600.0', '42790.0', '45090.0', '68800.0', '268000.0', '49300.0', '86400.0', '1.0', '87540.0', '14300.0', '59700.0', '890000.0', '11600.0', '2.0', '1400000.0', '8600.0', '51900.0', '22350.0', '86200.0', '17.0', '51700.0', '29200.0', '315000.0', '51300.0', '89600.0', '21900.0', '47850.0', '55700.0', '53450.0', '52.0', '172000.0', '151000.0', '1250000.0', '44680.0', '82300.0', '26880.0', '50400.0', '105500.0', '89500.0', '72800.0', '43250.0', '97800.0', '78400.0', '1600.0', '28200.0', '23450.0', '16600.0', '24400.0', '67.0', '510000.0', '345000.0', '216000.0', '23100.0', '39200.0', '630000.0', '78300.0', '25009.0', '37300.0', '34667.0', '42100.0', '67890.0', '93500.0', '710000.0', '27122.0', '0', '182000.0', '73700.0', '79800.0', '40200.0', '32200.0', '67700.0', '34400.0', '2800.0', '117800.0', '375000.0', '62400.0', '191000.0', '3800.0', '22200.0', '28560.0', '72400.0', '99999.0', '52100.0', '13900.0', '173000.0', '10700.0', '87900.0', '218000.0', '73200.0', '2200.0', '120.0', '23300.0', '95.0', '117500.0', '34880.0', '27550.0', '66700.0', '298956.0', '4.0', '36300.0', '24200.0', '68.0', '47250.0', '19400.0', '64400.0', '13400.0', '44350.0', '95400.0', '95500.0', '45400.0', '57.0', '76200.0', '9563.0', '325000.0', '55009.0', '53300.0', '49820.0', '47345.0', '5.0', '51400.0', '56009.0', '100009.0', '9400.0', '46300.0', '87.0', '31300.0', '36100.0', '45678.0', '8700.0', '29650.0', '870000.0', '50900.0', '910000.0', '50200.0', '11700.0', '67490.0', '33900.0', '790000.0', '19993.0', '199000.0', '51350.0', '35678.0', '28509.0', '69750.0', '84600.0', '67390.0', '21750.0', '95700.0', '56.0', '77800.0', '86300.0', '134500.0', '92300.0', '56840.0', '65090.0', '78200.0', '69700.0', '127400.0', '18678.0', '28750.0', '59300.0', '60700.0', '74099.0', '1150000.0', '2500000.0', '7700.0', '45550.0', '52535.0', '30700.0', '96800.0', '13300.0', '10900.0', '42450.0', '61700.0', '12.0', '73600.0', '185837.0', '1700.0', '50700.0', '28970.0', '177000.0', '920000.0', '10.0', '78800.0', '31100.0', '300.0', '102300.0', '45670.0', '51600.0', '92700.0', '64600.0', '212000.0', '68600.0', '30100.0', '213000.0', '620000.0', '6800.0', '89300.0', '40400.0', '67956.0', '73900.0', '5700.0', '85700.0', '74900.0', '1600000.0', '35650.0', '50340.0', '95800.0', '14275.0', '1700000.0', '385000.0', '16900.0', '78990.0', '258000.0', '50090.0', '69300.0', '25100.0', '93700.0', '3400.0', '3700.0', '80009.0', '94612.0', '29.0', '20400.0', '98650.0', '47400.0', '34100.0', '53.0', '70500.0', '1800000.0', '86900.0', '48969.0', '5000000.0', '1900000.0', '35100.0', '43100.0', '123455.0', '24614.0', '52900.0', '48400.0', '58.0', '19130.0', '73009.0', '96500.0', '61800.0', '289000.0', '35780.0', '344000.0', '83400.0', '56600.0', '29450.0', '85009.0', '183000.0', '32456.0', '17100.0', '60430.0', '57700.0', '9800.0', '85400.0', '48543.0', '630045.0', '12750.0', '22450.0', '20100.0', '45645.0', '22100.0', '810000.0', '640000.0', '24350.0', '69900.0', '66800.0', '435000.0', '53084.0', '56390.0', '660000.0', '60300.0', '49400.0', '122300.0', '312000.0', '30450.0', '217000.0', '75200.0', '42670.0', '21.0', '30300.0', '29350.0', '49200.0', '4300.0', '1050000.0', '42850.0', '20290.0', '84300.0', '29711.0', '67278.0', '128500.0', '94500.0', '238000.0', '33.0', '57100.0', '78440.0', '63423.0', '112500.0', '10600.0', '247000.0', '456200.0', '64.0', '40299.0', '62600.0', '2300000.0', '50099.0', '36985.0', '41221.0', '59999.0', '36580.0', '498000.0', '50999.0', '96400.0', '103500.0', '860000.0', '23788.0', '54.0', '132500.0', '24789.0', '1110000.0', '112600.0', '62363.0', '48680.0', '394066.0', '56789.0', '21843.0', '26799.0', '79970.0', '24540.0', '32370.0', '70900.0', '89999.0', '43680.0', '47890.0', '23145.0', '23456.0', '45780.0', '34890.0', '130500.0', '98300.0', '37100.0', '207000.0', '14400.0', '20010.0', '850003.0', '47650.0', '229000.0', '76600.0', '9900.0', '48100.0', '59400.0', '28650.0', '93200.0', '287000.0', '33300.0', '39850.0', '2400.0', '39708.0', '970000.0', '61200.0', '14031.0', '93800.0', '9300.0', '29100.0', '335000.0', '89800.0', '27560.0', '555555.0', '55300.0', '98400.0', '87700.0', '68450.0', '25678.0', '12650.0', '21785.0', '45850.0', '25888.0', '38650.0', '21017.0', '32430.0', '45777.0', '54726.0', '51348.0', '37890.0', '59380.0', '73750.0', '17700.0', '109500.0', '45650.0', '32899.0', '97600.0', '77700.0', '81200.0', '930000.0', '36750.0', '169000.0', '49584.0', '66666.0', '32460.0', '30750.0', '63300.0', '75099.0', '77777.0', '286000.0', '90497.0', '54650.0', '30600.0', '610000.0', '23480.0', '36243.0', '445000.0', '40003.0', '98548.0', '70800.0', '37380.0', '134090.0', '24678.0', '12754.0', '34680.0', '36980.0', '52370.0', '37450.0', '65555.0', '43780.0', '83700.0', '14780.0', '31150.0', '27890.0', '21880.0', '38750.0', '31.0', '89560.0', '15100.0', '53009.0', '62243.0', '507000.0', '25780.0', '1930000.0', '31750.0', '27099.0', '27009.0', '4100.0', '10555.0', '30177.0', '77400.0', '243000.0', '34660.0', '32660.0', '39560.0', '180.0', '62100.0', '49999.0', '45999.0', '960000.0', '86.0', '63510.0', '400.0', '11209.0', '23644.0', '112400.0', '66300.0', '10250.0', '30090.0', '224000.0', '43560.0', '53900.0', '89900.0', '62200.0', '14543.0', '40380.0', '365000.0', '71400.0', '29670.0', '102500.0', '568000.0', '32590.0', '48590.0', '37692.0', '27572.0', '55200.0', '405000.0', '14900.0', '21100.0', '1350000.0', '176500.0', '26390.0', '830000.0', '22.0', '25625.0', '234000.0', '624800.0', '264000.0', '95600.0', '65899.0', '30762.0', '24580.0', '128900.0', '203000.0', '85300.0', '36658.0', '66600.0', '620105.0', '27450.0', '37009.0', '75090.0', '23618.0', '77300.0', '34636.0', '17690.0', '78100.0', '76900.0', '58643.0', '38945.0', '49860.0', '278000.0', '31272.0', '52595.0', '95900.0', '86790.0', '64900.0', '8800.0', '11100.0', '1750000.0', '1300.0', '100900.0', '80040.0', '59900.0', '55848.0', '82560.0', '23646.0', '48765.0', '80368.0', '35750.0', '69400.0', '36780.0', '614064.0', '14660.0', '13100.0', '45356.0', '92100.0', '91800.0', '18750.0', '51100.0', '3300.0', '5200.0', '63839.0', '82800.0', '188540.0', '123700.0', '77465.0', '56790.0', '85099.0', '34415.0', '85899.0', '6.0', '205700.0', '24650.0', '67600.0', '218500.0', '53550.0', '29999.0', '100500.0', '246000.0', '200.0', '45060.0', '30850.0', '72228.0', '101500.0', '17350.0', '44400.0', '47560.0', '1400.0', '30595.0', '38642.0', '3500000.0', '96300.0', '37850.0', '8.0', '126800.0', '28100.0', '204600.0', '49100.0', '16619.0', '85900.0', '298000.0', '42560.0', '93600.0', '63600.0', '487000.0', '97300.0', '67340.0', '89200.0', '20994.0', '14100.0', '16250.0', '83600.0', '48790.0', '397000.0', '110700.0', '90500.0', '22760.0', '1950000.0', '157890.0', '84578.0', '105800.0', '56899.0', '990000.0', '45750.0', '69600.0', '112700.0', '63900.0', '19850.0', '67450.0', '87200.0', '29780.0', '38850.0', '34250.0', '76700.0', '17797.0', '65099.0', '24990.0', '6530.0', '78876.0', '21490.0', '23880.0', '49876.0', '19526.0', '13840.0', '10400.0', '35098.0', '89650.0', '118320.0', '45525.0', '19550.0', '44.0', '38790.0', '27970.0', '27100.0', '22750.0', '65890.0', '17236.0', '46783.0', '44444.0', '66400.0', '249275.0', '62627.0', '62900.0', '38550.0', '51020.0', '1847.0', '70099.0', '150500.0', '47095.0', '74200.0', '393371.0', '253000.0', '345287.0', '99500.0', '47550.0', '110300.0', '267000.0', '61660.0', '27684.0', '30970.0', '63250.0', '39081.0', '35670.0', '45680.0', '76350.0', '55650.0', '115500.0', '32170.0', '49.0', '30652.0', '350099.0', '998000.0', '67999.0', '45350.0', '113400.0', '69.0', '31250.0', '206000.0', '43654.0', '34722.0', '277000.0', '41250.0', '73973.0', '81400.0', '59200.0', '29950.0', '96.0', '50800.0', '34999.0', '69999.0', '16850.0', '105.0', '41350.0', '76689.0', '666037.0', '84950.0', '78700.0', '257000.0', '73450.0', '34334.0', '12247.0', '24657.0', '720000.0', '25990.0', '8300.0', '6100.0', '74432.0', '98800.0', '14294.0', '245999.0', '29981.0', '42650.0', '38456.0', '28790.0', '108500.0', '427000.0', '36540.0', '26.0', '16650.0', '56890.0', '96112.0', '45555.0', '74700.0', '36560.0', '93400.0', '47840.0', '43605.0', '78778.0', '35550.0', '98200.0', '44850.0', '17890.0', '18765.0', '89457.0', '59.0', '90800.0', '63009.0', '33810.0', '10200.0', '48275.0', '58532.0', '840000.0', '48760.0', '7800.0', '42460.0', '94300.0', '139500.0', '52250.0', '9699.0', '5800.0', '181000.0', '40090.0', '5300.0', '54100.0', '79211.0', '274000.0', '128700.0', '73567.0', '34009.0', '32958.0', '75763.0', '46890.0', '46360.0', '79100.0', '67780.0', '45567.0', '113800.0', '78999.0', '56945.0', '67777.0', '69200.0', '72900.0', '241000.0', '65527.0', '27432.0', '21852.0', '125009.0', '195900.0', '72200.0', '256000.0', '38922.0', '4700.0', '91467.0', '368000.0', '62873.0', '41235.0', '125700.0', '56556.0', '67955.0', '117525.0', '64753.0', '71900.0', '66750.0', '84900.0', '43657.0', '47100.0', '124600.0', '237000.0', '47750.0', '25950.0', '25213.0', '136500.0', '10145.0', '34672.0', '126500.0', '47878.0', '51250.0', '88600.0', '85200.0', '45909.0', '35250.0', '60999.0', '67888.0', '25406.0', '16780.0', '60499.0', '46785.0', '527.0', '64719.0', '47755.0', '68880.0', '32655.0', '70371.0', '254000.0', '38670.0', '22522.0', '57943.0', '119.0', '47360.0', '33750.0', '63845.0', '63.0', '59470.0', '86350.0', '46540.0', '37140.0', '10300.0', '128310.0', '800.0', '45050.0', '15678.0', '45934.0', '42240.0', '126660.0', '57456.0', '15396.0', '55678.0', '54645.0', '31589.0', '25368.0', '98343.0', '75347.0', '15009.0', '19350.0', '34580.0', '42479.0', '32840.0', '257980.0', '12663.0', '38100.0', '89656.0', '1580000.0', '45100.0', '12666.0', '63450.0', '488000.0', '39100.0', '36790.0', '26216.0', '23009.0', '67823.0', '32670.0', '16653.0', '42234.0', '9700.0', '29870.0', '52473.0', '39650.0', '54980.0', '2600.0', '63100.0', '60800.0', '45790.0', '145700.0', '84530.0', '2400000.0', '81300.0', '25999.0', '11550.0', '425000.0', '32750.0', '68890.0', '33060.0', '18756.0', '76090.0', '21120.0', '24230.0', '112560.0', '35850.0', '110009.0', '15350.0', '16890.0', '15279.0', '46782.0', '41456.0', '31670.0', '47290.0', '110500.0', '77900.0', '65750.0', '49532.0', '109850.0', '26850.0', '18560.0', '27060.0', '60099.0', '43789.0', '20260.0', '48580.0', '97400.0', '98990.0', '62.0', '122400.0', '38780.0', '770000.0', '46760.0', '95664.0', '47099.0', '39450.0', '590000.0', '31990.0', '89100.0', '123400.0', '13319.0', '309.0', '54090.0', '34750.0', '9600.0', '2150.0', '114500.0', '115400.0', '122700.0', '61400.0', '43436.0', '46780.0', '28670.0', '22280.0', '78058.0', '35675.0', '46110.0', '58009.0', '50830.0', '52486.0', '43380.0', '45990.0', '86540.0', '43678.0', '82.0', '13644.0', '34189.0', '20420.0', '56780.0', '25937.0', '56777.0', '32580.0', '311000.0', '25555.0', '219000.0', '125900.0', '91500.0', '232000.0', '690000.0', '56823.0', '16.0', '19743.0', '80400.0', '42509.0', '43749.0', '155500.0', '236000.0', '12604.0', '69100.0', '39760.0', '47770.0', '454080.0', '24365.0', '95009.0', '999999.0', '125800.0', '75676.0', '72563.0', '35897.0', '663467.0', '89790.0', '54677.0', '119500.0', '47927.0', '28960.0', '39080.0', '35999.0', '90200.0', '137800.0', '33980.0', '40020.0', '12792.0', '45099.0', '39960.0', '485000.0', '57770.0', '28760.0', '160.0', '46612.0', '248002.0', '74.0', '9850.0', '4600.0', '36520.0', '28374.0', '17227.0', '618183.0', '15474.0', '45001.0', '98562.0', '43440.0', '34222.0', '55344.0', '820000.0', '14131.0', '32790.0', '19730.0', '601505.0', '215731.0', '76100.0', '78350.0', '7126.0', '89400.0', '85800.0', '31550.0', '127685.0', '50990.0', '21250.0', '44106.0', '14850.0', '58657.0', '26680.0', '42750.0', '35140.0', '24680.0', '39567.0', '29550.0', '49657.0', '47980.0', '49950.0', '99900.0', '35478.0', '73686.0', '652380.0', '127539.0', '74840.0', '42999.0', '31560.0', '12280.0', '81900.0', '44992.0', '15890.0', '79666.0', '103800.0', '60470.0', '33250.0', '80700.0', '36789.0', '21756.0', '59870.0', '21584.0', '600.0', '22250.0', '45770.0', '38009.0', '55995.0', '455000.0', '76899.0', '25556.0', '50520.0', '16054.0', '26840.0', '9100.0', '65550.0', '55100.0', '41050.0', '56247.0', '69680.0', '87800.0', '12100.0', '56858.0', '33857.0', '65450.0', '43576.0', '53765.0', '19230.0', '40230.0', '36978.0', '92400.0', '357000.0', '15843.0', '12579.0', '67530.0', '12726.0', '78103.0', '156600.0', '35610.0', '24550.0', '142304.0', '91780.0', '62385.0', '50100.0', '75786.0', '880000.0', '23654.0', '42890.0', '83.0', '43540.0', '64325.0', '45987.0', '1859.0', '43333.0', '11750.0', '18240.0', '34564.0', '128630.0', '2800000.0', '38520.0', '184530.0', '49750.0', '52350.0', '4400.0', '54320.0', '3600.0', '348000.0', '123456.0', '24560.0', '42006.0', '15485.0', '108900.0', '14763.0', '378980.0', '26990.0', '26090.0', '186987.0', '228000.0', '396607.0', '44678.0', '12890.0', '86543.0', '66.0', '40700.0', '71600.0', '34996.0', '33989.0', '1125.0', '614030.0', '56078.0', '72430.0', '43850.0', '65123.0', '34850.0', '386245.0', '27456.0', '87534.0', '67347.0', '36465.0', '51.0', '53100.0', '296000.0', '21990.0', '201000.0', '79600.0', '641870.0', '85650.0', '60600.0', '29680.0', '105444.0', '21720.0', '65568.0', '46730.0', '29948.0', '162500.0', '8940.0', '56470.0', '19187.0', '35099.0', '65999.0', '147689.0', '250.0', '29370.0', '49850.0', '35899.0', '35076.0', '36190.0', '445560.0', '88500.0', '123300.0', '57820.0', '259000.0', '41460.0', '49650.0', '99800.0', '65520.0', '46680.0', '31240.0', '143965.0', '74532.0', '125400.0', '60555.0', '92900.0', '35799.0', '620004.0', '40100.0', '78980.0', '145800.0', '21550.0', '28163.0', '39150.0', '76.0', '7568.0', '64560.0', '144674.0', '82700.0', '80300.0', '86800.0', '29501.0', '32850.0', '30999.0', '25090.0', '23270.0', '192929.0', '22850.0', '328000.0', '32150.0', '65100.0', '17990.0', '52342.0', '79.0', '82400.0', '28765.0', '450001.0', '33333.0', '6311.0', '75999.0', '58450.0', '26970.0', '461430.0', '26106.0', '39876.0', '18080.0', '36785.0', '17112007.0', '72100.0', '85555.0', '117303.0', '13299.0', '83200.0', '12355.0', '28325.0', '26570.0', '28768.0', '67540.0', '92800.0', '31058.0', '3544.0', '17680.0', '112300.0', '146700.0', '43989.0', '80200.0', '45890.0', '84200.0', '76540.0', '134440.0', '596000.0', '27360.0', '14098.0', '21876.0', '22699.0', '42780.0', '86990.0', '6451.0', '123500.0', '19650.0', '45863.0', '94200.0', '92600.0', '78.0', '123800.0', '58690.0', '20999.0', '30050.0', '143910.0', '38052.0', '978990.0', '7221.0', '65470.0', '20062.0', '56329.0', '23783.0', '46715.0', '70533.0', '57677.0', '100800.0', '456040.0', '30651.0', '19504.0', '97999.0', '21958.0', '56740.0', '16435.0', '60654.0', '43520.0', '24999.0', '136700.0', '28450.0', '25670.0', '46967.0', '52108.0', '122500.0', '37650.0', '43809.0', '89467.0', '31175.0', '77.0', '103106.0', '65350.0', '450003.0', '2550.0', '35450.0', '52009.0', '60930.0', '366000.0', '700.0', '21457.0', '346050.0', '137542.0', '108700.0', '443009.0', '27580.0', '45584.0', '46230.0', '12560.0', '62580.0', '69009.0', '51028.0', '38459.0', '38890.0', '32740.0', '54009.0', '25850.0', '24658.0', '17805.0', '47388.0', '56520.0', '38999.0', '18450.0', '37870.0', '24009.0', '560800.0', '78545.0', '110.0', '76890.0', '60756.0', '34909.0', '21740.0', '60254.0', '88900.0', '12550.0', '53876.0', '98545.0', '87870.0', '44770.0', '54763.0', '41850.0', '103700.0', '209000.0', '346007.0', '87650.0', '78650.0', '55999.0', '31853.0', '57350.0', '38276.0', '847000.0', '18250.0', '21509.0', '80900.0', '43670.0', '76985.0', '25240.0', '84140.0', '415000.0', '1670000.0', '189870.0', '51480.0', '54745.0', '38668.0', '850900.0', '4900.0', '20450.0', '34820.0', '157750.0', '12350.0', '43750.0', '88300.0', '376689.0', '35990.0', '355003.0', '11760.0', '54129.0', '85963.0', '55099.0', '35348.0', '54099.0', '128040.0', '53750.0', '22555.0', '37925.0', '46099.0', '6400.0', '15492.0', '125500.0', '39050.0', '29689.0', '48245.0', '65250.0', '32097.0', '48264.0', '115270.0', '42131.0', '79090.0', '28880.0', '37425.0', '20456.0', '168400.0', '204500.0', '44602.0', '23250.0', '10355.0', '21792.0', '76342.0', '46350.0', '12625.0', '169800.0', '17865.0', '88888.0', '108758.0', '28592.0', '32540.0', '45860.0', '540.0', '42250.0', '18631.0', '11536.0', '78563.0', '149500.0', '96789.0', '34115.0', '780023.0', '55614.0', '14145.0', '38640.0', '87660.0', '35980.0', '500001.0', '45808.0', '6600.0', '46183.0', '138900.0', '65432.0', '16544.0', '35760.0', '58100.0', '18790.0', '82545.0', '65850.0', '18564.0', '111254.0', '13780.0', '11625.0', '37520.0', '454077.0', '109800.0', '54890.0', '26563.0', '24750.0', '305000.0', '34767.0', '35689.0', '71100.0', '37697.0', '37630.0', '387500.0', '397855.0', '40650.0', '85876.0', '38490.0', '37895.0', '31984.0', '10099.0', '49870.0', '30548.0', '629603.0', '62010.0', '118600.0', '75264.0', '214900.0', '43880.0', '68636.0', '355000.0', '98789.0', '301822.0', '16586.0', '215148.0', '115600.0', '117042.0', '130.0', '36320.0', '29564.0', '12962.0', '15750.0', '43009.0', '22478.0', '36307.0', '23598.0', '25870.0', '90700.0', '87544.0', '32980.0', '456000.0', '121300.0', '25869.0', '38760.0', '43008.0', '97655.0', '53780.0', '45732.0', '650900.0', '12140.0', '83800.0', '197900.0', '65895.0', '77600.0', '8518.0', '11647.0', '73560.0', '120500.0', '19242.0', '21056.0', '53238.0', '85645.0', '624391.0', '25791.0', '3250.0', '75700.0', '19371.0', '27575.0', '374700.0', '135500.0', '42870.0', '96600.0', '26450.0', '14553.0', '37540.0', '108690.0', '48450.0', '49370.0', '196988.0', '70100.0', '66200.0', '7586.0', '58560.0', '37680.0', '31530.0', '394000.0', '19920.0', '37738.0', '14.0', '98484.0', '55550.0', '52890.0', '68817.0', '460009.0', '88250.0', '23685.0', '36421.0', '45360.0', '32165.0', '43899.0', '18723.0', '77650.0', '72690.0', '54780.0', '273000.0', '19360.0', '19756.0', '13146.0', '10596.0', '38350.0', '34067.0', '48650.0', '37684.0', '53265.0', '326000.0', '75850.0', '124700.0', '28678.0', '16094.0', '22650.0', '64355.0', '189300.0', '34789.0', '13882.0', '6900.0', '42570.0', '56550.0', '90999.0', '28490.0', '900.0', '59990.0', '34766.0', '17292.0', '149876.0', '745000.0', '77200.0', '143500.0', '1900.0', '27370.0', '25460.0', '34540.0', '15261.0', '68350.0', '240.0', '86099.0', '38770.0', '49990.0', '149201.0', '45802.0', '46009.0', '26780.0', '29170.0', '629303.0', '198620.0', '17335.0', '52760.0', '418000.0', '25750.0', '140120.0', '89478.0', '650.0', '45677.0', '55968.0', '23286.0', '11280.0', '87618.0', '67009.0', '40560.0', '650999.0', '50703.0', '36798.0', '26350.0', '238563.0', '160733.0', '25324.0', '19670.0', '658720.0', '36450.0', '1550.0', '48679.0', '33790.0', '28270.0', '81600.0', '34333.0', '23854.0', '52150.0', '47985.0', '52643.0', '6700.0', '46053.0', '19990.0', '42520.0', '82900.0', '75799.0', '100010.0', '101100.0', '65368.0', '73300.0', '191500.0', '85605.0', '48333.0', '47857.0', '535000.0', '35444.0', '98250.0', '3440.0', '26335.0', '129301.0', '16550.0', '24100.0', '69650.0', '17825.0', '271000.0', '45760.0', '33890.0', '10009.0', '102700.0', '66789.0', '28736.0', '1250.0', '34246.0', '624641.0', '55439.0', '25988.0', '25125.0', '32099.0', '94768.0', '42380.0', '8400.0', '19450.0', '26789.0', '48463.0', '19531.0', '208000.0', '145670.0', '72999.0', '89090.0', '4550.0', '45689.0', '20086.0', '14140.0', '79400.0', '44100.0', '22109.0', '120009.0', '28550.0', '27865.0', '64009.0', '16215.0', '49525.0', '68120.0', '39680.0', '23.41', '57656.0', '49970.0', '46750.0', '28870.0', '42875.0', '357930.0', '52175.0', '19980.0', '44460.0', '23162.0', '300911.0', '92200.0', '43890.0', '58992.0', '59765.0', '156500.0', '320.0', '48978.0', '431445.0', '15680.0', '42678.0', '42860.0', '70200.0', '30470.0', '21726.0', '84400.0', '48890.0', '120999.0', '34090.0', '67435.0', '35870.0', '8900.0', '73214.0', '43567.0', '660125.0', '60845.0', '53835.0', '135700.0', '307170.0', '111111.0', '123600.0', '57890.0', '36249.0', '39009.0', '27850.0', '64336.0', '28908.0', '96200.0', '11060.0', '70990.0', '16790.0', '88420.0', '153610.0', '3100.0', '46596.0', '13386.0', '18952.0', '364000.0', '120900.0', '39750.0', '34760.0', '34770.0', '38563.0', '11844.0', '95090.0', '45849.0', '147700.0', '63356.0', '450009.0', '346751.0', '20894.0', '39356.0', '57999.0', '57640.0', '66900.0', '22857.0', '354000.0', '43350.0', '90009.0', '42099.0', '1240.0', '619650.0', '26890.0', '426063.0', '27990.0', '137500.0', '89990.0', '329000.0', '122800.0', '17685.0', '222000.0', '61600.0', '39540.0', '37999.0', '92345.0', '23790.0', '78320.0', '95107.0', '11170.0', '183900.0', '18670.0', '23465.0', '258960.0', '152020.0', '297000.0', '114200.0', '45250.0', '48337.0', '41400.0', '25875.0', '64760.0', '26750.0', '79009.0', '22480.0', '128300.0', '55150.0', '19565.0', '45679.0', '27640.0', '28563.0', '45673.0', '14970.0', '65455.0', '614512.0', '18876.0', '193500.0', '74404.0', '14176.0', '99540.0', '45230.0', '119027.0', '58570.0', '36850.0', '20457.0', '22345.0', '37920.0', '55450.0', '37690.0', '68750.0', '102386.0', '42218.0', '423564.0', '3900.0', '208800.0', '46778.0', '27835.0', '602021.0', '12540.0', '567000.0', '43790.0', '22990.0', '54350.0', '1450000.0', '250008.0', '68286.0', '88800.0', '110600.0', '44567.0', '22869.0', '23657.0', '88200.0', '25960.0', '19392.0', '41450.0', '32340.0', '24805.0', '36244.0', '142900.0', '75237.0', '116500.0', '14112.0', '48630.0', '138500.0', '66660.0', '52090.0', '56650.0', '30590.0', '15190.0', '43867.0', '29856.0', '108300.0', '27566.0', '54367.0', '16353.0', '32459.0', '85360.0', '227000.0', '27368.0', '52499.0', '313000.0', '50480.0', '65487.0', '65786.0', '87009.0', '52750.0', '38299.0', '51280.0', '12340.0', '250001.0', '54850.0', '353900.0', '12240.0', '60850.0', '646671.0', '40999.0', '1100.0', '17880.0', '184840.0', '30004.0', '60149.0', '49092.0', '622016.0', '195248.0', '33240.0', '500067.0', '48235.0', '34678.0', '51285.0', '62178.0', '28570.0', '140099.0', '386751.0', '163772.0', '29876.0', '24980.0', '48950.0', '120004.0', '24534.0', '4580.0', '78560.0', '39845.0', '35770.0', '34057.0', '25546.0', '4328.0', '33030.0', '76544.0', '101200.0', '35660.0', '45358.0', '340600.0', '21698.0', '56743.0', '26163.0', '35445.0', '90990.0', '46789.0', '30978.0', '32145.0', '100050.0', '24216.0', '50199.0', '23586.0', '453233.0', '30540.0', '35754.0', '48521.0', '2100.0', '29885.0', '104800.0', '20009.0', '25580.0', '27411.0', '16853.0', '24345.0', '12444.0', '46531.0', '39826.0', '10548.0', '25890.0', '52340.0', '56760.0', '7450.0', '114700.0', '26099.0', '12454.0', '61872.0', '261000.0', '56830.0', '8100.0', '46850.0', '52354.0', '33509.0', '37817.0', '124620.0', '20895.0', '37007.0', '52675.0', '20064.0', '54790.0', '76980.0', '633010.0', '43594.0', '34790.0', '39555.0', '64890.0', '26666.0', '498644.0', '48787.0', '39745.0', '32766.0', '71630.0', '665814.0', '18100.0', '33867.0', '87543.0', '25782.0', '45328.0', '27350.0', '44563.0', '36670.0', '84055.0', '55890.0', '54958.0', '5000060000.0', '43650.0', '124750.0', '65210.0', '34990.0', '37568.0', '190430.0', '36050.0', '16758.0', '23350.0', '30537.0', '18345.0', '42543.0', '24459.0', '650990.0', '231000.0', '898788.0', '175100.0', '36270.0', '26170.0', '59986.0', '29790.0', '33785.0', '52157.0', '44900.0', '160483.0', '19279.0', '57654.0', '13170.0', '114250.0', '80800.0', '368608.0', '1256.0', '171163.0', '62999.0', '420034.0', '22456.0', '43490.0', '357500.0', '180679.0', '199800.0', '25490.0', '36324.0', '520030.0', '32841.0', '57650.0', '55490.0', '51780.0', '300090.0', '70432.0', '46790.0', '14450.0', '126700.0', '45532.0', '55245.0', '64389.0', '148200.0', '15687.0', '28756.0', '50233.0', '70319.0', '60570.0', '248000.0', '54651.0', '42550.0', '35467.0', '89563.0', '54673.0', '64570.0', '461832.0', '42289.0', '43370.0', '23608.0', '30120.0', '68100.0', '37980.0', '35679.0', '42528.0', '14623.0', '47234.0', '30880.0', '36570.0', '8200.0', '78340.0', '39350.0', '35988.0', '20102.0', '24446.0', '58680.0', '81285.0', '113449.0', '42356.0', '55686.0', '16030.0', '134876.0', '17250.0', '217500.0', '3750.0', '16986.0', '54375.0', '65456.0', '126300.0', '100056.0', '35890.0', '14350.0', '43550.0', '50328.0', '70470.0', '49250.0', '58038.0', '6350.0', '40810.0', '13850.0', '48750.0', '214027.0', '202000.0', '26777.0', '39311.0', '21390.0', '2390000.0', '27840.0', '76387.0', '682896.0', '56999.0', '40957.0', '60002.0', '60580.0', '156900.0', '750001.0', '33001.0', '39640.0', '35230.0', '34644.0', '13380.0', '35580.0', '28786.0', '346510.0', '37370.0', '461812.0', '27680.0', '57299.0', '48976.0', '252000.0', '350001.0', '105700.0', '68117.0', '59009.0', '223000.0', '679000.0', '52263.0', '87367.0', '19948.0', '46660.0', '30060.0', '30679.0', '18654.0', '17895.0', '53280.0', '850.0', '35809.0', '75008.0', '10050.0', '129999.0', '279000.0', '51784.0', '432000.0', '91954.0', '45590.0', '450.0', '43628.0', '49320.0', '19888.0', '58907.0', '29867.0', '27540.0', '43565.0', '48560.0', '18976.0', '357202.0', '13567.0', '58340.0', '9200.0', '35157.0', '23640.0', '15780.0', '45943.0', '15850.0', '33281.0', '58990.0', '45379.0', '156789.0', '45768.0', '23110.0', '26590.0', '35432.0', '37924.0', '42252.0', '91536.0', '45578.0', '43450.0', '113810.0', '32130.0', '29250.0', '51753.0', '71009.0', '53290.0', '47670.0', '275.0', '68850.0', '45097.0', '150999.0', '68799.0', '72420.0', '33698.0', '360024.0', '29276.0', '22540.0', '24870.0', '19.0', '38720.0', '38580.0', '95632.0', '430005.0', '17625.0', '68430.0', '65860.0', '116900.0', '111024.0', '13460.0', '479000.0', '800008.0', '86250.0', '41835.0', '765000.0', '31574.0', '200009.0', '756000.0', '78541.0', '139220.0', '527000.0', '41560.0', '92.0', '40377.0', '203500.0', '127865.0', '47342.0', '25360.0', '34568.0', '54380.0', '119600.0', '42030.0', '79250.0', '85678.0', '35570.0', '63390.0', '48990.0', '25450.0', '65340.0', '76242.0', '156700.0', '25709.0', '127578.0', '72468.0', '56350.0', '180002.0', '22320.0', '25430.0', '357703.0', '68140.0', '70400.0', '78098.0', '47320.0', '19099.0', '172900.0', '25467.0', '376000.0', '58890.0', '61942.0', '353561.0', '62376.0', '45236.0', '50250.0', '23868.0', '22080.0', '32678.0', '15365.0', '42630.0', '46719.0', '113700.0', '38751.0', '28453.0', '180400.0', '120044.0', '18624.0', '46046.0', '23769.0', '64350.0', '14250.0', '222071.0', '46100.0', '77890.0', '27502.0', '120099.0', '620026.0', '652150.0', '27340.0', '283000.0', '42760.0', '115300.0', '89.0', '27499.0', '45829.0', '75682.0', '12045.0', '35090.0', '67560.0', '16949.0', '316000.0', '171121.0', '259600.0', '253590.0', '353587.0', '25650.0', '93787.0', '18850.0', '46830.0', '100002.0', '26141.0', '13650.0', '63281.0', '80850.0', '36420.0', '23690.0', '40754.0', '86750.0', '107600.0', '21530.0', '24660.0', '50006.0', '125600.0', '53650.0', '57855.0', '50474.0', '13945.0', '57444.0', '58737.0', '27090.0', '13909.0', '15355.0', '11644.0', '35664.0', '417000.0', '398000.0', '51796.0', '155360.0', '125467.0', '7900.0', '22369.0', '37546.0', '12245.0', '14580.0', '28699.0', '101675.0', '25856.0', '61450.0', '303000.0', '700899.0', '143904.0', '400012.0', '51147.0', '76780.0', '14550.0', '75950.0', '30250.0', '78680.0', '33253.0', '47868.0', '40424.0', '80542.0', '72350.0', '41006.0', '404145.0', '43987.0', '34705.0', '630030.0', '67980.0', '12460.0', '36840.0', '49573.0', '97250.0', '35987.0', '55090.0', '63460.0', '107150.0', '97870.0', '109700.0', '84033.0', '118700.0', '48964.0', '109052.0', '70600.0', '34548.0', '33650.0', '113629.0', '134531.0', '28998.0', '23386.0', '67369.0', '56782.0', '43569.0', '356760.0', '134300.0', '640002.0', '14052005.0', '36150.0', '18950.0', '24770.0', '49541.0', '53456.0', '54678.0', '105900.0', '46732.0', '20235.0', '32625.0', '22130.0', '36589.0', '420100.0', '25453.0', '65258.0', '130900.0', '28677.0', '19780.0', '27460.0', '85670.0', '940000.0', '82100.0', '142207.0', '242000.0', '9213.0', '32070.0', '92145.0', '176756.0', '53233.0', '56937.0', '78950.0', '141859.0', '15660.0', '54270.0', '68009.0', '65789.0', '355008.0', '34893.0', '69780.0', '14429.0', '256718.0', '630056.0', '45340.0', '175555.0', '42340.0', '32567.0', '107200.0', '97560.0', '71080.0', '14150.0', '21518.0', '52369.0', '23870.0', '49830.0', '27989.0', '304000.0', '54789.0', '34480.0', '32640.0', '1650.0', '36009.0', '120400.0', '39550.0', '48576.0', '37837.0', '51304.0', '98654.0', '48050.0', '446011.0', '26567.0', '153244.0', '24779.0', '34650.0', '88360.0', '57060.0', '50678.0', '69640.0', '44301.0', '24530.0', '72590.0', '87563.0', '39675.0', '42321.0', '606340.0', '97900.0', '112701.0', '112455.0', '79532.0', '25050.0', '98760.0', '67333.0', '31710.0', '3576.0', '21789.0', '52999.0', '56820.0', '169907.0', '109860.0', '54999.0', '26550.0', '249500.0', '28469.0', '40250.0', '12130.0', '67590.0', '55420.0', '1933312.0', '46430.0', '28990.0', '620039.0', '22150.0', '24500.7', '603047.0', '98900.0', '23780.0', '17689.0', '50440.0', '195.0', '68990.0', '31480.0', '31850.0', '35789.0', '678000.0', '50465.0', '52833.0', '47953.0', '29986.0', '253500.0', '15650.0', '33850.0', '72700.0', '33689.0', '62320.0', '23311.0', '50304.0', '54345.0', '52260.0', '77100.0', '25776.0', '29040.0', '394024.0', '167300.0', '17470.0', '11563.0', '114300.0', '284000.0', '65299.0', '196624.0', '57345.0', '37777.0', '12870.0', '56210.0', '77850.0', '34980.0', '189900.0', '300009.0', '22050.0', '754090.0', '44570.0', '244000.0', '89872.0', '40642.0', '53890.0', '355040.0', '2200000.0', '57731.0', '198500.0', '45596.0', '385060.0', '57488.0', '46250.0', '27108.0', '20641.0', '19480.0', '38540.0', '26580.0', '79990.0', '7.0', '133100.0', '246500.0', '81560.0', '18150.0', '25384.0', '71890.0', '249000.0', '69990.0', '73295.0', '24555.0', '241006.0', '39580.0', '2580.0', '135099.0', '43875.0', '359000.0', '118888.0', '44670.0', '41080.0', '106600.0', '82450.0', '72009.0', '37560.0', '29890.0', '19870.0', '21450.0', '90900.0', '123678.0', '42736.0', '656012.0', '28536.0', '158508.0', '79632.0', '145500.0', '38917.0', '27358.0', '20778.0', '123900.0', '77450.0', '86765.0', '47625.0', '403533.0', '378000.0', '75089.0', '42150.0', '57653.0', '33760.0', '53672.0', '103400.0', '67750.0', '2009.0', '34658.0', '25698.0', '288000.0', '65430.0', '82350.0', '54986.0', '65490.0', '57980.0', '610061.0', '96320.0', '5555.0', '154800.0', '47425.0', '85090.0', '4500000.0', '103499.0', '50820.0', '83739.0', '142500.0', '90400.0', '67100.0', '387000.0', '34995.0', '74935.0', '20880.0', '24470.0', '55960.0', '32814.0', '51047.0', '91073.0', '34670.0', '40056.0', '123077.0', '38038.0', '36160.0', '47707.0', '47190.0', '126789.0', '17535.0', '30720.0', '78945.0', '69369.0', '20004.0', '275346.0', '9730.0', '22830.0', '15334.0', '65345.0', '26740.0', '30015.0', '230.0', '96900.0', '41.0', '35464.0', '128340.0', '43399.0', '48588.0', '125354.0', '35261.0', '35810.0', '21194.0', '323500.0', '43990.0', '380005.0', '197609.0', '655001.0', '140104.0', '43579.0', '19337.0', '119900.0', '630084.0', '91625.0', '98756.0', '162610.0', '855000.0', '45960.0', '34550.0', '47016.0', '20176.0', '46090.0', '515000.0', '61100.0', '391240.0', '54777.0', '1132000.0', '24780.0', '161000.0', '60245.0', '36180.0', '87450.0', '45684.0', '51750.0', '54450.0', '32527.0', '410007.0', '54360.0', '341000.0', '33917.0', '63650.0', '46570.0', '51550.0', '641500.0', '116754.0', '50260.0', '1850.0', '43758.0', '143800.0', '37250.0', '404620.0', '20180.0', '38450.0', '71450.0', '58347.0', '41654.0', '7300.0', '87690.0', '56360.0', '18809.0', '15864.0', '74750.0', '37570.0', '79030.0', '135550.0', '45320.0', '31999.0', '27832.0', '84057.0', '58678.0', '52235.0', '127500.0', '22937.0', '38960.0', '30280.0', '67040.0', '500009.0', '80367.0', '21650.0', '38990.0', '75439.0', '97700.0', '41515.0', '9974.0', '60057.0', '45687.0', '2875.0', '76463.0', '309900.0', '50550.0', '88727.0', '93209.0', '23969.0', '95099.0', '659304.0', '76450.0', '25980.0', '16256.0', '83100.0', '204800.0', '286700.0', '692880.0', '1200090.0', '33670.0', '1840.0', '180360.0', '76666.0', '75033.0', '69520.0', '19760.0', '53250.0', '82550.0', '123100.0', '17986.0', '97320.0', '671050.0', '39067.0', '49109.0', '35776.0', '65180.0', '488800.0', '86886.0', '51170.0', '50277.0', '47554.0', '37440.0', '25367.0', '143200.0', '98.0', '64857.0', '33457.0', '47987.0', '7400.0', '25530.0', '49315.0', '193800.0', '33495.0', '23860.0', '12412.0', '15230.0', '16090.0', '32896.0', '143300.0', '279870.0', '3050.0', '67580.0', '35490.0', '36873.0', '13750.0', '21445.0', '111300.0', '41780.0', '15667.0', '134575.0', '25115.0', '249220.0', '87578.0', '34765.0', '233000.0', '65438.0', '702000.0', '150009.0', '321000.0', '29678.0', '40940.0', '31183.0', '8592.0', '58675.0', '50850.0', '76230.0', '12572.0', '41100.0', '85632.0', '32650.0', '11135.0', '37659.0', '75737.0', '23025.0', '52846.0', '178500.0', '64720.0', '41230.0', '38687.0', '131270.0', '34993.0', '62640.0', '39658.0', '46945.0', '33590.0', '136235.0', '67089.0', '23560.0', '120554.0', '85750.0', '198459.0', '74290.0', '25171.0', '25789.0', '30218.0', '11450.0', '59780.0', '59809.0', '29560.0', '45323.0', '103200.0', '24568.0', '15708.0', '12850.0', '193700.0', '54321.0', '104500.0', '11299.0', '56432.0', '26540.0', '27345.0', '43256.0', '56757.0', '35014.0', '69880.0', '60400.0', '45008.0', '28763.0', '150090.0', '400105.0', '32927.0', '134400.0', '165999.0', '109440.0', '34910.0', '14102.0', '87770.0', '57540.0', '17984.0', '100300.0', '83300.0', '25660.0', '443083.0', '702.0', '68309.0', '131.0', '76568.0', '17958.0', '46875.0', '56460.0', '2900.0', '408000.0', '80383.0', '19820.0', '36965.0', '53460.0', '78312.0', '12180.0', '83760.0', '102988.0', '568887.0', '35857.0', '67830.0', '13444.0', '98750.0', '62350.0', '7237.0', '58050.0', '71800.0', '43574.0', '17550.0', '545000.0', '22342.0', '17545.0', '23522.0', '55630.0', '56832.0', '87930.0', '17948.0', '42690.0', '26341.0', '71804.0', '170042.0', '59100.0', '23490.0', '62540.0', '72211.0', '68575.0', '43651.0', '560.0', '41060.0', '46960.0', '54195.0', '65790.0', '156657.0', '309000.0', '83734.0', '11138.0', '152613.0', '40840.0', '70660.0', '143345.0', '154789.0', '12913.0', '52455.0', '186700.0', '620073.0', '29892.0', '57250.0', '15349.0', '27512.0', '22580.0', '25630.0', '75220.0', '999000.0', '22590.0', '356754.0', '29858.0', '98640.0', '168310.0', '52469.0', '108537.0', '93567.0', '53240.0', '43822.0', '35120.0', '28565.0', '54863.0', '92360.0', '90100.0', '32639.0', '64997.0', '65388.0', '78960.0', '14153.0', '83777.0', '16279.0', '13066.0', '452000.0', '80222.0', '26065.0', '86412.0', '63720.0', '34685.0', '164504.0', '34653.0', '198544.0', '2600000.0', '385018.0', '48820.0', '26710.0', '55354.0', '35397.0', '48090.0', '38280.0', '36140.0', '456604.0', '12090.0', '78956.0', '47481.0', '52485.0', '400001.0', '11820.0', '13789.0', '65070.0', '115763.0', '38375.0', '623847.0', '32687.0', '347526.0', '20659.0', '12370.0', '21345.0', '24381.0', '460003.0', '993000.0', '23514.0', '102800.0', '23850.0', '29635.0', '153800.0', '476000.0', '89722.0', '74530.0', '32105.0', '317000.0', '20115.0', '47860.0', '47950.0', '20444.0', '27355.0', '71508.0', '115900.0', '51650.0', '86760.0', '10869.0', '76832.0', '75895.0', '18545.0', '208456.0', '29340.0', '94560.0', '346132.0', '15007.0', '64689.0', '31468.0', '43289.0', '45809.0', '269656.0', '107656.0', '19995.0', '34031.0', '65412.0', '164570.0', '22876.0', '28770.0', '649000.0', '25938.0', '1027000.0', '63890.0', '46705.0', '52170.0', '93655.0', '32345.0', '395000.0', '22803.0', '360003.0', '221000.0', '199490.0', '44045.0', '18335.0', '165434.0', '37990.0', '17586.0', '60090.0', '252525.0', '64472.0', '144500.0', '156400.0', '21560.0', '62435.0', '8962.0', '312300.0', '4230.0', '54555.0', '37856.0', '27250.0', '20712.0', '450522.0', '98657.0', '11485.0', '62322.0', '167894.0', '29360.0', '367900.0', '32243.0', '696000.0', '83653.0', '433333.0', '95926.0', '90915.0', '32562.0', '75624.0', '26676.0', '18989.0', '66784.0', '54310.0', '81496.0', '78454.0', '14680.0', '84657.0', '11259.0', '36990.0', '32524.0', '712027.0', '60670.0', '121600.0', '49780.0', '239576.0', '52343.0', '48673.0', '35045.0', '56325.0', '91555.0', '46058.0', '76354.0', '73509.0', '36126.0', '131400.0', '69350.0', '10309.0', '8822.0', '16231.0', '38626.0', '28688.0', '72560.0', '91940.0', '46180.0', '65696.0', '209999.0', '49059.0', '31249.0', '30570.0', '49599.0', '93452.0', '520051.0', '22743.0', '50106.0', '37452.0', '26591.0', '446000.0', '35111.0', '29746.0', '95560.0', '628609.0', '37373.0', '122740.0', '240022.0', '11980.0', '95909.0', '61543.0', '108.0', '780.0', '24304.0', '60620.0', '21514.0', '43534.0', '57893.0', '53845.0', '28499.0', '41530.0', '32576.0', '24977.0', '63738.0', '28975.0', '12656.0', '87256.0', '61050.0', '72990.0', '48705.0', '43570.0', '291000.0', '2467.0', '22256.0', '461040.0', '29080.0', '16240.0', '1010.0', '38740.0', '76850.0', '799999.0', '48320.0', '48099.0', '22420.0', '39348.0', '106300.0', '187965.0', '60583.0', '11030.0', '239651.0', '1290000.0', '44009.0', '36555.0', '40842.0', '286130.0', '350901.0', '50142.0', '18406.0', '56909.0', '69210.0', '38140.0', '25356.0', '18644.0', '42725.0', '142585.0', '41985.0', '37923.0', '368500.0', '58980.0', '154673.0', '32749.0', '19685.0', '18787.0', '32261.0', '34150.0', '52450.0', '129900.0', '49798.0', '64370.0', '30990.0', '205500.0', '124125.0', '85100.0', '22570.0', '355535.0', '115830.0', '55479.0', '22860.0', '28476.0', '23750.0', '453184.0', '21326.0', '243578.0', '51840.0', '56254.0', '632925.0', '98879.0', '350024.0', '80001.0', '13507.0', '2570.0', '53670.0', '153700.0', '626191.0', '197700.0', '156550.0', '124204.0', '83838.0', '197600.0', '32796.0', '113325.0', '44216.0', '43257.0', '169712.0', '32760.0', '32954.0', '34422.0', '28968.0', '23144.0', '28636.0', '75890.0', '79450.0', '71700.0', '23758.0', '632336.0', '35439.0', '158736.0', '29206.0', '112200.0', '23915.0', '25675.0', '25641.0', '95780.0', '16535.0', '84567.0', '280008.0', '53258.0', '178600.0', '128.0', '47920.0', '52820.0', '21423.0', '36788.0', '7082017.0', '35645.0', '74356.0', '48399.0', '10098.0', '25140.0', '45666.0', '23680.0', '105870.0', '25034.0', '607511.0', '89282.0', '28465.0', '35745.0', '24670.0', '14162.0', '32835.0', '62398.0', '12980.0', '2229.0', '35611.0', '21178.0', '178968.0', '623100.0', '32060.0', '38765.0', '63830.0', '15857.0', '24942.0', '25568.0', '32473.0', '42036.0', '85430.0', '101845.0', '550009.0', '100999.0', '52882.0', '56874.0', '46799.0', '78930.0', '35547.0', '33157.0', '54273.0', '662060.0', '105670.0', '45333.0', '344041.0', '50130.0', '34673.0', '301090.0', '49447.0', '38820.0', '89877.0', '120460.0', '13526.0', '12262.0', '50505.0', '45280.0', '264700.0', '100700.0', '166590.0', '19956.0', '52850.0', '87566.0', '46375.0', '97964.0', '16290.0', '27946.0', '245670.0', '72509.0', '37490.0', '52099.0', '20099.0', '64250.0', '15764.0', '30988.0', '24730.0', '28745.0', '115088.0', '76009.0', '686314.0', '94650.0', '43583.0', '380006.0', '38420.0', '70380.0', '15090.0', '150042.0', '47599.0', '86920.0', '96890.0', '41165.0', '96140.0', '21488.0', '58765.0', '12235.0', '75643.0', '47230.0', '63950.0', '66990.0', '46354.0', '82479.0', '55180.0', '1370000.0', '30170.0', '25040.0', '74610.0', '345678.0', '30190.0', '33280.0', '128958.0', '1280000.0', '2450000.0', '13624.0', '131875.0', '46835.0', '54292.0', '25148.0', '31246.0', '21456.0', '87989.0', '38627.0', '389000.0', '200099.0', '13562.0', '29628.0', '14860.0', '1015000.0', '26498.0', '72079.0', '391149.0', '87050.0', '32755.0', '1090.0', '20339.0', '97350.0', '20204.0', '31680.0', '15920.0', '36710.0', '167650.0', '13653.0', '24380.0', '2203.0', '654025.0', '168500.0', '52107.0', '52877.0', '54167.0', '22346.0', '52060.0', '252300.0', '32658.0', '38260.0', '379050.0', '28815.0', '677889.0', '91.0', '32806.0', '82540.0', '83629.0', '84100.0', '628181.0', '36960.0', '142855.0', '690034.0', '171256.0', '35240.0', '59850.0', '34962.0', '19562.0', '14490.0', '78376.0', '35181.0', '50852.0', '27813.0', '44875.0', '24799.0', '29990.0', '41120.0', '150010.0', '54870.0', '12450.0', '7758.0', '607221.0', '647.0', '1012.0', '31549.0', '42050.0', '453128.0', '65460.0', '26720.0', '118500.0', '65530.0', '32310.0', '79880.0', '452357.0', '353907.0', '48565.0', '332300.0', '380021.0', '165300.0', '317500.0', '21890.0', '11590.0', '65970.0', '55980.0', '58356.0', '19254.0', '30222.0', '139200.0', '490007.0', '35690.0', '27944.0', '350089.0', '129990.0', '656000.0', '48756.0', '52650.0', '8280.0', '287667.0', '322000.0', '163800.0', '27434.0', '21288.0', '664042.0', '50080.0', '17790.0', '142167.0', '103900.0', '46370.0', '18999.0', '15790.0', '52570.0', '180099.0', '42764.0', '234900.0', '92109.0', '18679.0', '646070.0', '53070.0', '80899.0', '42009.0', '34873.0', '34526.0', '43908.0', '12770.0', '15495.0', '28280.0', '58954.0', '68678.0', '53350.0', '555000.0', '48652.0', '95666.0', '29654.0', '115569.0', '68999.0', '54134.0', '1205600.0', '210762.0', '147560.0', '31050.0', '750099.0', '12690.0', '25772.0', '68512.0', '47653.0', '5616456.0', '353744.0', '17390.0', '58950.0', '47498.0', '49560.0', '8803.0', '141407.0', '59437.0', '443048.0', '21505.0', '32769.0', '13759.0', '24647.0', '86590.0', '50580.0', '90099.0', '45390.0', '83783.0', '662012.0', '68547.0', '30568.0', '38628.0', '26538.0', '75490.0', '63840.0', '112890.0', '24856.0', '43212.0', '147678.0', '18360.0', '131590.0', '72480.0', '19590.0', '38977.0', '56580.0', '34543.0', '42595.0', '52335.0', '28796.0', '164900.0', '84560.0', '39789.0', '90600.0', '43268.0', '31356.0', '126606.0', '192177.0', '43674.0', '68640.0', '158300.0', '13831.0', '67499.0', '63879.0', '1000009.0', '39190.0', '31875.0', '120020.0', '86377.0', '33668.0', '26675.0', '89523.0', '10567.0', '76593.0', '134540.0', '41150.0', '57457.0', '68980.0', '73782.0', '2899.0', '27470.0', '49112.0', '51270.0', '500025.0', '25658.0', '68785.0', '446430.0', '66555.0', '78890.0', '340005.0', '49189.0', '636855.0', '36592.0', '13350.0', '15960.0', '48817.0', '37679.0', '35699.0', '62767.0', '15735.0', '56437.0', '18230.0', '24520.0', '46390.0', '32890.0', '79109.0', '80150.0', '25350.0', '48585.0', '56490.0', '39822.0', '44380.0', '41532.0', '40099.0', '26790.0', '130009.0', '59654.0', '27430.0', '72720.0', '73960.0', '23467.0', '340090.0', '53791.0', '54560.0', '38484.0', '46965.0', '17484.0', '309340.0', '115009.0', '25820.0', '30680.0', '22532.0', '67670.0', '46550.0', '119634.0', '25657.0', '67839.0', '14260.0', '94800.0', '36783.0', '3000040000.0', '8460.0', '35752.0', '12752.0', '72599.0', '23508.0', '16750.0', '35434.0', '27670.0', '47350.0', '56925.0', '20240.0', '54189.0', '11565.0', '23710.0', '23848.0', '30657.0', '20576.0', '17356.0', '41726.0', '48009.0', '21520.0', '22491.0', '45361.0', '420024.0', '56047.0', '74560.0', '73280.0', '77340.0', '35124.0', '41207.0', '38954.0', '23213.0', '19867.0', '15685.0', '26863.0', '1353.0', '90063.0', '65780.0', '39799.0', '137200.0', '125780.0', '71340.0', '40165.0', '450038.0', '27950.0', '270800.0', '45893.0', '238500.0', '614520.0', '20550.0', '16323.0', '13338.0', '123750.0', '62836.0', '26009.0', '75688.0', '420050.0', '89129.0', '14050.0', '100956.0', '54826.0', '46710.0', '13330.0', '17866.0', '171000.0', '23299.0', '465000.0', '49222.0', '65474.0', '241550.0', '51763.0', '625007.0', '45120.0', '623036.0', '58903.0', '88240.0', '141446.0', '42445.0', '2350.0', '107300.0', '45123.0', '2620.0', '49856.0', '43764.0', '624202.0', '41280.0', '36664.0', '344450.0', '79457.0', '367000.0', '16848.0', '74367.0', '45321.0', '62789.0', '24570.0', '32467.0', '35323.0', '30799.0', '34056.0', '45560.0', '55509.0', '673009.0', '70700.0', '54435.0', '185632.0', '73206.0', '374000.0', '46587.0', '43174.0', '184.0', '576000.0', '46330.0', '173993.0', '665106.0', '37345.0', '29676.0', '24826.0', '28564.0', '154200.0', '32765.0', '11879.0', '35878.0', '302025.0', '60050.0', '7040.0', '20752.0', '38590.0', '95720.0', '55008.0', '632732.0', '85999.0', '59109.0', '41180.0', '390044.0', '142300.0', '390026.0', '23595.0', '55880.0', '456440.0', '103510.0', '93440.0', '13849.0', '14067.0', '104.0', '22980.0', '45660.0', '45450.0', '101720.0', '17357.0', '69770.0', '38713.0', '20259.0', '69790.0', '35756.0', '67936.0', '25689.0', '39807.0', '40655.0', '170036.0', '29588.0', '44830.0', '630079.0', '29909.0', '362000.0', '7650.0', '37002.0', '56756.0', '44441.0', '294000.0', '39950.0', '31350.0', '99155.0', '353212.0', '49481.0', '65390.0', '35640.0', '429000.0', '21483.0', '62538.0', '565500.0', '23762.0', '49352.0', '24575.0', '626150.0', '144400.0', '79867.0', '33580.0', '31567.0', '84150.0', '164170.0', '59715.0', '377000.0', '25541.0', '25585.0', '18730.0', '47467.0', '680009.0', '183400.0', '443008.0', '141033.0', '30099.0', '26470.0', '79536.0', '16352.0', '602102.0', '17666.0', '124130.0', '35053.0', '77390.0', '107440.0', '31459.0', '91920.0', '60666.0', '106325.0', '773039.0', '54929.0', '89699.0', '452680.0', '21380.0', '26384.0', '58655.0', '42591.0', '36599.0', '49678.0', '54470.0', '22432.0', '14710.0', '51862.0', '98306.0', '79189.0', '28350.0', '88878.0', '134999.0', '347060.0', '48910.0', '412032.0', '85230.0', '149800.0', '70367.0', '25590.0', '23784.0', '11850.0', '40320.0', '13255.0', '151580.0', '54649.0', '38957.0', '14471.0', '59322.0', '45265.0', '37840.0', '168300.0', '675000.0', '75840.0', '750004.0', '42360.0', '18880.0', '32222.0', '40017.0', '61.0', '143006.0', '65302.0', '176800.0', '344113.0', '135800.0', '140030.0', '21850.0', '69170.0', '98100.0', '4260.0', '987799.0', '20439.0', '145300.0', '86936.0', '54521.0', '23579.0', '15175.0', '37253.0', '47520.0', '356171.0', '37509.0', '49162.0', '23789.0', '13719.0', '19008.0', '63246.0', '37676.0', '15645.0', '394026.0', '42588.0', '38250.0', '15488.0', '63405.0', '50028.0', '43150.0', '93300.0', '71453.0', '52468.0', '19570.0', '353560.0', '18305.0', '325634.0', '54770.0', '21160.0', '11481.0', '25659.0', '64649.0', '192174.0', '200100.0', '670009.0', '142507.0', '78089.0', '40890.0', '35957.0', '29660.0', '43190.0', '27078.0', '32190.0', '75460.0', '155250.0', '17850.0', '27750.0', '65222.0', '45368.0', '14687.0', '31609.0', '1320.0', '71870.0', '126450.0', '354768.0', '46860.0', '24180.0', '88790.0', '10789.0', '165090.0', '85450.0', '110800.0', '46767.0', '35917.0', '175600.0', '660947.0', '12620.0', '108987.0', '13859.0', '11241.0', '47657.0', '107902.0', '96788.0', '25720.0', '28764.0', '37950.0', '89890.0', '33150.0', '34098.0', '247474.0', '607224.0', '18270.0', '96325.0', '38947.0', '456788.0', '400054.0', '33003.0', '122600.0', '56730.0', '68734.0', '14963.0', '43555.0', '35220.0', '80250.0', '45671.0', '26240.0', '38635.0', '58970.0', '75295.0', '25357.0', '157006.0', '2599.0', '41720.0', '17280.0', '42980.0', '9890.0', '346840.0', '106700.0', '49552.0', '55432.0', '78222.0', '31890.0', '4990.0', '48829.0', '144200.0', '558000.0', '43860.0', '16453.0', '167003.0', '20750.0', '37090.0', '27760.0', '37689.0', '120040.0', '350037.0', '59680.0', '17781.0', '45530.0', '55032.0', '113500.0', '36898.0', '93162.0', '50185.0', '32560.0', '12907.0', '35016.0', '30434.0', '137300.0', '18267.0', '26427.0', '55860.0', '160037.0', '27880.0', '11114.0', '272610.0', '27570.0', '198326.0', '34578.0', '115.0', '52460.0', '36876.0', '27567.0', '36543.0', '35960.0', '446880.0', '111800.0', '628146.0', '20148.0', '29652.0', '67453.0', '99397.0', '49009.0', '19571.0', '18870.0', '98880.0', '40350.0', '602251.0', '614000.0', '56718.0', '27584.0', '985000.0', '19750.0', '23125.0', '22576.0', '20570.0', '22090.0', '28520.0', '21680.0', '30649.0', '21440.0', '48540.0', '34911.0', '39880.0', '11154.0', '60953.0', '7677.0', '40368.0', '53125.0', '238560.0', '104156.0', '24367.0', '49810.0', '39285.0', '37949.0', '16393.0', '456787.0', '98765.0', '1790000.0', '32403.0', '56457.0', '47430.0', '28888.0', '35774.0', '603028.0', '138700.0', '19844.0', '27863.0', '54755.0', '21344.0', '66657.0', '167002.0', '30560.0', '51518.0', '49857.0', '2753.0', '179500.0', '9755.0', '57451.0', '33556.0', '87070.0', '149999.0', '17013.0', '47580.0', '32680.0', '67547.0', '73607.0', '62976.0', '28962.0', '46729.0', '17660.0', '35289.0', '725000.0', '35420.0', '45805.0', '17245.0', '624760.0', '216507.0', '54786.0', '271188.0', '47640.0', '458000.0', '2135.0', '49590.0', '150586.0', '198800.0', '90420.0', '33499.0', '21640.0', '11893.0', '76233.0', '67898.0', '25417.0', '213500.0', '76098.0', '23912.0', '356630.0', '40584.0', '63249.0', '13978.0', '23578.0', '124352.0', '58840.0', '13845.0', '63530.0', '11567.0', '73248.0', '192288.0', '28540.0', '56897.0', '45624.0', '438000.0', '57590.0', '55628.0', '27858.0', '61257.0', '19567.0', '27563.0', '26480.0', '12250.0', '63578.0', '102640.0', '36975.0', '432044.0', '15340.0', '399782.0', '23746.0', '29970.0', '456888.0', '52453.0', '5160.0', '612450.0', '346753.0', '88977.0', '98375.0', '35596.0', '76570.0', '36152.0', '976000.0', '13856.0', '133.0', '52780.0', '25645.0', '33654.0', '46877.0', '119300.0', '603065.0', '442600.0', '28342.0', '115523.0', '24653.0', '37641.0', '28460.0', '57750.0', '386000.0', '18211.0', '28123.0', '13580.0', '19640.0', '617500.0', '88560.0', '653208.0', '145790.0', '950998.0', '607023.0', '85535.0', '21364.0', '53576.0', '13456.0', '37183.0', '26743.0', '16916.0', '2346000.0', '19253.0', '36771.0', '6300.0', '79111.0', '31472.0', '423578.0', '78360.0', '308000.0', '85455.0', '31479.0', '53476.0', '101547.0', '127253.0', '79120.0', '45457.0', '37860.0', '32458.0', '560009.0', '35322.0', '175900.0', '132600.0', '16940.0', '86150.0', '43930.0', '126400.0', '43772.0', '15450.0', '74836.0', '355021.0', '25764.0', '23343.0', '151350.0', '54860.0', '620072.0', '35080.0', '546272.0', '4700000.0', '16831.0', '75589.0', '1130000.0', '120890.0', '45545.0', '16260.0', '55909.0', '71115.0', '182100.0', '28436.0', '352915.0', '420022.0', '80463.0', '17130.0', '37340.0', '176234.0', '12865.0', '25383.0', '46748.0', '19778.0', '155800.0', '95645.0', '37011.0', '34231.0', '681032.0', '43910.0', '29109.0', '190860.0', '42160.0', '617067.0', '59876.0', '47872.0', '45644.0', '6450.0', '53470.0', '24040.0', '12956.0', '3500030.0', '355006.0', '82842.0', '25690.0', '168042.0', '87435.0', '420051.0', '87040.0', '31950.0', '29316.0', '63690.0', '78099.0', '45710.0', '125678.0', '69578.0', '11580.0', '29078.0', '97850.0', '98590.0', '38547.0', '800001.0', '105400.0', '23650.0', '3850.0', '46637.0', '233070.0', '121400.0', '47280.0', '72345.0', '51730.0', '390190.0', '35620.0', '24385.0', '34687.0', '662120.0', '12001.0', '642000.0', '37257.0', '249720.0', '249440.0', '112987.0', '24346.0', '37532.0', '97200.0', '26560.0', '29956.0', '53457.0', '22586.0', '30671.0', '36440.0', '76580.0', '40390.0', '99400.0', '87400.0', '56704.0', '34985.0', '11513.0', '12480.0', '39353.0', '195279.0', '91350.0', '55528.0', '12.5', '32219.0', '57367.0', '52321.0', '2030.0', '42789.0', '28845.0', '28220.0', '65650.0', '141109.0', '58095.0', '25030.0', '48853.0', '664043.0', '52433.0', '394042.0', '77820.0', '54743.0', '78467.0', '13906.0', '95089.0', '33625.0', '31202.0', '34140.0', '56870.0', '35685.0', '391962.0', '12356.0', '65287.0', '1620000.0', '64854.0', '52132.0', '25144.0', '125319.0', '53431.0', '136889.0', '461505.0', '12780.0', '96619.0', '457300.0', '26553.0', '21475.0', '131700.0', '19260.0', '95656.0', '38585.0', '22140.0', '30247.0', '41270.0', '47235.0', '65285.0', '23187.0', '57885.0', '64543.0', '135.0', '660048.0', '42423.0', '11127.0', '19605.0', '25620.0', '12968.0', '62920.0', '193849.0', '55631.0', '98099.0', '96450.0', '30180.0', '14870.0', '100667.0', '24669.0', '124275.0', '39865.0', '4750.0', '512346.0', '43345.0', '36854.0', '97607.0', '39780.0', '37530.0', '72518.0', '47009.0', '46240.0', '23590.0', '7445.0', '60870.0', '346513.0', '46508.0', '1120000.0', '80416.0', '29852.0', '35309.0', '102841.0', '18634.0', '66831.0', '567889.0', '22670.0', '146980.0', '98580.0', '56877.0', '27130.0', '14253.0', '24536.0', '49897.0', '75974.0', '38856.0', '55972.0', '78986.0', '26598.0', '34212.0', '24741.0', '32654.0', '28780.0', '47569.0', '69853.0', '82938.0', '21159.0', '12345.0', '70529.0', '36745.0', '30533.0', '65799.0', '52640.0', '197200.0', '28662.0', '51080.0', '26971.0', '27937.0', '32688.0', '5100.0', '300150.0', '36211.0', '145788.0', '25567.0', '96345.0', '21501.0', '353445.0', '48860.0', '61250.0', '670013.0', '52642.0', '25830.0', '50567.0', '56487.0', '45632.0', '39064.0', '56784.0', '43768.0', '234004.0', '68599.0', '82969.0', '149350.0', '40990.0', '27578.0', '3750000.0', '110400.0', '23370.0', '47001.0', '111100.0', '575000.0', '38405.0', '253120.0', '87430.0', '80580.0', '65280.0', '25745.0', '35768.0', '55010.0', '36890.0', '101600.0', '38123.0', '40872.0', '161327.0', '38649.0', '15099.0', '98474.0', '74384.0', '202007.0', '457000.0', '59374.0', '445039.0', '16047.0', '47815.0', '105659.0', '658031.0', '28653.0', '2461.0', '42647.0', '18917.0', '124580.0', '7153.0', '82678.0', '96780.0', '39864.0', '75567.0', '627220.0', '176450.0', '571000.0', '24760.0', '17079.0', '21233.0', '154900.0', '165340.0', '38980.0', '37750.0', '36567.0', '41750.0', '67840.0', '30650.0', '35677.0', '98140.0', '81250.0', '15679.0', '34666.0', '54079.0', '40430.0', '16759.0', '22440.0', '59655.0', '67292.0', '43207.0', '66764.0', '10540.0', '139.0', '196580.0', '52243.0', '16377.0', '534567.0', '456218.0', '51278.0', '86560.0', '65380.0', '44333.0', '148500.0', '88700.0', '612500.0', '676020.0', '46980.0', '208900.0', '49690.0', '184355.0', '307176.0', '79077.0', '28654.0', '99654.0', '8994.0', '61650.0', '27778.0', '56666.0', '32566.0', '43775.0', '13250.0', '55970.0', '61908.0', '68345.0', '24639.0', '13012.0', '23451.0', '78388.0', '63112.0', '39890.0', '36986.0', '350.0', '78640.0', '51901.0', '38950.0', '86453.0', '210004.0', '86545.0', '16350.0', '21357.0', '19875.0', '58540.0', '165230.0', '27323.0', '81700.0', '24897.0', '7200.0', '56380.0', '17490.0', '72508.0', '118450.0', '32570.0', '29120.0', '662547.0', '55601.0', '39768.0', '18526.0', '15870.0', '79340.0', '37775.0', '103230.0', '84145.0', '139300.0', '11480.0', '20335.0', '92058.0', '54235.0', '625000.0', '63593.0', '65788.0', '54373.0', '58565.0', '59278.0', '43221.0', '85550.0', '33747.0', '37344.0', '46254.0', '74827.0', '94780.0', '27980.0', '107100.0', '44218.0', '28189.0', '124895.0', '118300.0', '58511.0', '1280.0', '66386.0', '51052.0', '177500.0', '118400.0', '692238.0', '54333.0', '54370.0', '43564.0', '53278.0', '20815.0', '235300.0', '49087.0', '25067.0', '230540.0', '62510.0', '79865.0', '53480.0', '76920.0', '88040.0', '66399.0', '62367.0', '56260.0', '620091.0', '361335.0', '369000.0', '75485.0', '21485.0', '145567.0', '28518.0', '95745.0', '35969.0', '32742.0', '96850.0', '66751.0', '60547.0', '118630.0', '43854.0', '201500.0', '49880.0', '196800.0', '51870.0', '75790.0', '117400.0', '27548.0', '31260.0', '96730.0', '102900.0', '61990.0', '47525.0', '8708.0', '28478.0', '344033.0', '62070.0', '5880.0', '121500.0', '50909.0', '211000.0', '32158.0', '1256000.0', '24306.0', '280001.0', '82059.0', '46369.0', '17960.0', '74590.0', '88.0', '43580.0', '66644.0', '49834.0', '625001.0', '48053.0', '392008.0', '413864.0', '33540.0', '131627.0', '45357.0', '29803.0', '79999.0', '165841.0', '35808.0', '107259.0', '98340.0', '89666.0', '99943.0', '103789.0', '74589.0', '15299.0', '80175.0', '42786.0', '38657.0', '68477.0', '109387.0', '84048.0', '223590.0', '34185.0', '146655.0', '170004.0', '41435.0', '56578.0', '63548.0', '80583.0', '30877.0', '84128.0', '13540.0', '34490.0', '36241.0', '63616.0', '37898.0', '92460.0', '17688.0', '645000.0', '24812.0', '1890000.0', '63980.0', '70090.0', '76840.0', '353924.0', '47547.0', '24370.0', '657392.0', '12545.0', '62281.0', '76523.0', '61356.0', '55993.0', '16262.0', '45654.0', '125468.0', '49670.0', '80099.0', '264389.0', '100600.0', '5550.0', '41340.0', '42456.0', '72112.0', '213700.0', '53270.0', '59290.0', '145900.0', '19882.0', '20850.0', '13162.0', '32689.0', '236748.0', '84840.0', '76567.0', '79300.0', '53999.0', '88076.0', '54230.0', '72650.0', '72090.0', '45375.0', '18550.0', '250555.0', '50170.0', '148240.0', '307500.0', '15664.0', '41040.0', '39990.0', '48720.0', '23504.0', '52280.0', '744447.0', '67250.0', '56283.0', '356500.0', '620078.0', '89396.0', '687000.0', '17412.0', '662000.0', '47688.0', '39578.0', '38622.0', '1029000.0', '17770.0', '35710.0', '369800.0', '84523.0', '187015.0', '83150.0', '121517.0', '48381.0', '93999.0', '32534.0', '105206.0', '16470.0', '72911.0', '13751.0', '64550.0', '47885.0', '198383.0', '8546.0', '47742.0', '48579.0', '14890.0', '28447.0', '2850007.0', '54078.0', '30709.0', '80560.0', '95153.0', '10130.0', '74510.0', '943000.0', '75605.0', '399024.0', '658665.0', '43765.0', '34870.0', '78657.0', '58155.0', '42759.0', '35370.0', '45708.0', '51880.0', '420101.0', '45187.0', '67439.0', '85598.0', '49158.0', '69425.0', '56723.0', '241037.0', '145200.0', '49853.0', '39689.0', '104900.0', '352330.0', '447000.0', '119009.0', '75324.0', '18118.0', '44848.0', '27380.0', '56434.0', '28250.0', '48905.0', '108600.0', '25679.0', '49210.0', '175700.0', '22005.0', '47564.0', '26125.0', '602000.0', '346598.0', '46580.0', '285643.0', '63350.0', '40150.0', '239000.0', '25730.0', '80142.0', '56040.0', '85960.0', '89648.0', '23170.0', '46932.0', '76089.0', '582000.0', '121900.0', '48230.0', '36888.0', '61900.0', '17055.0', '156890.0', '68907.0', '986000.0', '60370.0', '646025.0', '63534.0', '15975.0', '21360.0', '141500.0', '58704.0', '46378.0', '19842.0', '198350.0', '86950.0', '54930.0', '478000.0', '127430.0', '32903.0', '123657.0', '145051.0', '43582.0', '7980.0', '141284.0', '107900.0', '53840.0', '100470.0', '4270.0', '42732.0', '57960.0', '22170.0', '47348.0', '16065.0', '87623.0', '47325.0', '48986.0', '109999.0', '86153.0', '24867.0', '15787.0', '444444.0', '18444.0', '47236.0', '18567.0', '40194.0', '26333.0', '114562.0', '43788.0', '82993.0', '31305.0', '13431.0', '45299.0', '65870.0', '50150.0', '32425.0', '350090.0', '22640.0', '62330.0', '72160.0', '25835.0', '22730.0', '30080.0', '65301.0', '236900.0', '76111.0', '135400.0', '61580.0', '25876.0', '21232.0', '45974.0', '89440.0', '192236.0', '32578.0', '24099.0', '104372.0', '169900.0', '22877.0', '78425.0', '52862.0', '214450.0', '30070.0', '98555.0', '98850.0', '674000.0', '1240000.0', '47765.0', '89605.0', '31960.0', '44250.0', '98578.0', '26438.0', '42716.0', '46560.0', '49350.0', '186448.0', '453115.0', '110655.0', '30502.0', '116057.0', '32503.0', '47106.0', '19876.0', '40555.0', '63645.0', '72826.0', '29538.0', '80855.0', '25604.0', '64058.0', '78888.0', '43970.0', '670999.0', '33920.0', '97589.0', '34992.0', '102652.0', '186400.0', '143610.0', '302886.0', '123112.0', '37665.0', '489500.0', '25485.0', '27984.0', '46320.0', '13450.0', '48878.0', '49920.0', '41594.0', '388000.0', '127300.0', '393710.0', '58181.0', '22615.0', '25865.0', '168390.0', '64100.0', '63533.0', '35180.0', '65376.0', '38690.0', '546000.0', '97480.0', '89540.0', '69458.0', '63360.0', '151800.0', '12987.0', '42070.0', '329990.0', '404171.0', '347000.0', '106562.0', '178946.0', '33274.0', '131300.0', '86459.0', '186500.0', '54123.0', '32432.0', '127900.0', '723743.0', '25380.0', '45325.0', '230007.0', '304800.0', '618170.0', '53678.0', '45876.0', '23760.0', '56655.0', '65534.0', '12950.0', '45783.0', '85340.0', '30860.0', '62420.0', '14149.0', '81309.0', '17464.0', '371000.0', '450900.0', '107894.0', '73793.0', '103741.0', '475000.0', '22224.0', '27860.0', '67219.0', '69073.0', '97238.0', '245700.0', '68930.0', '87987.0', '59302.0', '265900.0', '41009.0', '83743.0', '23890.0', '92250.0', '7550.0', '48962.0', '54444.0', '61015.0', '35087.0', '15530.0', '27062.0', '34589.0', '588888.0', '60560.0', '143051.0', '344900.0', '87634.0', '81568.0', '24357.0', '65909.0', '21535.0', '86528.0', '204.0', '183600.0', '348527.0', '511560.0', '105786.0', '47612.0', '52380.0', '234765.0', '2330000.0', '513000.0', '801461.0', '55670.0', '632405.0', '28910.0', '93561.0', '89675.0', '47098.0', '712000.0', '350016.0', '45252.0', '141466.0', '31987.0', '967000.0', '497000.0', '3450.0', '262000.0', '85792.0', '58453.0', '87350.0', '32437.0', '98839.0', '40028.0', '123737.0', '65787.0', '62860.0', '125099.0', '1060.0', '55178.0', '22897.0', '33846.0', '89567.0', '111402.0', '82572.0', '82590.0', '35484.0', '350620.0', '32970.0', '764000.0', '145990.0', '31970.0', '42163.0', '117509.0', '90567.0', '28950.0', '127490.0', '16270.0', '48217.0', '79980.0', '607028.0', '101162.0', '46232.0', '51346.0', '57524.0', '450075.0', '194121.0', '1630000.0', '272000.0', '222222.0', '52023.0', '128600.0', '26336.0', '234564.0', '19270.0', '897000.0', '33480.0', '3700000.0', '65834.0', '48636.0', '25249.0', '84234.0', '187650.0', '256990.0', '70999.0', '36430.0', '23541.0', '40505.0', '85890.0', '662150.0', '45255.0', '2509.0', '57050.0', '105098.0', '43568.0', '226000.0', '186800.0', '94720.0', '64480.0', '86742.0', '42171.0', '391847.0', '63750.0', '26574.0', '57987.0', '64390.0', '63295.0', '35920.0', '113680.0', '159690.0', '46280.0', '65478.0', '153440.0', '75550.0', '68344.0', '42166.0', '84999.0', '186300.0', '125787.0', '68580.0', '36950.0', '73290.0', '99650.0', '58939.0', '324000.0', '81686.0', '165210.0', '87890.0', '37581.0', '109559.0', '85478.0', '210046.0', '46404.0', '55990.0', '565000.0', '68932.0', '41914.0', '103560.0', '33616.0', '1230000.0', '15555.0', '234500.0', '58880.0', '24664.0', '107844.0', '120380.0', '18128.0', '22862.0', '89320.0', '36293.0', '63452.0', '48356.0', '49580.0', '25435.0', '82200.0', '82650.0', '664081.0', '198600.0', '35206.0', '163009.0', '111141.0', '91078.0', '41550.0', '23098.0', '30511.0', '452550.0', '140501.0', '60990.0', '36962.0', '79850.0', '13634.0', '11688.0', '43110.0', '34878.0', '56660.0', '22799.0', '170990.0', '21599.0', '62382.0', '136200.0', '66540.0', '145600.0', '25768.0', '658000.0', '45965.0', '70920.0', '22175.0', '18754.0', '52835.0', '303191.0', '31460.0', '26098.0', '36988.0', '8541.0', '187651.0', '52390.0', '51190.0', '44891.0', '49120.0', '49309.0', '201673.0', '14168.0', '17567.0', '80530.0', '21587.0', '68099.0', '11987.0', '31836.0', '57670.0', '140.0', '48569.0', '81800.0', '18566.0', '18354.0', '24768.0', '96420.0', '52769.0', '84360.0', '39754.0', '378888.0', '39816.0', '45256.0', '53380.0', '95570.0', '136400.0', '40610.0', '197632.0', '47823.0', '171555.0', '116400.0', '25316.0', '127700.0', '12530.0', '27866.0', '52368.0', '21590.0', '42020.0', '1170000.0', '59820.0', '24860.0', '89670.0', '25118.0', '24399.0', '138400.0', '53990.0', '65548.0', '42025.0', '41093.0', '12570.0', '22783.0', '1750.0', '34859.0', '64333.0', '22340.0', '73910.0', '112875.0', '84132.0', '79564.0', '42090.0', '132446.0', '56341.0', '39743.0', '48322.0', '83900.0', '71390.0', '33657.0', '32780.0', '52344.0', '102970.0', '62939.0', '93610.0', '86690.0', '63789.0', '83450.0', '67380.0', '69344.0', '73243.0', '15670.0', '139600.0', '28568.0', '18376.0', '65720.0', '97188.0', '56450.0', '37883.0', '20890.0', '65393.0', '32768.0', '66009.0', '47323.0', '600001.0', '34204.0', '28216.0', '28731.0', '87990.0', '980600.0', '58142.0', '180520.0', '14661.0', '25667.0', '53560.0', '31059.0', '24756.0', '35852.0', '68567.0', '299000.0', '129825.0', '39157.0', '25159.0', '680023.0', '130845.0', '99600.0', '23568.0', '61850.0', '147826.0', '84800.0', '55005.0', '234300.0', '28050.0', '18729.0', '139700.0', '51987.0', '64450.0', '36677.0', '102765.0', '12918.0', '69830.0', '63478.0', '198320.0', '97565.0', '41690.0', '75050.0', '82460.0', '33180.0', '185048.0', '46310.0', '54390.0', '68790.0', '73230.0', '68832.0', '6599.0', '73340.0', '56798.0', '44660.0', '676740.0', '56980.0', '15769.0', '5250.0', '12162.0', '19680.0', '36879.0', '550001.0', '113100.0', '58290.0', '26455.0', '29545.0', '25184.0', '245600.0', '57009.0', '26434.0', '68420.0', '60538.0', '603076.0', '29458.0', '350912.0', '40119.0', '15797.0', '19904.0', '22533.0', '62090.0', '215600.0', '87630.0', '37456.0', '69929.0', '197342.0', '327000.0', '68059.0', '3400000.0', '55089.0', '24788.0', '134800.0', '257804.0', '17009.0', '64506.0', '47892.0', '140009.0', '55784.0', '8877.0', '73235.0', '88650.0', '74101.0', '74103.0', '73211.0', '50060.0', '74520.0', '74859.0', '24640.0', '17058.0', '60877.0', '54635.0', '60244.0', '64430.0', '13263.0', '48660.0', '33190.0', '22739.0', '47545.0', '453000.0', '14482.0', '75910.0', '72310.0', '69810.0', '35150.0', '39654.0', '160001.0', '69740.0', '59860.0', '123221.0', '95999.0', '655225.0', '658821.0', '85412.0', '42219.0', '15521.0', '54335.0', '31681.0', '27001.0', '106780.0', '45289.0', '13929.0', '32250.0', '35652.0', '71217.0', '24503.0', '7860.0', '34573.0', '73221.0', '670023.0', '73156.0', '34867.0', '670099.0', '59450.0', '72414.0', '75925.0', '70955.0', '47865.0', '11.0', '71365.0', '10758.0', '67239.0', '87652.0', '46857.0', '39860.0', '24890.0', '525.0', '26530.0', '56713.0', '98678.0', '3500029.0', '89678.0', '63560.0', '66100.0', '47821.0', '775000.0', '121800.0', '23063.0', '150292.0', '601240.0', '111234.0', '90530.0', '400300.0', '118570.0', '157700.0', '46836.0', '28530.0', '30110.0', '21764.0', '125450.0', '443000.0', '21245.0', '18902.0', '27330.0', '72303.0', '72450.0', '35113.0', '71910.0', '35191.0', '55481.0', '57930.0', '71922.0', '39557.0', '53202.0', '68590.0', '47654.0', '45658.0', '42742.0', '79437.0', '29226.0', '54250.0', '29899.0', '57870.0', '457353.0', '68301.0', '696788.0', '71301.0', '35543.0', '35854.0', '107392.0', '62357.0', '65275.0', '1114000.0', '47843.0', '13560.0', '48132.0', '420044.0', '170800.0', '35730.0', '21734.0', '10350.0', '53895.0', '452017.0', '465990.0', '48599.0', '344012.0', '10150.0', '54489.0', '30780.0', '77570.0', '31570.0', '16927.0', '48880.0', '85029.0', '45565.0', '624975.0', '41299.0', '60100.0', '20545.0', '42134.0', '413370.0', '148370.0', '54708.0', '26346.0', '43299.0', '56930.0', '23026.0', '54399.0', '21150.0', '16666.0', '79099.0', '18333.0', '21987.0', '171080.0', '98999.0', '165500.0', '96100.0', '22572.0', '96376.0', '234566.0', '27625.0', '44430.0', '77399.0', '28666.0', '410022.0', '795420.0', '16489.0', '654022.0', '83456.0', '620141.0', '34266.0', '38745.0', '89430.0', '121999.0', '17654.0', '15269.0', '3200000.0', '88400.0', '58230.0', '36455.0', '120800.0', '109580.0', '143022.0', '39870.0', '344064.0', '144309.0', '49150.0', '48568.0', '353385.0', '13990.0', '20378.0', '132004.0', '30490.0', '276000.0', '39991.0', '124587.0', '25325.0', '41570.0', '62650.0', '124200.0', '270.0', '353217.0', '30895.0', '607580.0', '38766.0', '142180.0', '410058.0', '91683.0', '23857.0', '36870.0', '57830.0', '54210.0', '58679.0', '18970.0', '145350.0', '24387.0', '77670.0', '74430.0', '74100.0', '16150.0', '72305.0', '66560.0', '53720.0', '62210.0', '47690.0', '194280.0', '446001.0', '211200.0', '43255.0', '54810.0', '48852.0', '83590.0', '96870.0', '64520.0', '805.0', '148600.0', '13647.0', '750.0', '52462.0', '45595.0', '64870.0', '48850.0', '183250.0', '91360.0', '27234.0', '345826.0', '122860.0', '82495.0', '26788.0', '82353.0', '33245.0', '67789.0', '62456.0', '49861.0', '65356.0', '65861.0', '68740.0', '370670.0', '129395.0', '44436.0', '350065.0', '20650.0', '191036.0', '75499.0', '169.0', '33658.0', '71377.0', '28985.0', '185500.0', '22564.0', '23674.0', '79982.0', '13790.0', '48960.0', '62535.0', '43280.0', '86430.0', '92570.0', '80065.0', '29087.0', '54854.0', '369006.0', '56250.0', '146900.0', '144250.0', '106835.0', '32457.0', '32998.0', '17580.0', '54692.0', '77877.0', '155555.0', '442895.0', '65990.0', '44640.0', '39478.0', '84509.0', '16521.0', '8999.0', '452500.0', '95200.0', '28864.0', '70625.0', '23580.0', '91420.0', '19894.0', '79436.0', '1030.0', '34520.0', '191634.0', '655000.0', '84440.0', '22365.0', '983000.0', '56878.0', '42222.0', '337000.0', '9818.0', '523000.0', '65387.0', '18770.0', '27611.0', '27699.0', '443084.0', '47791.0', '66457.0', '17460.0', '26258.0', '51498.0', '73715.0', '57563.0', '150900.0', '21190.0', '32487.0', '41001.0', '56785.0', '13632.0', '235647.0', '22567.0', '353437.0', '11817.0', '37350.0', '73460.0', '63777.0', '115814.0', '47842.0', '38290.0', '35998.0', '50120.0', '56850.0', '47665.0', '64251.0', '101866.0', '454000.0', '150023.0', '47590.0', '57399.0', '43562.0', '31643.0', '117578.0', '133500.0', '4330.0', '84536.0', '40720.0', '35763.0', '13308.0', '29368.0', '52560.0', '18513.0', '44899.0', '43090.0', '433354.0', '23174.0', '47509.0', '31358.0', '12876.0', '52345.0', '26812.0', '57742.0', '459000.0', '47566.0', '653045.0', '45655.0', '87651.0', '22222.0', '19264.0', '125373.0', '56385.0', '17255.0', '1650000.0', '110632.0', '382500.0', '46281.0', '219776.0', '32089.0', '45656.0', '184450.0', '47952.0', '117231.0', '36363.0', '53836.0', '34824.0', '50555.0', '18581.0', '32564.0', '19422.0', '2100000.0', '58543.0', '125569.0', '600033.0', '105077.0', '1020000.0', '52330.0', '76390.0', '35856.0', '54670.0', '263000.0', '125212.0', '94700.0', '173500.0', '32762.0', '32708.0', '117639.0', '36452.0', '25309.0', '134600.0', '41520.0', '38965.0', '77009.0', '19825.0', '500008.0', '659999.0', '57280.0', '99872.0', '10513.0', '171201.0', '32184.0', '18699.0', '75565.0', '39947.0', '67470.0', '565723.0', '64975.0', '215500.0', '66578.0', '1002000.0', '18367.0', '54781.0', '453118.0', '42212.0', '48355.0', '23183.0', '194800.0', '31320.0', '625015.0', '15233.0', '512000.0', '86567.0', '28987.0', '720002.0', '64657.0', '461049.0', '104700.0', '36880.0', '26999.0', '93678.0', '1260000.0', '500006.0', '44990.0', '75653.0', '48902.0', '26851.0', '41967.0', '676855.0', '85720.0', '38634.0', '29640.0', '73699.0', '109200.0', '103600.0', '132400.0', '174401.0', '16242.0', '55780.0', '79310.0', '153015.0', '86259.0', '49808.0', '22190.0', '45047.0', '45039.0', '24489.0', '119350.0', '64368.0', '4555.0', '79568.0', '22139.0', '72640.0', '42472.0', '42365.0', '12307.0', '666904.0', '86780.0', '147350.0', '85460.0', '44506.0', '24840.0', '106800.0', '56889.0', '2004000.0', '50246.0', '26661.0', '69028.0', '450073.0', '41990.0', '43980.0', '102340.0', '23921.0', '18599.0', '98560.0', '47889.0', '15748.0', '87945.0', '37365.0', '16691.0', '27530.0', '29963.0', '21794.0', '19364.0', '88999.0', '15865.0', '10418.0', '13875.0', '197500.0', '83210.0', '51738.0', '147.0', '129700.0', '51234.0', '57235.0', '75780.0', '64546.0', '87097.0', '36345.0', '61290.0', '158654.0', '10012.0', '115785.0', '34613.0', '41735.0', '48350.0', '184042.0', '13340.0', '45220.0', '110550.0', '35123.0', '173650.0', '31806.0', '1089000.0', '55050.0', '40097.0', '10100.0', '24112.0', '627000.0', '48940.0', '106500.0', '62755.0', '17989.0', '35499.0', '45554.0', '129600.0', '93650.0', '385132.0', '694020.0', '38559.0', '434000.0', '55750.0', '35587.0', '77366.0', '12806.0', '38929.0', '30865.0', '49843.0', '45130.0', '617570.0', '1440000.0', '91300.0', '120780.0', '44909.0', '37770.0', '51160.0', '9976.0', '43260.0', '26834.0', '56792.0', '404102.0', '412580.0', '12855.0', '13160.0', '53856.0', '55198.0', '79200.0', '115876.0', '184934.0', '118900.0', '22843.0', '34780.0', '31968.0', '52964.0', '65483.0', '45635.0', '68452.0', '156800.0', '49029.0', '27999.0', '522000.0', '77099.0', '56699.0', '37830.0', '64218.0', '66330.0', '10536.0', '138860.0', '56765.0', '13009.0', '57460.0', '13874.0', '635000.0', '62849.0', '33918.0', '189988.0', '32855.0', '28912.0', '51772.0', '197800.0', '18279.0', '42350.0', '54104.0', '32220.0', '47963.0', '120720.0', '624932.0', '55350.0', '73140.0', '44260.0', '78903.0', '33145.0', '14170.0', '90045.0', '92888.0', '52155.0', '49508.0', '23415.0', '71203.0', '72199.0', '72392.0', '34657.0', '59890.0', '58295.0', '24464.0', '36875.0', '78450.0', '76250.0', '9524.0', '59385.0', '2850.0', '49351.0', '356005.0', '34446.0', '35555.0', '150689.0', '30260.0', '44666.0', '86970.0', '155060.0', '830.0', '427252.0', '86530.0', '61675.0', '20707.0', '75650.0', '53568.0', '423827.0', '73550.0', '27050.0', '51722.0', '63416.0', '32852.0', '79506.0', '57875.0', '24617.0', '97984.0', '40760.0', '139900.0', '44590.0', '16543.0', '44550.0', '45367.0', '24790.0', '70950.0', '56854.0', '2000004.0', '50568.0', '44560.0', '113562.0', '43222.0', '69120.0', '67892.0', '200005.0', '69021.0', '167580.0', '23246.0', '42330.0', '34676.0', '85625.0', '250009.0', '73252.0', '58750.0', '29540.0', '29264.0', '70250.0', '71090.0', '63850.0', '115090.0', '35659.0', '56720.0', '180019.0', '75240.0', '732150.0', '537000.0', '29490.0', '71005.0', '367800.0', '996000.0', '63222.0', '25340.0', '137144.0', '188655.0', '128970.0', '360009.0', '42768.0', '68749.0', '109690.0', '250100.0', '76345.0', '76582.0', '68334.0', '18356.0', '29137.0', '39980.0', '48363.0', '64526.0', '80999.0', '68371.0', '47062.0', '75430.0', '21546.0', '53079.0', '59581.0', '68499.0', '105600.0', '172500.0', '715430.0', '43590.0', '33451.0', '45479.0', '614083.0', '78768.0', '120005.0', '112657.0', '36290.0', '31452.0', '18673.0', '45823.0', '412000.0', '328810.0', '13108.0', '41047.0', '44090.0', '31980.0', '57093.0', '27690.0', '52520.0', '391500.0', '56439.0', '81345.0', '55757.0', '198200.0', '47123.0', '44370.0', '68570.0', '58850.0', '52512.0', '47633.0', '51931.0', '49685.0', '98456.0', '71350.0', '41640.0', '73250.0', '72567.0', '74850.0', '108825.0', '7062.0', '128400.0', '87569.0', '25880.0', '16100.0', '15550.0', '52364.0', '623468.0', '45630.0', '91100.0', '652137.0', '9500000.0', '47570.0', '63958.0', '109382.0', '157500.0', '15146.0', '666351.0', '495500.0', '950200.0', '17090.0', '26772.0', '37583.0', '67350.0', '58670.0', '195007.0', '35476.0', '83899.0', '93750.0', '86788.0', '25479.0', '78152.0', '14750.0', '96580.0', '52035.0', '17012.0', '22490.0', '190670.0', '91456.0', '420137.0', '76129.0', '612410.0', '25684.0', '200050.0', '22460.0', '37525.0', '38970.0', '55870.0', '26520.0', '78915.0', '71401.0', '17628.0', '37989.0', '97632.0', '630126.0', '45931.0', '30126.0', '656056.0', '25480.0', '644510.0', '251000.0', '94600.0', '23035.0', '198700.0', '31902.0', '41856.0', '41878.0', '300001.0', '104258.0', '28754.0', '21820.0', '59482.0', '58780.0', '48678.0', '198260.0', '24458.0', '32234.0', '25359.0', '14720.0', '113672.0', '15076.0', '53332.0', '50002.0', '224456.0', '67207.0', '29769.0', '37767.0', '147430.0', '109862.0', '98574.0', '48317.0', '54734.0', '17658.0']\n",
      "MonthlyIncome Что оставляем\n",
      " {'50000.0': 88735, '45000.0': 80458, '35000.0': 76431, '30000.0': 72775, '40000.0': 71697, '60000.0': 61687, '25000.0': 46904, '70000.0': 46687, '80000.0': 38460, '55000.0': 34250, '65000.0': 32234, '20000.0': 25074, '75000.0': 22338, '100000.0': 19757, '90000.0': 19398, '85000.0': 14374, '120000.0': 14075, '28000.0': 12137, '38000.0': 11722, '32000.0': 11647, '15000.0': 11572, '27000.0': 10029, '42000.0': 9694, '150000.0': 9585, '37000.0': 8894, '48000.0': 8565, '47000.0': 7428, '36000.0': 7234, '95000.0': 7178, '43000.0': 6985, '56000.0': 6883, '52000.0': 6023, '23000.0': 5844, '34000.0': 5701, '26000.0': 5033, '18000.0': 5011, '46000.0': 4675, '24000.0': 4577, '22000.0': 4360, '110000.0': 4326, '54000.0': 4309, '39000.0': 4070, '29000.0': 4052, '33000.0': 3991, '57000.0': 3981, '58000.0': 3921, '10000.0': 3857, '67000.0': 3766, '68000.0': 3757, '130000.0': 3678, '78000.0': 3468, '53000.0': 3380, '200000.0': 3301, '17000.0': 2832, '21000.0': 2831, '31000.0': 2761, '72000.0': 2728, '62000.0': 2589, '44000.0': 2550, '140000.0': 2500, '49000.0': 2400, '41000.0': 2345, '63000.0': 2301, '87000.0': 2109, '16000.0': 1988, '250000.0': 1972, '19000.0': 1968, '98000.0': 1934, '180000.0': 1884, '64000.0': 1878, '12000.0': 1865, '76000.0': 1860, '71000.0': 1822, '125000.0': 1656, '89000.0': 1628, '86000.0': 1594, '105000.0': 1571, '69000.0': 1544, '115000.0': 1502, '51000.0': 1471, '160000.0': 1393, '59000.0': 1373, '73000.0': 1340, '66000.0': 1280, '300000.0': 1230, '79000.0': 1210, '170000.0': 1174, '74000.0': 1130, '14000.0': 1098, '97000.0': 1055, '5000.0': 1046, '13000.0': 1043, '350000.0': 1010, '96000.0': 1001, '450000.0': 960, '88000.0': 953, '135000.0': 920, '83000.0': 919, '82000.0': 873, '77000.0': 835, '500000.0': 819, '92000.0': 795, '84000.0': 781, '93000.0': 743, '61000.0': 718, '190000.0': 716, '145000.0': 703, '27500.0': 573, '400000.0': 539, '37500.0': 537, '28500.0': 534, '32500.0': 499, '800000.0': 493, '3000.0': 463, '94000.0': 453, '11000.0': 452, '600000.0': 443, '220000.0': 440, '22500.0': 433, '47500.0': 419, '38500.0': 412, '42500.0': 404, '8000.0': 402, '700000.0': 401, '25500.0': 392, '195000.0': 382, '24500.0': 381, '23500.0': 376, '35500.0': 368, '650000.0': 365, '18500.0': 356, '34500.0': 353, '26500.0': 345, '185000.0': 343, '240000.0': 341, '6000.0': 340, '7000.0': 338, '230000.0': 336, '2000.0': 329, '45500.0': 326, '112000.0': 325, '4000.0': 322, '81000.0': 316, '45.0': 315, '165000.0': 312, '210000.0': 311, '29500.0': 311, '12500.0': 306, '35.0': 304, '750000.0': 303, '43500.0': 303, '48500.0': 300, '102000.0': 297, '175000.0': 294, '17500.0': 289, '31500.0': 289, '91000.0': 286, '155000.0': 282, '99000.0': 280, '9000.0': 259, '900000.0': 258, '36500.0': 255, '21500.0': 252, '0.0': 249, '550000.0': 244, '280000.0': 237, '46500.0': 235, '60.0': 232, '16500.0': 229, '19500.0': 229, '2500.0': 228, '50.0': 227, '40.0': 219, '103000.0': 219, '1000.0': 213, '108000.0': 210, '49500.0': 207, '30.0': 205, '25.0': 203, '45600.0': 202, '3500.0': 201, '28600.0': 195, '15500.0': 194, '33500.0': 189, '35600.0': 189, '104000.0': 185, '14500.0': 184, '44500.0': 180, '56700.0': 179, '39500.0': 178, '52500.0': 174, '27800.0': 173, '107000.0': 170, '20500.0': 170, '270000.0': 166, '1000000.0': 166, '320000.0': 165, '13500.0': 165, '35700.0': 159, '45800.0': 157, '850000.0': 157, '28900.0': 156, '124000.0': 156, '45700.0': 155, '26700.0': 154, '123000.0': 152, '42300.0': 151, '1200000.0': 150} \n",
      " dict_keys(['50000.0', '45000.0', '35000.0', '30000.0', '40000.0', '60000.0', '25000.0', '70000.0', '80000.0', '55000.0', '65000.0', '20000.0', '75000.0', '100000.0', '90000.0', '85000.0', '120000.0', '28000.0', '38000.0', '32000.0', '15000.0', '27000.0', '42000.0', '150000.0', '37000.0', '48000.0', '47000.0', '36000.0', '95000.0', '43000.0', '56000.0', '52000.0', '23000.0', '34000.0', '26000.0', '18000.0', '46000.0', '24000.0', '22000.0', '110000.0', '54000.0', '39000.0', '29000.0', '33000.0', '57000.0', '58000.0', '10000.0', '67000.0', '68000.0', '130000.0', '78000.0', '53000.0', '200000.0', '17000.0', '21000.0', '31000.0', '72000.0', '62000.0', '44000.0', '140000.0', '49000.0', '41000.0', '63000.0', '87000.0', '16000.0', '250000.0', '19000.0', '98000.0', '180000.0', '64000.0', '12000.0', '76000.0', '71000.0', '125000.0', '89000.0', '86000.0', '105000.0', '69000.0', '115000.0', '51000.0', '160000.0', '59000.0', '73000.0', '66000.0', '300000.0', '79000.0', '170000.0', '74000.0', '14000.0', '97000.0', '5000.0', '13000.0', '350000.0', '96000.0', '450000.0', '88000.0', '135000.0', '83000.0', '82000.0', '77000.0', '500000.0', '92000.0', '84000.0', '93000.0', '61000.0', '190000.0', '145000.0', '27500.0', '400000.0', '37500.0', '28500.0', '32500.0', '800000.0', '3000.0', '94000.0', '11000.0', '600000.0', '220000.0', '22500.0', '47500.0', '38500.0', '42500.0', '8000.0', '700000.0', '25500.0', '195000.0', '24500.0', '23500.0', '35500.0', '650000.0', '18500.0', '34500.0', '26500.0', '185000.0', '240000.0', '6000.0', '7000.0', '230000.0', '2000.0', '45500.0', '112000.0', '4000.0', '81000.0', '45.0', '165000.0', '210000.0', '29500.0', '12500.0', '35.0', '750000.0', '43500.0', '48500.0', '102000.0', '175000.0', '17500.0', '31500.0', '91000.0', '155000.0', '99000.0', '9000.0', '900000.0', '36500.0', '21500.0', '0.0', '550000.0', '280000.0', '46500.0', '60.0', '16500.0', '19500.0', '2500.0', '50.0', '40.0', '103000.0', '1000.0', '108000.0', '49500.0', '30.0', '25.0', '45600.0', '3500.0', '28600.0', '15500.0', '33500.0', '35600.0', '104000.0', '14500.0', '44500.0', '56700.0', '39500.0', '52500.0', '27800.0', '107000.0', '20500.0', '270000.0', '1000000.0', '320000.0', '13500.0', '35700.0', '45800.0', '850000.0', '28900.0', '124000.0', '45700.0', '26700.0', '123000.0', '42300.0', '1200000.0'])\n",
      "MonthlyIncome \n",
      " dict_keys(['50000.0', '45000.0', '35000.0', '30000.0', '40000.0', '60000.0', '25000.0', '70000.0', '80000.0', '55000.0', '65000.0', '20000.0', '75000.0', '100000.0', '90000.0', '85000.0', '120000.0', '28000.0', '38000.0', '32000.0', '15000.0', '27000.0', '42000.0', '150000.0', '37000.0', '48000.0', '47000.0', '36000.0', '95000.0', '43000.0', '56000.0', '52000.0', '23000.0', '34000.0', '26000.0', '18000.0', '46000.0', '24000.0', '22000.0', '110000.0', '54000.0', '39000.0', '29000.0', '33000.0', '57000.0', '58000.0', '10000.0', '67000.0', '68000.0', '130000.0', '78000.0', '53000.0', '200000.0', '17000.0', '21000.0', '31000.0', '72000.0', '62000.0', '44000.0', '140000.0', '49000.0', '41000.0', '63000.0', '87000.0', '16000.0', '250000.0', '19000.0', '98000.0', '180000.0', '64000.0', '12000.0', '76000.0', '71000.0', '125000.0', '89000.0', '86000.0', '105000.0', '69000.0', '115000.0', '51000.0', '160000.0', '59000.0', '73000.0', '66000.0', '300000.0', '79000.0', '170000.0', '74000.0', '14000.0', '97000.0', '5000.0', '13000.0', '350000.0', '96000.0', '450000.0', '88000.0', '135000.0', '83000.0', '82000.0', '77000.0', '500000.0', '92000.0', '84000.0', '93000.0', '61000.0', '190000.0', '145000.0', '27500.0', '400000.0', '37500.0', '28500.0', '32500.0', '800000.0', '3000.0', '94000.0', '11000.0', '600000.0', '220000.0', '22500.0', '47500.0', '38500.0', '42500.0', '8000.0', '700000.0', '25500.0', '195000.0', '24500.0', '23500.0', '35500.0', '650000.0', '18500.0', '34500.0', '26500.0', '185000.0', '240000.0', '6000.0', '7000.0', '230000.0', '2000.0', '45500.0', '112000.0', '4000.0', '81000.0', '45.0', '165000.0', '210000.0', '29500.0', '12500.0', '35.0', '750000.0', '43500.0', '48500.0', '102000.0', '175000.0', '17500.0', '31500.0', '91000.0', '155000.0', '99000.0', '9000.0', '900000.0', '36500.0', '21500.0', '0.0', '550000.0', '280000.0', '46500.0', '60.0', '16500.0', '19500.0', '2500.0', '50.0', '40.0', '103000.0', '1000.0', '108000.0', '49500.0', '30.0', '25.0', '45600.0', '3500.0', '28600.0', '15500.0', '33500.0', '35600.0', '104000.0', '14500.0', '44500.0', '56700.0', '39500.0', '52500.0', '27800.0', '107000.0', '20500.0', '270000.0', '1000000.0', '320000.0', '13500.0', '35700.0', '45800.0', '850000.0', '28900.0', '124000.0', '45700.0', '26700.0', '123000.0', '42300.0', '1200000.0'])\n",
      "Post хвосты\n",
      " ['АДМИНИСТРАТОР', 'ПРОДАВЕЦ', 'СПЕЦИАЛИСТ', 'ВОДИТЕЛЬ', 'МЕНЕДЖЕР', 'ПРОДАВЕЦ КАССИР', 'КЛАДОВЩИК', 'ОПЕРАТОР', 'МЕНЕДЖЕР ПО ПРОДАЖАМ', 'ПОВАР', 'РАЗНОРАБОЧИЙ', 'ГРУЗЧИК', 'СЛЕСАРЬ', 'МОНТАЖНИК', 'РУКОВОДИТЕЛЬ', 'ДИРЕКТОР', 'КАССИР', 'ИНЖЕНЕР', 'ПРОДАВЕЦ-КАССИР', 'СВАРЩИК', 'МАСТЕР', 'БУХГАЛТЕР', 'СБОРЩИК', 'КУРЬЕР', 'ПРОДАВЕЦ-КОНСУЛЬТАНТ', 'ВОДИТЕЛЬ ', 'ЗАВЕДУЮЩИЙ ОТДЕЛЕНИЕМ', 'ВЕДУЩИЙ СПЕЦИАЛИСТ', 'МЕНЕДЖЕР ', 'ВОЕННОСЛУЖАЩИЙ', 'ОХРАННИК', 'ВОСПИТАТЕЛЬ', 'ОФИЦИАНТ', 'БРИГАДИР', 'ПОДСОБНЫЙ РАБОЧИЙ', 'ВОДИТЕЛЬ ЭКСПЕДИТОР', 'АДМИНИСТРАТОР ', 'МЕНЕДЖЕР ПО ПРОДАЖАМ ', 'ВОДИТЕЛЬ ПОГРУЗЧИКА', 'УЧИТЕЛЬ', 'ПРОДАВЕЦ ', 'КОМПЛЕКТОВЩИК', 'ТОВАРОВЕД', 'СТРОИТЕЛЬ', 'МЕДСЕСТРА', 'ТОКАРЬ', 'САНИТАРКА', 'ЭЛЕКТРОМОНТАЖНИК', 'СЕКРЕТАРЬ', 'ТЕХНИК', 'ПРОРАБ', 'ВОДИТЕЛЬ ТАКСИ', 'ВЕДУЩИЙ МЕНЕДЖЕР', 'ЭЛЕКТРИК', 'РАБОТНИК', 'СЛЕСАРЬ-РЕМОНТНИК', 'АВТОМЕХАНИК', 'БАРМЕН', 'ТРЕНЕР', 'МЕХАНИК', 'ВЫСШИЙ ОФИЦЕРСКИЙ СОСТАВ', 'ЭЛЕКТРОГАЗОСВАРЩИК', 'ДИРЕКТОР ', 'УПАКОВЩИК', 'ФОРМОВЩИК', 'ГЕНДИРЕКТОР', 'СТРОПАЛЬЩИК', 'МЕНЕДЖЕР ПО ПРОДАЖАМ АВТО', 'ГЛАВНЫЙ СПЕЦИАЛИСТ', 'КОНТРОЛЕР', 'АВТОСЛЕСАРЬ', 'КЛАДОВЩИК ', 'СОТРУДНИК', 'ПОМОЩНИК МАШИНИСТА', 'МАЛЯР', 'ПЕКАРЬ', 'УПРАВЛЯЮЩИЙ', 'ИНСПЕКТОР', 'ДИРЕКТОР МАГАЗИНА', 'ГЕНЕРАЛЬНЫЙ ДИРЕКТОР', 'ОПЕРАТОР ЧПУ', 'КОНСУЛЬТАНТ', 'СПЕЦИАЛИСТ ПО ЛОГИСТИКЕ', 'ПОЖАРНЫЙ', 'УБОРЩИЦА', 'ПАРИКМАХЕР', 'СТАРШИЙ СМЕНЫ', 'ШЕФ-ПОВАР', 'ОПЕРАТОР ', 'ДИСПЕТЧЕР', 'СТАРШИЙ ПРОДАВЕЦ', 'МАСТЕР УЧАСТКА', 'ВЕДУЩИЙ ИНЖЕНЕР', 'ЭКСПЕДИТОР', 'ГАЗОЭЛЕКТРОСВАРЩИК', 'МЕРЧЕНДАЙЗЕР', 'МОНТАЖНИК ', 'ПРОГРАММИСТ', 'ШВЕЯ', 'МЕДБРАТ', 'МАШИНИСТ', 'БЕТОНЩИК', 'МЕДИЦИНСКАЯ СЕСТРА', 'СУПЕРВАЙЗЕР', 'МАРКЕТОЛОГ', 'ИНДИВИДУАЛЬНЫЙ ПРЕДПРИНИМАТЕЛЬ', 'КОМАНДИР ОТДЕЛЕНИЯ', 'ОПЕРАТОР АЗС', 'ЭЛЕКТРОМОНТЁР', 'ЭЛЕКТРОМОНТЕР', 'ЗАВЕДУЮЩИЙ', 'ПРОДАВЕЦ КОНСУЛЬТАНТ', 'ВОСПИТАТЕЛЬ ', 'РУКОВОДИТЕЛЬ ', 'УБОРЩИЦА ', 'СОРТИРОВЩИК', 'ТОРГОВЫЙ ПРЕДСТАВИТЕЛЬ', 'ДВОРНИК', 'ПЕДАГОГ', 'ПРОДАВЕЦ КОНСУЛЬТАНТ ', 'ОХРАННИК ', 'ЛОГИСТ', 'СТАРШИЙ КАССИР', 'СТАРШИЙ АДМИНИСТРАТОР', 'СИСТЕМНЫЙ АДМИНИСТРАТОР', 'ПЛОТНИК', 'СТАРШИЙ СПЕЦИАЛИСТ', 'НАЧАЛЬНИК СМЕНЫ', 'РАБОЧИЙ ', 'ОХРАНА', 'ГЛАВНЫЙ ИНЖЕНЕР', 'АППАРАТЧИК', 'ДОРОЖНЫЙ РАБОЧИЙ', 'ПРЕПОДАВАТЕЛЬ', 'ЮРИСТ', 'ОТДЕЛОЧНИК', 'ПОМОЩНИК ВОСПИТАТЕЛЯ', 'НАЧАЛЬНИК ОТДЕЛА', 'ОПЕРАТОР СТАНКА', 'ЛАБОРАНТ', 'МОНТЕР ПУТИ', 'КАССИР ', 'СПЕЦИАЛИСТ ', 'ИП', 'МАСТЕР МАНИКЮРА', 'БАРИСТА', 'МАСТЕР МАНИКЮРА ', 'СТАРШИЙ МЕНЕДЖЕР', 'НАЛАДЧИК', 'ФЕЛЬДШЕР', 'ГРУЗЧИК ', 'МАСТЕР ЦЕХА', 'ИНСТРУКТОР', 'РАЗНОРАБОЧИЙ ', 'ПРЕДПРИНИМАТЕЛЬ', 'ЗАМЕСТИТЕЛЬ УПРАВЛЯЮЩЕГО', 'ТРАКТОРИСТ', 'ЭЛЕКТРОСВАРЩИК', 'ГОРНОРАБОЧИЙ', 'КАМЕНЩИК', 'ОХРАНИК', 'СЛЕСАРЬ МСР', 'БУРИЛЬЩИК', 'СТАРШИЙ ОПЕРАТОР', 'ПОМОЩНИК БУРИЛЬЩИКА', 'ШВЕЙЦАР ', 'ОФИЦИАНТ ', 'СЛЕСАРЬ ', 'ПОЛИЦЕЙСКИЙ', 'ГЛАВНЫЙ ВРАЧ', 'СПЕЦИАЛИСТ ОПП', 'АРМАТУРЩИК', 'ЗАМЕСТИТЕЛЬ РУКОВОДИТЕЛЯ', 'МАШИНИСТ ЭКСКАВАТОРА', 'АНАЛИТИК', 'ПОМОЩНИК РУКОВОДИТЕЛЯ', 'АВТОЭЛЕКТРИК', 'АНОДЧИК', 'АВТОМАЛЯР', 'ОБРУБЩИК', 'ПРИЕМОСДАТЧИК', 'ПРОДОВЕЦ', 'МАТРОС', 'САНИТАР', 'ИЗОЛИРОВЩИК', 'ПОМБУР', 'КОМАНДИР ВЗВОДА', 'МЕНЕДЖЕР ПО ПЕРСОНАЛУ', 'СТАРШИЙ ПОВАР', 'СТОРОЖ', 'РУКОВОДИТЕЛЬ ОТДЕЛА ПРОДАЖ', 'НАЧАЛЬНИК', 'МЕНЕДЖЕР ПО РЕКЛАМЕ', 'СПЕЦИАЛИСТ ПО СКЛАДСКОЙ ЛОГИСТИКЕ', 'КИНОЛОГ', 'НАЧАЛЬНИК ПРОИЗВОДСТВА', 'СОСТАВИТЕЛЬ ПОЕЗДОВ', 'ВАЛЬЦОВЩИК', 'ТЕХНОЛОГ', 'УБОРЩИК', 'ПРЕССОВЩИК', 'ЗВУКОРЕЖИССЕР', 'ФЛОРИСТ', 'МЛАДШИЙ ВОСПИТАТЕЛЬ', 'ВОДИТЕЛЬ-ЭКСПЕДИТОР', 'ПОВАР ', 'ВЫШКОМОНТАЖНИК', 'БРЕНД-МЕНЕДЖЕР', 'ВОДИТЕЛЬ АВТОБУСА', 'МЕНЕДЖЕР ОТДЕЛА', 'ТЕРМИСТ', 'СЛЕСАРЬ ПО РЕМОНТУ АВТОМОБИЛЕЙ', 'КОММЕРЧЕСКИЙ ДИРЕКТОР', 'ШИНОМОНТАЖНИК', 'НАЧАЛЬНИК ОХРАНЫ', 'МАНТАЖНИК', 'ДОЯРКА', 'СЛЕСАРЬ РЕМОНТНИК', 'КУХОННЫЙ РАБОТНИК', 'СТРОИТЕЛЬСТВО', 'ПРОДАВЕЦ -КАССИР', 'КОМАНДИР ОТДЕЛЕНИЯ ', 'МАШИНИСТ НАСОСНЫХ УСТАНОВОК', 'ГОРНИЧНАЯ', '347631', 'СТРЕЛОК', 'УПАКОВЩИЦА', 'ФРЕЗЕРОВЩИК', 'ОПЕРАТОР ГРУППЫ ПРИЕМА ЗАКАЗОВ', 'ВЕДУЩИЙ БУХГАЛТЕР', 'СБОРШИК', 'КАСИР', 'ЗАМЕСТИТЕЛЬ', 'КЛАДОВЩИК КОМПЛЕКТОВЩИК ', 'СЛЕСАРЬ САНТЕХНИК', 'ПЛИТОЧНИК', 'УЧАСТКОВЫЙ УПОЛНОМОЧЕННЫЙ ПОЛИЦИИ', 'МАСТЕР ', 'ЧЛЕН КОМАНДЫ', 'ПОМОШНИК БУРИЛЬЩИКА', 'ОПЕРАТОР СКЛАДА', 'МЕНЕДЖЕР ПО ПОДБОРУ ПЕРСОНАЛА', 'ВЛАДЕЛЕЦ', 'ОПЕРАТОР ЛИНИИ', 'ТЕХНИЧКА', 'ОПЕРАТОР КОТЕЛЬНОЙ', 'ЮРИСКОНСУЛЬТ', 'СЛЕСАРЬ КИП И А', 'ЭЛЕКТРО-МОНТЕР', 'РАМЩИК', 'ЗАМЕСТИТЕЛЬ НАЧАЛЬНИКА', 'КРЕДИТНЫЙ СПЕЦИАЛИСТ', 'ТОРГОВЫЙ ПРЕДСТАВИТЕЛЬ ', 'МАСТЕР ПРОИЗВОДСТВА', 'АГЕНТ', 'ТАКСИСТ', 'ИНЖЕНЕР ПТО', 'УПРАВЛЯЮЩАЯ', 'ФАСОВЩИК', 'МЕНЕДЖЕР ПО РАБОТЕ С КЛЮЧЕВЫМИ КЛИЕНТАМИ', 'ГЕНЕРАЛЬНЫЙ ДИРЕКТОР ', 'ЗАВЕДУЮЩАЯ', 'ЭЛЕКТРОМЕХАНИК', 'ЗАВ. СКЛАДОМ', 'САНТЕХНИК', 'СТАРШИЙ КЛАДОВЩИК', 'КРОВЕЛЬЩИК', 'СТАРШИНА', 'МАСТЕР ПЕЧАТИ', 'ФАСОВЩИЦА', 'КОНДИТЕР', 'РУКОВОДИТЕЛЬ ОТДЕЛА', 'НАЧАЛЬНИК УЧАСТКА', 'РАСКЛАДЧИК', 'СБОРЩИК МЕБЕЛИ', 'НАБОРЩИК', 'УЧИТЕЛЬ-ЛОГОПЕД', 'СПЕЦИАЛИСТ ПО РАБОТЕ ', 'УКЛАДЧИК УПАКОВЩИК', 'САМОЗАНЯТЫЙ', 'ТЕХНИК ПО ОБСЛУЖИВАНИЮ ТОРГОВЫХ АВТОМАТОВ', 'УПРАВЛЯЮЩИЙ ', 'УНИВЕРСАЛЬНЫЙ СОТРУДНИК МАГАЗИНА', 'СЛЕДОВАТЕЛЬ', '195197', 'РАСПИЛОВЩИК', 'СПОРТСМЕН', 'ДОРОЖНЫЙ МАСТЕР', 'МЕХАНИЗАТОР', 'ОТДЕЛОЧНИК ', 'ВОДИТЕЛЬ-ОПЕРАТОР', 'МЕНЕДЖЕР ПРОЕКТА', 'ПЛОТНИК БЕТОНЩИК', 'КОМАНДИР РОТЫ', 'ЗАМЕСТИТЕЛЬ ДИРЕКТОРА', 'БОЕЦ СКОТА', 'ПОМОЩНИК БУРИЛЬЩИКА ', 'ИНСТРУКТОР-СПАСАТЕЛЬ', 'ДОМОХОЗЯЙКА', 'ВОДИТЕЛЬ СПАСАТЕЛЬ', 'ОФИС-МЕНЕДЖЕР', 'ДОРОЖНЫЙ РАБОЧИЙ ', 'РАБОЧАЯ', 'СТАНОЧНИК', 'СТАРШИЙ МАСТЕР', 'СОБСТВЕННИК', 'СЛЕСАРЬ КИПИА', 'ТЕСТИРОВЩИК АВТОМАТИЗАТОР', 'КОНДУКТОР', 'ТРАНСПОРТЕРЩИК', 'СПЕЦИАЛИСТ ПО КАДРАМ', 'КОНЮХ', 'МЕХАНИК ', 'МЕНЕДЖЕР ПО ЗАКУПКАМ', 'ХОРЕОГРАФ', 'ВРАЧ СТОМАТОЛОГ', 'МЕДСЕСТРА ', 'РАБОЧИЙ НА ПРОИЗВОДСТВЕ ', 'ВОДИТЕЛЬ ПОГРУЗЧИКА ', 'ОХРАНА ', 'ПАРИКМАХЕР ', 'ТРАНСПОРТИРОВЩИК', 'МЛАДШИЙ ИНСПЕКТОР', 'МАССАЖИСТ', 'ЖЕСТЯНЩИК', 'МЕНЕДЖЕР ПРОДАЖ', 'УЧАСТКОВЫЙ', 'СБОРЩИК КОМПЛЕКТОВЩИК', 'ДИСПЕЧЕР', 'КАССИР В СТОЛОВОЙ', 'КУРСАНТ', 'РУКОВОДИТЕЛЬ ПРОЕКТА', 'ОПЕРАТОР ПК', 'НАЧАЛЬНИК ТЕХНИЧЕСКОГО ОТДЕЛА', 'ЭЛЕКТРОСЛЕСАРЬ', '144000', 'МОНТАЖНИК ТТ', 'ОПЕРАТИВНЫЙ ДЕЖУРНЫЙ', 'САПЕР', 'КУХОННЫЙ РАБОЧИЙ', 'ПОВАР-КАССИР', 'КЛАДОВЩИК-ОТБОРЩИК', 'СПАСАТЕЛЬ', 'СПЕЦИАЛИСТ ПО СКЛАДСКОЙ ОБРАБОТКЕ', 'МЕНЕДЖЕР ОТДЕЛА ПРОДАЖ', 'ДЕЛОПРОИЗВОДИТЕЛЬ', 'ЭКОНОМИСТ', 'ОПЕРАТОР 3С', 'ПЕРЕБОРЩИК', 'МЛАДШИЙ ПЕРСОНАЛ', 'АВТО СЛЕСАРЬ ', 'ВАХТЕННЫЙ ПОМОЩНИК КАПИТАНА', 'КАТЕГОРИЙННЫЙ МЕНЕДЖЕР', 'СБОРЩИК ЗАКАЗОВ', 'ОПЕРУПОЛНОМОЧЕННЫЙ', 'СПЕЦИАЛИСТ ПТО', 'ХОСТЕС', 'ГЕН ДИРЕКТОР', 'СОЛОДОВЩИК', 'МАШИНИСТ ЭЛЕКТРОВОЗА', 'МАШИНИСТ ТЕПЛОВОЗА', 'СТАРШИЙ БУХГАЛТЕР', 'ФИНАНСОВЫЙ ДИРЕКТОР', 'РУЛЕВОЙ', 'КОМЕНДАНТ', 'НАЧАЛЬНИК СКЛАДА', 'ПОМОЩНИК МАШИНИСТА ТЕПЛОВОЗА', 'СИГНАЛИСТ', 'ДИЗАЙНЕР', 'РАЗНАРАБОЧИЙ', 'ОПЕРАТОР ПО ДОБЫЧЕ', 'КОПИРАЙТЕР', 'СВАРШИК', 'СОРТИРОВКА', 'РАДИОТЕЛЕГРАФИСТ', 'РЕПЕТИТОР', 'СЕРВИСНЫЙ ИНЖЕНЕР', 'ОПЕРАТОР ТОРГОВОГО ЗАЛА', 'СЛЕСАРЬ ПО РЕМОНТУ', 'ТЕХНИЧЕСКИЙ СПЕЦИАЛИСТ', 'ОПЕРАТОР ШВЕЙНОГО ПРОИЗВОДСТВА', 'ВОЛОЧИЛЬЩИК', 'АГРОНОМ', 'ЛОГОПЕД', 'УПРАВЛЯЮЩИЙ МАГАЗИНОМ', 'ДРОБИЛЬЩИК', 'СКОТНИК', 'МЕНЕДЖЕР РЕСТОРАНА', 'ПОВАР-СТРЕЛОК', 'ОПЕРАТОР МАС', 'ГРУЗЧИК-КОМПЛЕКТОВЩИК', 'САМОЗАНЯТОСТЬ', 'ГРП', 'ИЗГОТОВИТЕЛЬ', 'АВТОСЛЕСАРЬ ', 'РАБОТНИК СКЛАДА', 'ФЕРМЕР', 'НЯНЯ', 'ВИДЕООПЕРАТОР', 'ЛОГИСТ ', 'ПОМОЩНИК ОПЕРАТОРА', 'КАМЕНЩИК ', 'БРИГАДИР ', 'ГЕОЛОГ', 'ФАСОВЩИЦА ', 'ПРОВОДНИК ПАССАЖИРСКОГО ВАГОНА', 'СТАРШИЙ СМЕНЫ ', 'КАССИР КОМПЛЕКТОВЩИК', 'РАЗРАБОТЧИК', 'СЫРОДЕЛ', 'ОПЕРАТОР ДОБЫЧИ НЕФТИ И ГАЗА', 'ПРОИЗВОДИТЕЛЬ РАБОТ', 'СБОРЩИК ОНЛАЙН ЗАКАЗОВ', 'СПЕЦИАЛИСТ СЕРВИСНОГО ЦЕНТРА', 'ГЛАВНЫЙ МЕХАНИК', 'МЛАДШАЯ МЕДИЦИНСКАЯ СЕСТРА', 'СИДЕЛКА', 'ВЕДУЩИЙ ЭКОНОМИСТ', 'ДЕТЕЙЛЕР', 'ВЕБ-РАЗРАБОТЧИК', 'МОЙЩИК ПОСУДЫ', 'МОТОРИСТ', 'ДИРЕКТОР СЕКТОРА', 'СТРОПОЛЬЩИК', 'СВАРНОЙ', 'СПЕЦИАЛИСТ ПО РАБОТЕ С КЛИЕНТАМИ', 'МАШИНИСТ ОБХОДЧИК ПО КОТЕЛЬНОМУ ОБОРУДОВАНИЮ', 'ШВЕЙ', 'ШТУКАТУР МАЛЯР', 'СТАРШИЙ ПРОДАВЕЦ-КАССИР', 'ПАРИКМАХЕР-СТИЛИСТ', 'СЛЕСАРЬ МЕХАНОСБОРОЧНЫЙ РАБОТ 2 РАЗРЯДА', 'СЛЕСАРЬ МЕХАНОСБОРОЧНЫХ РАБОТ', 'ИП ДИРЕКТОР', 'КОНДУКТОР ', 'МЛАДШИЙ ВОСПИТАТЕЛЬ ', 'МАСТЕР НОГТЕВОГО СЕРВИСА', 'ИНЖЕНЕР ТЕХНОЛОГ ', 'КОНТРАКТНИК', 'СНАБЖЕНЕЦ', 'РЕЗЧИК', 'ОПЕРАТОР ПВЗ', 'СОТРУДНИК СКЛАДА', 'ОПЕРАТОР ПЕСКОСТРУЙНОЙ УСТАНОВКИ', 'МЕД СЕСТРА', 'МАСТЕР СМР', 'КЛАДОВЩИК 3 РАЗРЯДА', 'ГЕОФИЗИК', 'ДЕФЕКТОСКОПИСТ', 'ЭЛЕКТРОЛИЗНИК', 'СПЕЦИЛИСТ ОПП', 'МОНТАЖНИК СВЯЗИ', 'МЕДРЕГИСТРАТОР', 'ИНЖИНЕР', 'СВАРЩИК ', 'ЭКСПЕДИТОР ', 'ДОКУМЕНТОВЕД', 'СТУДЕНТ', 'ТОВАРОВЕД ', 'СТАФЁР', 'СЛЕСАРЬ СБОРЩИК', 'ПОМОЩНИК ОПЕРАТИВНОГО ДЕЖУРНОГО', 'КОНСУЛЬТАНТ ', 'САМОДЕЯТЕЛЬНОСТЬ', 'МЕХАННИК', 'ДЕЗЫНФЕКТОР', 'НАВОДЧИК', 'КУРЬЕР ', 'ПРОДАВЕЦ УНИВЕРСАЛ', 'СЛЕСАРЬ МЕХАНО-СБОРОЧНЫХ РАБОТ', 'ФЛОТАТОР', 'РИЕЛТОР', 'УПАКОВЩИКИ', 'МАСТЕР ПРИЕМЩИК', 'МЕДИЦИНСКИЙ БРАТ', 'СЛЕСАРЬ-СБОРЩИК', 'СПЕЦИАЛИСТ ПО МОНТАЖУ КРОВЛИ', 'СТАРШИЙ ДИСПЕТЧЕР', 'МЕХАНИЗАТОР ', 'ГАРДЕРОБЩИК', 'МАШИНИСТ ИКК', 'ВЕСОВЩИК', 'ПОЛИЦЕЙСКИЙ ВОДИТЕЛЬ', 'СУДОВОЙ МАЛЯР', 'ПОДСОБНЫЙ', 'КОММЕРЧЕСКИЙ ДИРЕКТОР ', 'СТАРШИЙ СТРЕЛОК', 'МЕНДЖЕР ПО ПРОДАЖАМ ', 'МОНТАЖНИК ВЫСОТНИК', 'РАБОЧАЯ ', 'ЭЛЕКТРОМАНТЕР', 'ЗАВЕДУЮЩИЙ КАССОЙ', 'МЕНЧЕНДАЙЗЕР', 'ТЕПЛОТЕХНИК', 'КАМЕНЬЩИК', '430000', 'ВОДИТЕЛЬ- ЭКСПЕДИТОР', 'РАБОТНИК ТОРГОВОГО ЗАЛА', 'ЭЛЕКТРОГАЗОСВАРЩИК ', 'МЛАДШИЙ ИНСПЕКТОР ОТДЕЛА БЕЗОПАСНОСТИ', 'СОЦИАЛЬНЫЙ РАБОТНИК', 'КУХРАБОТНИК', 'ВАДИТЕЛЬ', 'РАБОТНИК ПБО', 'ОВОЩЕВОД', 'ПРОРАБ ', 'ОПЕРАТОР ПРОИЗВОДСТВА', 'РАСКРОЙЩИК', 'ДОСТАВКА', 'СЕТЕВОЙ АДМИНИСТРАТОР', 'ПРОДАВЕЦ-УНИВЕРСАЛ ФРОВ', 'СПЕЦИАЛИСТ ТЕНДЕРНОГО ОТДЕЛА', 'РАБОТНИК ', 'СТАРШИЙ ИНСПЕКТОР', 'ЭЛЕКТРОМОНТАЖНИК ', 'МАШИНИСТ ДВС', 'МОНТЁР ПУТИ', 'ПРОДАВЕЦ УНИВЕРСАЛ ', 'НАЧАЛЬНИК АПТЕКИ', 'ИНЖЕНЕР ТЕХНИЧЕСКОЙ ПОДДЕРЖКИ', 'КОМАНДИР', 'МУЗЕЙНЫЙ СМОТРИТЕЛЬ', 'ПРИБОРИСТ', 'БУХГАЛТЕР-КАССИР', 'БУХГАЛТЕР ', 'ПРОФКОНСУЛЬТАНТ', 'ПИЛОТ', 'МЕНЕДЖЕР ПО ЗАПАСНЫМ ЧАСТЯМ', 'КОНТРОЛЕР ТОРГОВОГО ЗАЛА', 'ГЛАВНЫЙ ИНЖЕНЕР ', 'ВЕДУЩИЙ СПЕЦИАЛИСТ-ЭКСПЕРТ', 'ВЕРСТАЛЬЩИК', 'ОПЕРАТОР МАШИННОГО ДОЕНИЯ', 'ВОДИТЕЛЬ КУРЬЕР', 'АРМАТУРЩИК ', 'ПЕРСОНАЛЬНЫЙ МЕНЕДЖЕР ', 'МАШИНИСТ БУЛЬДОЗЕРА ', 'РЕДАКТОР', 'КОСМЕТОЛОГ', 'СТРОПАЛЬЩИК ', 'ПОМОЩНИК ПОВАРА', 'ЗАКАЛЬЩИК', 'СУПЕР ШЕФ', 'МОНТАЖНИК ЖБК', 'ГЛАВНЫЙ ГОСУДАРСТВЕННЫЙ НАЛОГОВЫЙ ИНСПЕКТОР', 'РАБОТНИК НОЧНОЙ СМЕНЫ', 'БУНКЕРОВЩИК', 'ШТАМПОВЩИК', 'КОНТРОЛЁР', 'ПРОДАВЕЦ КАССИР ', 'ИНСТРУКТОР ПО ФИЗИЧЕСКОЙ КУЛЬТУРЕ', 'НАЧАЛЬНИК УЧАСТКА ЭКСПЛУАТАЦИИ', 'ЗАМЕСТИТЕЛЬ ГЕНЕРАЛЬНОГО ДИРЕКТОРА', 'МАСТЕР ОТДЕЛОЧНИК', 'САНИТАРКА ПАЛАТНАЯ', 'РОБОЧИЙ', 'МЕНЕДЖЕР СЕКРЕТАРЬ ', 'ГЛАВНЫЙ СПЕЦИАЛИСТ-ЭКСПЕРТ', 'РИЭЛТОР', 'АГЕНТ ПО НЕДВИЖИМОСТИ', 'ОПЕРАТОР ЧПУ ', 'СПЕЦИАЛИСТ ПО ПРОДАЖАМ', 'РУКОВОДИТЕЛЬ ГРУППЫ', 'РЫБООБРАБОТЧИК', 'ИНЖЕНЕР АСУ', 'ПОДОБНЫЙ РАБОЧИЙ', 'БОРТПРОВОДНИК', 'АССИСТЕНТ ВРАЧА СТОМАТОЛОГА', 'ВОДИТЕЛЬ АВТОМОБИЛЯ', 'ПОМОШНИК МАШИНИСТА  ЭЛЕКТРОПОЕЗДА', 'МАШИНИСТ ', 'РЯДОВОЙ ', 'АПАРАТЧИК', 'ПОМОЩНИК ВОСПИТАТЕЛЯ ', 'АПАРАЧИК', 'ПРЕДСТАВИТЕЛЬ', 'КУХОННЫЙ РАБОТНИК ', 'ДИРЕКТОР ПО МАРКЕТИНГУ', 'ФУТБОЛИСТ', 'СТАРШИЙ МЕНЕДЖЕР ПО ОБСЛУЖИВАНИЮ', 'СОТРУДНИК ПБО', 'СБОРЩИК ', 'СПЕЦИАЛИСТ ТЕХНИЧЕСКОЙ ПОДДЕРЖКИ', 'ОПЕРАТОР АЗС ', 'ПРОДАВЕЦ - КАССИР ', 'КАССИР ПРДАВЕЦ', 'СТРОПОЛЬШИК ', 'ГРУМЕР', 'УБОРЩИК СЛУЖЕБНЫХ ПОМЕЩЕНИЙ', 'СВАРКА', 'УПРАВЛЯЮЩАЯ МАГАЗИНОМ', 'ИНЖЕНЕР ПО ТО', 'СУШИЛЬЩИК', 'СБОРЩИЦА', 'СПЕЦИАЛИСТ ЦЕПИ ПОСТАВОК', 'КОНТРОЛЛЕР -УПАКОВЩИК', 'РАЗНАРОБОЧИИ', 'ПАНИРОВЩИК', 'УБОРЧИК ПРОИЗВОДСТВЕННЫХ И СЛУЖЕБНЫХ ПОМЕЩЕНИЙ', 'МОНТАЖНИК СЛАБОТОЧНОЙ СИСТЕМЫ', 'МЕНЕДЖИР', 'МОНТЁР ПУТЕЙ', 'ИНСПЕКТОР ДПС', 'РУКАВОДИТЕЛЬ', 'ИНЖЕНЕР-ТЕХНОЛОГ', 'РАБОТНИК ЦЕХА ', 'ДОВОДЧИК', 'ОПЕРАТОР ПРОИЗВОДСТВЕННОЙ ЛИНИИ', 'УЧАСТКОВАЯ МЕДСЕСТРА ', 'МАСТЕР ОБРАБОТКИ', 'ЗАМЕСТИТЕЛЬ НАЧАЛЬНИКА ОТДЕЛА МТО', 'ОПЕРАТОР ГАЗОВОЙ КОТЕНЛЬНОЙ', 'ПРОДОВЕЦ-КАССИР', 'МЕНЕДЖЕРЛ', 'ДВОРНИК И УБОРЩИЦА ЛЕСТНИЦЫ', 'МАШИНИСТ ЭКСВАТОРА', 'ОПЕРАТОР РЛС', 'ЭКСПЕРТ ПО ИНТЕЛЕКТУАЛЬНОЙ СОБСТВЕННОСТИ ', 'МАСТЕР ПО МАНЕКЮРУ', 'НАЛАДЧИК СВАРОЧНОГО И ГАЗОПЛАЗМОРЕЗАТЕЛЬНОГО ОБОРУДОВАНИЯ ', 'МЕНЕДЖЕР ПО УПРАВЛЕНИЮ С ПЕРСОНАЛОМ', 'ОПЕРАТОР ЛИНИИ РОЗЛИВА ПЭТ МОЛОКА', 'МАНТР ПУТИ', 'КООРДИНАТОР ', 'ПОМОЩНИК СТАНОЧНИКА', 'ЗАМЕСТИТЕЛЬ ДИРЕКТОРА ', 'КОНСУЛЬТАНТ ПО ОХРАНЕ', 'КУРАТОР ОБЪЕКТА ПАРКНЕФТЬ ГСЫЗРАНЬ ', 'КОНТРОЛЕР ОТК', 'ВРАЧ СУДМЕДЭКСПЕРТ', 'САМОЗАНЯТАЯ ', 'АППАРАТЧИК ПРИГОТОВЛЕНИЯ СМЕСЕЙ', 'КЧИТЕЛЬ', 'ОПЕРАТОР СПУ', 'СТАРШИЙ МАСТЕР ', 'РАБОТНИК ТОРГОВОГО ЗАЛА ', 'БИТОНЦИК СТРОИТЕЛЬ', 'КОМПЛЕКТОВЩИК-ГРУЗЧИК', 'ГРАНАТОМЕТЧИК', '33000', 'ПИВОВАР', 'УЧАСТКОВЫЙ УПОЛНОМОЧЕННЫЙ', 'МЕНЕДЖЕРОМ', 'ЛИТЕЙЩИК', 'СБОРЩИК ОТДЕЛЬЩИК', 'ШТУРМОВИК ', 'УБОРЩИЦА СЛУЖЕБНЫХ ПОМЕЩЕНИЙ ', 'КОЛАНДРОВЩИК', 'УПАКОВЩИЦА КОНФЕТ', 'ПОМОЩНИК НАЧАЛЬНИКА ОТДЕЛЕНИЯ', 'МОНТАЖНИК ВЫСОТНИК ', 'ГЛАВНЫЙ МЕХАНИК ', 'НАЧАЛЬНИК ОТДЕЛЕНИЯ ', 'РУКОВОДСТВО ', 'ПРОВЕРЩИК', 'ШТУКАТУРКА МОЛЯР', 'МЕНЕДЖЕР ПО ПРОДАЖАМ АВТОМОБИЛЕЙ', 'ПРОДЮСЕР', 'СВАРЩИК ПЛАСТМАСС', 'СТАРШИНА РОТЫ', 'СТРОИТЕЛЬ УНИВЕРСАЛ ', 'СВАРЩИК РДС', 'ОПЕРАТОР НАВОДЧИК', 'ПРЕДСЕДАТЕЛЬ ', 'МОЙЩИК ДЕЗИНФЕКТОР', 'АНДРЕЙ ', 'НАЧАЛЬНИК УЧАСТКА ', 'СТРОЙКА ', 'АДМИНИСТРАТОР ТОРГОВОЙ ТОЧКИ ', 'АППЕРАТОР  ТЕХ ОБОРУДОВАНИЯ     4 РАЗРЯДА', 'ДОЦЕНТ ', 'УПРАВЛЯЮЩИЙ ДИРЕКТОР', 'ОПЕРАТОР ШТАБЕЛЕРА', 'ОПЕРАТОР УПАКОВОЧНОГО ПРОИЗВОДСТВА ', 'МАСТЕР ПО ДЕПИЛЯЦИИ', 'СЛЕСАРЬ РЕМОНТНИК ', 'ПРЕСС-СЕКРЕТАРЬ', 'ПРОДАВЕЦ КУЛИНАР', 'ОПЕРАТОР ЛИСТОГИБОЧНОГО ОБОРУДОВАНИЯ', 'МЕНЕДЖЕР ПО ЛОГИСТИКЕ ', 'МАШИНИСТ-ТРАКТОРИСТ', 'КОНДУКТОР В АВТОБУСЕ', 'КОТЛОЧИСТ ', 'АДМИНИСТРАТОР ТОРГОВОГО ЗАЛА', 'МОТОРИСТ ЭЛЕКТРОМОНТЕР', 'МЕНЕДЖЕР ОТДЕЛА ЛОГИСТИКИ', 'РЫБООБРАБОТЧИК ', 'ЗАМЕСТИТЕЛЬ КОМАНДИРА ВЗВОДА', 'ФЛОРИСТ ПРОДАВЕЦ', 'СПЕЦИАЛИСТ ПО ДОСМОТРУ', 'КОМАНДИР ОТДЕЛЕНИЯ ПОЖАРНОЙ КОМАНДЫ', 'КОРЗ', 'ИЗОЛИРОВЩИК НА ТЕРМОИЗОЛЯЦИИ', 'ОПЕРАТОР ПЕРЕМОТКИ', 'СПЕЦИАЛИСТ ОТДЕЛА ЗАКУПОК', 'СТАРШИЙ ОПЕРАТОР АЗС', 'ИНСПЕКТОР ПО ДОСМОТРУ', 'ПОЛИЦЕЙСКИ', 'БАТЛЕР', 'СТРОГАЛЬЩИК', 'ДИРЕКТОР КОМПАНИИ', 'ДИСПЕТЧЕР ПУТЕЙ СООБЩЕНИЙ', 'САДЧИК', 'ТОРГОВЫЙ', 'МЛАДШИЙ СПЕЦИАЛИСТ', 'ОПЕРАТОР ПК ', 'ВОДИТЕЛЬ ОПЕРАТОР ', 'ОПЕРАТОР ЭВМ', '198188', 'ЧАСТНЫЙ ОХРАННИК', '1РАЗРЯД ОБРОБОЧИК', 'ИНСПЕКТОР ', 'ОПЕРАТОР ВЫДАЧИ ЗАКАЗОВ', 'СПЕЦИАЛИСТ ПО АРЕНДЕ', 'ЛЕПЩИЦА ПЕЛЬМЕНЕЙ', 'ОПЕРАТОР ТОВАРНОЙ', 'МЕД. РЕГИСТРАТОР', 'ОБРАБОТЧИК РЫБЫ И МОРЕ ПРОДУКТОВ', 'ПРИЕМЩИК', 'МАСТЕР ЛАЗЕРНОЙ ЭПИЛЯЦИИ', 'ЛАБОРАНТ ', 'ГРУЗЩИК ', 'СТАРШИЙ ОФИЦИАНТ', 'ВЕДУЩИЙ СИСТЕМНЫЙ АНАЛИТИК', 'КЛИНЁР', 'СПЕЦИАЛИСТ ПО НЕДВИЖИМОСТИ', 'ПОВАР КАССИР', 'ОПЕРАТОР МОЙЩИК', 'ПОДСОБНЫЙ РАБОЧИЙ ', 'ЖИВОТНОВОД ', 'ЭКСКОВАТОРЩИК', 'КЛИНЕР', 'РАБОТНИК ПУНКТА ВЫДАЧИ', 'НАЛАДЧИК СТАНКОВ С ЧПУ', 'ДИРЕКТОР ОФИСА ПРОДАЖ И ОБОРУДОВАНИЯ ', 'ПОМОЩНИК ПО СТРОЙКЕ', '344000', 'ГЛАВНЫЙ ФИНАНСОВЫЙ АНАЛИТИК', 'МЕНЕДЖЕР СМЕНЫ', 'ФАСОВЩЕЦА ', 'ОХРАННИК 6 РАЗРЯДА', 'ОПТОВЫЙ МЕНЕДЖЕР', 'КОНТРАКТНЫЙ УПРАВЛЯЮЩИЙ', 'ТЕЛЕФОНИСТ', 'НЕОСБОРЩИК', 'МАЛЯР ', 'СТАЛЕВАР', 'МЕНЕДЖЕР ПО РАЗВИТИЮ КЛИЕНТОВ ', 'ОПЕРАТОР СТАНКОВ С ПУ', 'ЭЛЕКТРОСЛЕСАРЬ СТРОИТЕЛЬНЫЙ', 'НАЧАЛЬНИК ОПС', 'ГЛАВНЫЙ РАЗРАБОТЧИК', 'КАССИР ОПП', 'РЕЖИССЕР МОНТАЖА', 'АКТЕР-АНИМАТОР', 'АСЕССОР', 'НАЛАДЧИК ОБОРУДОВАНИЯ', 'ФИТНЕС ТРЕНЕР', 'ЗАМЕСТИТЕЛЬ КОМАНДИРА', 'ПОВАР СУШИСТ', 'УЧРЕДИТЕЛЬ', 'ИНСТРУКТОР ПО ОБУЧЕНИЮ', 'ОБСЛ . ПЕРСОНАЛ', 'СОЦ РАБОТНИК', 'ВРДИТЕЛЬ ПОГРУЗЧИКА', 'МАШИНИСТ КОТЕЛЬНОЙ', 'ТЕХНИК-ЛАБОРАНТ', 'ПРИГОТОВИТЕЛЬ', 'ПЛАВИЛЬЩИК', 'ВЕТЕРИНАР', 'ТОВАРОВЕД ЛОМБАРДА', 'ВЕДУЩИЙ СПЕЦИАЛИСТ КОМИТЕТА ПО ФИЗИЧЕСКОЙ КУЛЬТУРЕ', 'ПРОДАВЕЦ -КОНСУЛЬТАНТ ', 'КУЛЬТ-ОРГАНИЗАТОР ', 'СТАРШИЙ СИСТЕМНЫЙ АДМИНИСТРАТОР', 'МАСТЕР ГАЗОДЫМОЗАЩИТНОЙ СЛУЖБЫ', 'СПЕЦИАЛИСТ ПО РАЗРАБОТКЕ МАРШРУТОВ', 'СУ ШЕФ', 'ВОДИТЕЛЬ ДИСПЕТЧЕР', 'ОТВЕТСТВЕЫЙ ЗМ ОТГРУЗКУ ', 'СТОМАТОЛОГ-ГИГИЕНИСТ ', 'ВАКУУМЩИК', 'СТАРШИЙ ЭКСПЕРТ', 'ДИКРЕТНЫЙ ОТПУСК', 'ОПЕРАТОР-БУХГАЛТЕР', 'ЛЭШМЕЙКЕР', '652729', 'РУКОВОДИТЕЛЬ ИТ ОТДЕЛА', 'ОООСТО', 'МАСТЕР СМЕНЫ', 'ОПЕРАТОР ЭВМ И ВМ', 'БРИГАДТР', 'СТ. СПЕЦИАЛИСТ 2 РАЗРЯДА ПО ИНФОРМАТИЗАЦИИ', '302004', 'ПОМОЩНИК БУХГАЛТЕРА', 'ЗАМЕСТИТЕЛЬ НАЧАЛЬНИКА СТАНЦИИ', 'СОТРУДНИК ПО РАБОТЕ С КЛИЕНТАМИ', 'КОММЕРЧЕСКИЙ ДИРЕКТОР ПО РАЗВИТИЮ', 'АВТОМАЛЯР ЖЕСТЯНЩИК', 'МЕНЕДЖЕГ', 'ОПЕРАТОР ПО ОБРАБОТКИ ПОСУДЫ ', 'СВК', 'ОПЕРАЦИОННЫЙ ДИРЕКТОР ', 'ПОМОЩНИК МАШИНИСТА ЭЛЕКТРОВОЗА, ТЕПЛОВОЗА', 'ОПЕРАТОР СОРТИРОВЩИК', 'АВТОМОЙКА', 'ОФИСНЫЙ РАБОЧИЙ', 'ЭКОНЛМИСТ', 'ВОДИТЕЛЬ-ДОРОЖНИК', 'КЛАДОВЩИК-РЕВИЗОР', 'ИНСПЕКТОР ПО ТРАНСПОРТНОЙ БЕЗОПАСНОСТИ', 'ОПЕРАТОР ФЕРМ И ЦЕХОВ', 'РУБШИК - ПРОДАВЕЦ', 'ГЗОЭЛЕКТРО СВАРЩИК', 'СЛЕСОРЬ', 'ПОКРАШИК', 'ВОДИТЕЛЬ ГЕОФИЗРАБОЧИЙ', 'РАБОЧИИ', 'ИНЖЕНЕР-ХИМИК', 'SEO-СПЕЦИАЛИСТ', 'РЕДОВОЙ', 'АССИСТЕНТ СТОМАТОЛОГА', 'СЛЕСАРЬ АВР', 'ЭЛЕКТРО МАНТЕР', 'ВЫСТАВЩИК', 'ОПЕРАТОР ИБ', 'РЕГУЛИРОВЩИК', 'УБОРЩИК МКД', 'СПЕЦИАЛИСТ ПО ТЕРМИНАЛЬНЫМ ОПЕРАЦИЯМ', 'ЗАВЕДУЮЩИЙ ЗЕРНОВОГО ДВОРА', 'ОПЕРАТОР ПО ДОБЫЧЕ НЕФТИ И ГАЗА ', 'ПЕСКОСТРУЙЩИК', 'КЛОДОВЩИК', 'СТАРШИЙ ДОЗНАВАТЕЛЬ', 'МАСТЕР ПРОИЗВОДСВА', 'ОПЕРАТОР ПОДДЕРЖКИ', 'МОНТАЖНИК ЭЛЕКТРИЧЕСКИХ ПОДЬЕМНИКОВ', 'СИСТТЕМНЫЙ АДМИНИСТРАТОР', 'СПЕЦИАЛИСТ ПО АХЧ', 'МАСТЕР НАРАЩИВАНИЯ ВОЛОС', 'ГЛАВНЫЙ БУХГАЛТЕР ', 'МЛАДШАЯ МЕД СЕСТРА ', 'ХИМИК ', 'НАЧАЛЬНИК ОТДЕЛА ПРОИЗВОДСТВА', 'ОПЕРАТОР ПО УХОДУ ЗА ЖИВОТНЫМИ', 'РАБОЧИЙ КОЗ', 'ВРАЧ ', 'СПЕЦИАЛИСТ ПО ПРЕДОТВРАЩЕНИЮ ПОТЕРЬ', 'ЛЕПЩИЦА ПОЛУФАБРИКАТОВ', 'ПАРИКМАХЕР - УНИВЕРСАЛ', 'ПРЕПОДАВАТЕЛЬ ИЗО', 'ОБРАБОТЧИК МЕТАЛЛА', 'ПОМОЩНИК МАШИНИСТА ЖДСМ', 'ЭЛЕКТРОМОНТЕР ', 'ПОМОЩНИК ОПИРАТОРА', 'РАСПРЕДЕЛИТЕЛЬ', 'СПЕЦИАЛИСТ ПО ТРАФИКУ', 'ОБСЛУЖИВАЮЩИЙ ПЕРСОНАЛ ', 'ОБКЛЕЙЩИК МАТРАСОВ', 'СПЕЦИАЛИСТ МАЛЯР', 'ЗАМ ДИРЕКТОРА ', 'ПРОМЫШЛЕННЫЙ АЛЬПИНИСТ', 'ФАСАДЧИК', 'СТАРШИЙ КОНСУЛЬТАНТ', 'ЗАВЕДУЮЩИЙ СКЛАДОМ', 'ВОДИТЕЛЬ АВТОПАРКА', 'ЭКСПЕРТ', 'ФРЕЗЕРОВЩИК ЧПУ', 'ЮВЕЛИРНЫЙ КОНСУЛЬТАНТ', 'ВОЕННОСЛУЖАЩИЙ ', 'АНТИКОРОЗИЙЩИК', 'ВИЗУАЛЬНЫЙ МЕРЧЕНДАЙЗЕР', 'ГЛАВНЫЙ ИНЖЕНЕР ПРОЕКТА', 'МАСТЕР ПО ОБСЛУЖИВАНИЮ ЗДАНИЙ', 'ПРОХОДЧИК', 'РАСПРЕДЕЛИТЕЛЬ РАБОТ', 'СПАСАТЕЛЬ ', 'АППЕРАТОР, БРИГАДИР', 'ОПЕРАТОР ДСК', 'РЕЖИССЕР ТЕАТРА', 'СПЕЦИАЛИСТ ПО РЕСТОВРАЦИИ', 'ПОЕЗДНОЙ ЭЛЕКТРОМЕХАНИК', 'ЭЛЕКТРОМАНТАЖНИК', 'ШТУКАТУР МОЛЯР', 'КРАНОВЩИК ', 'СТАРШИЙ КРЕДИТНЫЙ СПЕЦИАЛИСТ', 'УПАКОВЩИК ', 'МЕДИЦИНСКАЯ СЕСТРА ', 'РАЗНОРАБОЧМЙ', 'ОХРАННИЕ', 'СТАРШИЙ БАРМЕН ', 'АДМИНИСТРАТОР МАГАЗИНА ', 'СТРЕЛОК РОТЫ ОХРАНЫ', 'ВОДИТЕЛЬ ХИМИК ', 'ИНСТРУКТОР ПОВСК', 'ТАКТОРИСТ ', 'ВОДИТЕЛЬ ЭКСПИДИТОР', 'МОЙЩИК АВТОТРАНСПОРТНЫХ СРЕДСТВ', 'ДИРЕКТОР ГЕНЕРАЛЬНЫЙ', 'РАЗНОРОБОЧИЙ', 'ШЛИФОВЩИК', 'НАЧАЛЬНИК ОС', 'ЗАВЕДУЮЩИЙ ЛАБОРАТОРИЕЙ ', 'КЛИЕНТСКИЙ МЕНЕДЖЕР', 'FRONTEND- РАЗРАБОТЧИК', 'ФИТНЕС ТРЕНЕР ', 'СБОРЩИК -КЛАДОВЩИК', 'РАБОЧИЙ ПОДСОБНЫЙ', 'УПАКОФЩИЦА', 'СТАРШИЙ КОНТРОЛЬНЫЙ МАСТЕР ОТК', 'АРТИСТ', 'ОПЕРАТОР ЦЕНТРАЛИЗОВАННОЙ МОЙКИ', 'ПОЛИРОВЩИК', 'СУПЕРВИЗОР', 'ВЕДУЩИЙ СПЕЦИАЛИСТ ', 'ОТВЕТСТВЕННЫЙ СЕКРЕТАРЬ ПРИЁМНОЙ КОМИССИИ', 'МАКЕТЧИК', 'СЛУЖАЩАЯ', 'ОПЕРАТОР ЖИВОТНОВОДЧЕСКИХ КОМПЛЕКСОВ', 'СЛУЖБА БЕЗОПАСНОСТИ', 'МАСТЕР ПО РЕМОНТУ', 'СОТРУДНИК МЦ', 'ВЛАДЕЛЕЦ ', 'ОПЕРАТОР ПРИЕМКИ', 'СПЕЦИАЛИСТ ДСУ', 'СЛЕСАРЬ ВОДИТЕЛЬ', 'СПЕЦИАЛИСТ ПО ОХРАНЕ ТРУДА', 'МАШИНИСТ ПОГРУЗЧИКА', 'ОПЕРАТОР МАШИНОГО ДОЕНИЯ', 'СОЛИСТ ОРКЕСТРА', 'МАСТЕР ЦМК', 'СТАТИСТИК ', 'ЗАМЕСТИТЕЛЬ НАЧАЛЬНИКА ОХРАНЫ', 'ХУДОЖНИК', 'ДОКЕР', 'ПРОДАВЕЦ-КАСМИР', 'ЗАМЕСТИТЕЛЬ ДИРЕКТОРА МАГАЗИНА', 'АГРОХИМИК', 'МЕНЕДЖЕР ПО РЕКЛАМАЦИЯМ', 'АДМИНИТСРАТОР', 'ГРОЗ', 'НАЧАЛЬНИК СЛУЖБЫ РЭС', 'КУРАТОР ЛЕЧЕБНОГО ПРОЦЕССА', 'ПОЧТАЛЬОН 2-ГО КЛАССА', 'ОФИС-МЕНЕДЖЕРА', 'ЗАМЕСТИТЕЛЬ УПРАВЛЯЮЩЕГО ', 'УЧАСТКОВЫЙ ФЕЛЬДШЕР', 'СПЕЦИАЛИСТ ПО РАБОТЕ С ДОКУМЕНТООБОРОТОМ', 'ФАРШЕСОСТАВИТЕЛЬ', 'ИЗГОТАВЛИВАЮ КУКОЛ РЕБОРН', 'СПЕЦИАЛИСТ СКЛАДА', 'ОФЕЦАНКА', 'АДМИНИСТРАТОР МАГАЗИНА', 'СПЕЦИАЛИСТ ОТДЕЛА ПОТЕРЬ', 'СТАРШИЙ МЕХАНИК', 'ИНСПЕКТОР ГРУЗОВ', 'СУДОКОРПУСНИК', 'ОПЕРАТОР ВЫДАЧИ', 'МАСТЕР ДОМОФОНОГО ОБОРУДОВАНИЯ', 'ПОМОЩНИК ПРОКУРОРА', 'РУКОВОДИТЕЛЬ ПРОЕКТА ', 'МОНТАЖНИК ТЕХ ТРУБОПРОВОДА', 'ВАДИТИЛ', 'ВЛАДЕЛЕЦ САЛОНА КРАСОТЫ', 'НАЧАЛЬНИК ШТАБА', 'МОНТАЖНИК ВЫСОТНИК НВФ', 'ИО АДМИНИСТРАТОРА', 'ИНВАЛИД С ДЕТСТВА', 'ИНЖЕНЕР 2 КАТЕГОРИИ', 'МОНТАЖНИКОВ ЖБК', 'РУКОВОДИТЕЛЬ КРУЖКА', 'СТЕРЖЕНЩИК', 'СОРТИРОВЩИК ШПОНА И ФАНЕРЫ', 'ВОДИТЕЛЬ-АВТОПОГРУЗЧЕКА', 'ОБВАЛА МЯСА', 'МЕНЕДЖЕР КОЛЛ ЦЕНТРА', 'СЛЕСАРЬ РЕМОНТНИК 2 РАЗРЯДА', 'ПОМОЩНИК АДМИНИСТРАТОРА', 'ПРОГРАММИСТ, РАЗРАБОТЧИК', 'РАБОТНИК СЛАДА', 'УЧЕНИК ОПЕРАТОРА СТАНКА ЧПУ ', 'СЛЕСАРЬ МСР 3 РАЗРЯДП', 'РЕГИО', 'ПО БЛАГО УСТРОЙСТВА ГОРОДА ', 'ПОВАР В РЕСТОРАНЕ', '89182545563', 'НАЧАЛЬНИК ЦЕХА', 'ВИП-МЕНЕДЖЕР', 'ПЕКАРЬ ', 'СТАРШИЙ ПРЕДСТАВИТЕЛЬ', 'СПАСАТЕЛЬ 2 КЛАССА ', 'КОНТРОЛЛЕР ТЕХНИЧЕСКОГО СОСТОЯНИЯ АМТС 5 РАЗРЯДА', 'МОНТАЖНИК 3 РАЗРЯДА', 'ТЕХНИК МЕТЕОРОЛОГ ', 'ГАЗОРЕЗЧИК', 'ПАРЕХМАХЕР', 'АССИСТЕНТ', 'МЕДИЦИНСКИЙ ПРЕДСТАВИТЕЛЬ', 'СОРТИРОВЩИК ЗАКАЗОВ', 'ИНСТРУКТОР-КИНОЛОГ', 'СУ ШЕВ', 'ЭВАКУАТОРЩИК', 'НАЧАЛЬНИК УЧАСТТКА', 'ВЕДУЩИЙ СТПЕЦИАЛИСТ', 'РАЗНОРАБОЧИМ ', 'СТАРШИЙ СМЕНЫ НА ОБЪЕКТЕ-СП ПО ОУПДС', 'УЧАСТКОВАЯ МЕДСЕСТРА', 'ПОДБОРЩИК', 'АДНМИНЕСТРАТОР ТОРГОВОГО ЗАЛА', 'ПРОДАВЕЦ - КАССИР', 'ГРУЩИК', 'ДОКЕР-МЕХАНИЗАТОР', 'ПОМОШНИК РУКОВОДИТЕЛЯ ', 'УПОКОВЩИК БОРТОГО ПИТАНИЯ ', 'РАЗНАРОБОЧИЙ', 'МЕНЕДЖЕР ОФИСНЫХ ПРОДАЖ ', 'ТАКЕЛАЖНИК 2 СТАРТОВОЙ БАТАРЕЙ ', 'ПЕДАГОГ ПО СПОРТУ', 'ВОДИТЕЛЬ ЭКСПЕДИТОР ', 'ПОЧТАЛЬОН', 'СПЕЦИАЛИСТ ПО РАБОТЕ С КЛИЕНТАМИ ', 'АВТО СЛЕСАРЬ', 'ФАРМАЦЕВТ ', 'ЗАМЕСТИТЕЛЬ НАЧАЛЬНИКА ЛАЭС', 'МЕНЕДЖЕР ПО ПЛАНИРОВАНИЮ', 'САНИТАРКА ', 'РЕСТОВРАТОР', 'ПЛОТНИК ', '115093', 'ВОДИТЕЛЬ-ПОГРУЗЧИКА', 'АДМИН', 'КАССИР ТОРГОВОГО ЗАЛА ', 'ВОДИТЕЛЬ-ЗАПРАВЩИК', 'СТАРШИЙ ТАЛЬМАН', 'АСФАЛЬТОБЕТОНЩИК', 'МОНТАЖНИК СЛИП', 'МЕНЕДЖЕР ПРОДАЖ ', 'УКЛАДОВЩИК', 'СОТРУДНИК ОХРАНЫ', 'ОПЕРАТОР МАШИННОГО ДОНИЯ', 'ЗАВЕДУЮЩИЙ СКЛАДА', 'УПРАВЛЕНИЕ', 'ДОМА', 'ЗАВ СТОЛОВОЙ', 'СПЕЦИАЛИСТ СЕТИ ПОСТАВОК МАГАЗИНА', 'СОТРУДНИК ПУНКТА ВЫДАЧИ', 'ОПЕРАТОР ДНГ', 'ПОДМЕННЫЙ ОПЕРАТОР-МЕНЕДЖЕР', 'ПОВАР СУДОВОЙ', 'РЕЗЧИК БУМАГИ', 'НАЧАЛЬНИК СЛУЖБЫ ГСМ', 'ОПЕРАТОР ТУ', 'ДОКМЕЙСТЕР', 'СТАРШАЯ МЕДСЕСТРА', 'МЕНЕДЖЕР ПО РАБОТЕ С КЛИЕНТАМИ', 'АССИСТЕНТ ВРАЧА-СТОМАТОЛОГА', 'ПОВАР-УНИВЕРСАЛ', 'МАСТЕР СОТОВЫХ ТЕЛЕФОНОВ', 'ТЕЛЕОПЕРАТОР', 'РАСКАТЧИК', 'МОНТАЖНИК СТАЛЬНЫХ И ЖБК', 'МОНТАЖНИК ЛИФТОВОГО ОБОРУДОВАНИЯ', 'ПОМОЩНИК МАШИНИСТА МПТ-6', 'КАССИР КОНСУЛЬТАНТ ', 'СТОРОЖ ', 'ОПЕКАЕМЫЙ', 'ТЕХНИК ПО МЕТРОЛОГИИ', 'КОКБМ', 'МОНТИРОВЩИК ШИН', 'МАСТЕР МАЛЯРНЫХ РАБОТ', 'СПЕЦИАЛИСТ ПО СНАБЖЕНИЮ', 'СТОМАТОЛОГ', 'ИНЖЕНЕО', 'СБОРЩИК ЗАКАЗОВ ', 'ПРЕДПРИНИМАТЕЛЬ ', 'КОМАНДИР ', 'СЛЕСАРЬ ПО РЕМОНТУ ОБОРУДОВАНИЯ', 'КЛАДВЩИК', 'ВЕДУЩИЙ ИНСПЕКТОР', 'БРИГАДИР МОНТАЖНИК', 'МАТРОС-МОТОРИСТ , РУЛЕВОЙ', '+79022771626', 'ПРОДОВЕЦ КАССИР', 'ОСИМИНИТЕЛЬ', 'ХИМИК-ЛАБОРАНТ', 'ОПЕРАТОР СТАНК С ЧПУ', 'ПОВАР-ТЕХНОЛОГ', 'ЗАМЕСТИТЕЛЬ НАЧАЛЬНИКА СКЛАДЕ', 'ИНЖЕНЕР КОНСТРУКТОР 1 КАТЕГОРИИ', 'ОПЕРАТОР ЛЗ', 'ВАЛЩИК', 'КОНСУЛЬТАН ЧАТА', 'МЕНЕДЖЕР ПО ЗАКУПКАМ ', 'КРИЗИС МЕНЕДЖЕР', 'ДИРЕКТОР ФИЛИАЛА', 'НАЧАЛЬНИК ', 'ИКПИДИТОР ', 'ТЕЛЕГРАФИСТ', 'КОЧЕГАР', 'РАБОТНИК ПВЗ', 'ГЛАВНЫЙ ЭСПЕРТ', 'МАНТЁР ПУТИ 4 РАЗРЯДА', 'ОРГАНИЗАТОР', 'АУСТАФЕР', 'АДМЕНИСТРАТОР', 'ПЕДАГОГ-ПСИХОЛОГ', 'ДАЛЬНОБОЙЩИК', 'ВОДИТЕЛЬ ЛЕГКОВОГО АВТОМОБИЛЯ', 'ОПЕРАТОР АТТРАКЦИОНА', 'УБОРЩИЦА ПРОИЗВОДСТВЕННЫХ ПОМЕЩЕНИЙ ПИЩЕБЛОКА', 'ИНЖЕНЕР-АНАЛИТИК', 'ПОВАР УНИВЕРСАЛ', 'ДЕЛОПРОИЗВОДИТЕЛЬ-СЕКРЕТАРЬ', 'МАШИНИСТ БУРОВОЙ УСТАНОВКИ', 'РАБОТНИК ПО НАЙМУ', 'РАБОЧИЙ  ЗЕЛЕНОГО ХОЗЯЙСТВА 3 РАЗРЯД', 'РУКОВОДИТЕЛЬ ПРОИЗВОДСТВА', 'ВЕДУЩИЙ ИНЖЕНЕР-КОНСТРУКТОР', 'АРХИТЕКТОР', 'КЛАДОВЩИК ОТБОРЩИК', 'МАШИНИСТ КРАНА', 'ПОДГОТОВИТЕЛЬ', 'РУКОВОДИТЕЛЯМ', 'МЕНЕДЖЕР НАПРАВЛЕНИЯ', 'ПОХОРОННЫЙ АГЕНТ', 'МАСТЕР УСТАНОВКИ ДВЕРЕЙ ', 'СТАРШИЙ ОХРАННИК', 'ГЕН.ДИРЕКТОР', 'СПЕЦИАЛИСТ ПО ТРАНСПОРТУ', 'ОТБОРЩИК', 'СВЕРЛОВЩИК', 'ЭКСКУРСОВОД', 'УПАКОВЩИК КОМПЛЕКТОВЩИК ', 'ФРИЛАНСЕР', 'ГЕНИАЛЬНЫЙ ДИРЕКТОР ', 'ПОВАР 2 КАТЕГОРИИ', 'СЛИВЩИК - РАЗЛИВЩИК ', 'ВОДИТЕЛЬ СКОРОЙ ПОМОЩИ', 'КОМАНДИР ШТУРМОВОЙ ГРУППЫ ', 'СТРОИТЕЛЬ ', 'ПРОДАВЕЦ  КАССИР', 'СЛЕСАРЬ ЭРГО 4 РАЗРЯД ', 'МАШИНИСТ РУМ', 'КОСИОР', 'ТОЛКАТЬ РАСТОЧНИК', 'ОФЕЦИАНТ', 'КОМПЛЕКТОВЩИК ', 'МЛАДШИЙ ДИСПЕТЧЕР ', 'ЗАМ. ДИР. ПО РАЗВИТИЮ', 'СТАРШИЙ АВИАЦИОННЫЙ МЕХАНИК', ' ОХРАНА', 'ЗАМЕСТИТЕЛЬ ', '89370292315', 'ПОДЗЕМНЫЙ ГОРНОРАБОЧИЙ', 'КРАНОВЩИЦА ', 'УПАКОВЩИК УКЛАДЧИК ', 'КОМАНДИР ГРУППЫ', 'СПОРТСМЕН-ИНСТРУКТОР', 'ПОМОЩНИК ПРОДАВЦА', 'ИНЖЕНЕР ПТО ', 'ЗАМЕСТИТЕЛЬ КОМАНДИРА РОТЫ', 'СЛЕСАРЬ МЕХАНИК', 'УБОРЩИЦА СЛУЖЕБНЫХ ПОМЕЩЕНИЙ', 'БЕЗРАБОТНЫЙ', 'ИГРОК', 'БИБЛИОТЕКАРЬ ', 'КЛАДОВЧИК', 'ВЛАДЕЛЬЦ', 'ВУЛКАНИЗАТОРЩИК', 'ДИРЕКТОР РЕСТОРАНА ', 'СБОРЩИК БУРГЕРОВ', 'НИКТО', 'АВТОЭЛЕКТРИК-МЕХАНИК БОЛЬШЕГРУЗНЫХ МАШИН', 'МАСТЕР ПО МАНИКЮРУ', 'ЭЛЕКТРОМОНТЁР СТАНЦИОННОГО ОБОРУДОВАНИЯ', 'МЕНЕДЖЕР СЛУЖБЫ КОНТРОЛЯ', 'ОПЕРАТОР ПУЛЬТА УПРАВЛЕНИЯ', 'ГПХ', 'РАЗВЕДЧИК САПЁР', 'ТАКСИСТ ', 'МОНТАЖНИК НАРУЖНЫХ ТРУБОПРОВОД', 'СПЕЦИОЛИСТ ', 'КЛАДОВШИК', 'ВОДИТЕЛЬ-АВТОМОБИЛЯ', 'РЕГУЛИРОВЩИК РЭАИ П', 'АВТОМОЙЩИК', 'РУКОВОДИТЕЛЬ ОТДЕЛА ЛОГИСТИКИ ', 'ЖИВОТНОВОД', 'ДИРЕКТОР ПАРКА', 'СТАРШИЙ МЕНЕДЖЕР ПРОДАЖ', 'СНАБЖЕНЕЦ ', 'ПРЕССОВЩИК НА ГИДРОПРЕССАХ', 'УЧЕТЧИК ТАРЫ', 'ГРУЖЧИК', 'МЕТЕОНАБЛЮДАТЕЛЬ ВЫЧИСЛИТЕЛЬ', 'РАБОТНИК ТАРГОВАВА ЗАЛА', 'ИНЖЕНЕР ПНР', 'РУБШИК СУДОВОЙ', 'ДЕЖУРНЫЙ', 'ОПЕРАТОР КЛАДОВЩИК', 'СВАРЩИК АРГОН', 'МЕДИЦИНСКИЙ ДЕЗИНФЕКТОР', 'ПОМОЩНИК ОПЕРАТИВНОГО ДЕЖУРНОГО ДЕЖУРНОЙ ЧАСТИ', 'НЕ РАБОТАЮ ', 'ЭЛЕКТРОМОНТЕР ПО РИОЭО', 'РАЗНИ РОБОЧИ', 'ОПЕРАТОР СТАНКОВ', 'СПЕЦИАЛИСТ ПО КАДРАМ ', 'КЛАДОВЩИК ХРАНЕНИЯ ', 'МЕХАНИК ТЕЛЕФОНИСТ ', 'ИНЖЕНЕР -ЭНЕРГЕТИК ', 'РЕКЛАМНЫЙ МЕНЕДЖЕР', 'ИСПЫТАТЕЛЬ', 'ДЕЖУРНАЯ ДОМА ОТДЫХА', 'ОБРАБОТЧИК ПТИЦ', 'КЛАДОВЩИК ПРИЕМЩИК ', 'ЗООТЕХНИК', 'МУЗЫКАНТ', 'СТАРШИЙ ПРОВИЗОРЪ', 'ОПЕРАТОР ФАСОВОЧНОГО ОБОРУДОВАНИЯ', 'ПОВАР-КОНДИТЕР', 'ПРЕДСЕДАТЕЛЬ', 'АКУШЕРКА', 'БАРМЕНЕДЖЕР', 'ЗАЧИСТКА', 'ОПЕРАТОР НЕФТЕНАЛИВА', 'ОПЕРАТОР-КАССИР', 'СТАРШИЙ СПЕЦИАЛИСТ ТЕХНИЧЕСКОЙ ПОДДЕРЖКИ', 'ЗАМ ДИРЕКТОРА', 'ГИДРОЛОГ ', 'ЗАТОЧНИК ', 'АГЕНТ СОПП', 'ЗАВ.ПРОИЗВОДСТВОМ', 'ОБРАБОТЧИК РЫБЫ', 'ОФИС МЕНЕДЖЕР', 'СТИЛИСТ', 'ФАСОВШИК', 'ГРУЗЧИК МУСОРОВОЗА', 'САМОЗАНЯТОЙ', 'КОДИРОВЩИК СЛУЖБЫ ЗГТ', 'ГОСУДАРСТВЕННЫЙ ИНСПЕКТОР ДОРОЖНОГО НАДЗОРА ОГИБДД ', 'СТАРШИЙ ТЕХНОЛОГ', 'ОПЕРАТОР ПО СБОРКЕ ЗАКАЗОВ', 'РУКОВОДИТЕЛЬ ПРОЕКТОВ', 'ГЕНЕРАЛЬНЫЙ ДИРЕКТОП', 'СТАРШИЙ ЦЕХА', 'МУЗЫКАЛЬНЫЙ РУКОВОДИТЕЛЬ', 'СТАРШИЙ МЕНЕДЖЕР БАРА ', 'ТЕСТИРОВЩИК', 'ПОДСОБНЫЙ РАБОЧИИ', 'НАЧАЛЕ СМЕНЫ', 'СОТРУДНИКИ ОХРАНЫ', 'ТКАЧ', 'ВЕДУЩИЙ ИНЖЕНЕР-ПРОГРАММИСТ', 'АРХИВАРИУС', 'КАССИР-ОПЕРАЦИОНИСТ', '-', 'СЛЕСАРЬ ПАРО ГАЗОВАЯ ОБОРУДОВАНИЯ ', 'ТЕСТОВОД', 'КАССИР-КОМПЛЕКТОВЩИК', 'ГЛАВНЫЙ ЭНЕРГЕТИК', 'ОПЕРАТОР-ЛИНИИ', 'ТЕРМИСТ 5 РАЗРЯДА', 'МАСТЕР ЦЕХА ВАКУУМНОЙ УПАКОВКИ ', 'УКЛАДЧИК', 'МАКЛЕР', ' ', 'СПЕЦИАЛИСТ ПО ОБСЛУЖИВАНИЮ ЭЛЕКТРОТЕХНИКИ', 'РАЗНОРАБОЧИМ', 'МАСТЕР НАРАЩИВАНИЕ РЕСНИЦ', 'РУКОВОДИТЕЛЬ ФИЛИАЛА ', 'АППАРАТЧИК СЖИГАНИЯ', 'БИБЛИОТЕКАРЬ', 'ПОДСОБНЫЙ РАБОЧИЙ 1 РАЗРЯДА', 'НЕТ ДОМО ХОЗЯКА', 'МАШИНИСТ ПО СТИРКЕ', 'ШТУРМОАИК', 'ВОДИТЕЛЬ СНАБЖЕНИЦ', 'МЕНЕДЖЕР ОМТС', 'ПРОДАВЕЦ КРЕСТ ', 'ПОМОЩНИК ЮРИСТА', 'ЗАМЕСТИТЕЛЬ ГЛАВНОГО БУХГАЛТЕРА', 'ИНЖЕНЕР СМЕТЧИК', 'РУКОВОДИТЕЛЬ СЕКТОРА', 'РАБОЧИЙ СЛЕСАРЬ', 'ФАСОВЩИК ', 'БУРИЛЬЩИК ', 'ОФИЦЕР ПОЛИЦИИ ', 'МАШИНИСТ ТЕПЛОВОЗА ', 'МЕНЕДЖЕР ПО КЛИНИНГУ', 'КОМЛЕКТОВЩИК ЭКСПЕДИТОР', 'СОТРУДНИК ', 'МОНТАЖНИК ЖЕЛЕЗО БЕТОННЫХ КОНСТРУКЦИЙ', 'ЗАВЕДУЮЩЕЙ ', 'САМОЗЯНЯТАЯ', 'ПОВАР-БРИГАДИР', 'ВОДИТЕЛЬ ПЕРЕГОНЩИК', 'ОТДЕЛЬЩИК ', 'СУПЕРВАЙЗЕР ', 'ТЕХНИЧЕСКИЙ ПЕРНОНАЛ ', 'ВОДИТЕЛЬ ЭЛЕКТРИК ', 'СПЕЦИАЛИСТ РАСЧЕТНОГО ОТДЕЛА', 'РУКОВОДИТЕЛЬ МАГАЗИНА', 'ОПЕРАТОР МАШИН РУМ', 'СТАРШИЙ НОМЕР', 'ПРАПОРЩИК', 'КАВИСТ ', 'ГЛАВНЫЙ МЕНЕДЖЕР - ЗАМЕСТИТЕЛЬ РУКОВОДИТЕЛЯ', 'РАБОЧИЙ РЕЗИНОВЫХ ИЗДЕЛИЙ', 'СТРЕЛОК СОПРОВОЖДЕНИЯ', 'ПРОФЕССИОНАЛЬНЫЙ ФУТБОЛИСТ', 'ВРАЧ ФИЗИОТЕРАПЕВТ', 'ДОППЕДАГОГ', 'АРХИВИСТ', 'МЕДИЦИНСКИЙ РАБОТНИК', 'НОПС', 'АППАРАТЧИК ОСАЖДЕНИЯ', 'КОНТРОЛЛЕР БОЕПРИПАСОВ', 'ГРУЗЧИК ЭКСПЕДИТОР ', 'СТАРШИЙ ВОДИТЕЛЬ', 'ОПЕРАТОР ПФМ', 'АРТИСТ БАЛЕТА', 'ВЕТЕРИНАРНЫЙ ВРАЧ', 'КОМАНДИР ГРУППЫ ', 'КЛАДОВЩИК ГСМ ', 'МЛАДШАЯ МЕДСЕСТРА', 'ЗАМЕСТИТЕЛЬ НАЧАЛЬНИКА ЧАСТИ ', 'СТАРШИЙ ИНЖЕНЕР', 'ИНЖЕНЕР КОНСТРУКТОР', 'СЛУЖБА ПО КОНТРАКТУ', 'БРЕНД-КОНСУЛЬТАНТ ', 'ФОТОГРАФ', 'СТАРШИЙ НАЛАДЧИК', 'НАРАЩИВАНИЕ НОГТЕЙ', 'НАЛАДЧИК ', 'ГРУЗЧИК 2 РАЗРЯДА ', 'ПОМОЩНИК МАШИНИСТА ЭЛЕКТРОВОЗА', 'СТАРШИЙ ТРЕНЕР ', 'РАЗНА РАБОЧИЙ', 'ПИЛЬЩИК', 'МАСТЕР ПО НАРАЩИВАНИЮ РЕСНИЦ ', 'ЛАБОРАНТ ХИМИЧЕСКОГО АНАЛИЩА', 'МЕДИЦИНСКАЯ  СЕСТРА', 'ОПЕРАТОР СТАНКА С ПУ', 'ЭЛЕКТРОСЛЕСАРЬ ПОДЗЕМНЫЙ ', 'МЕНЕДЖЕР ПО ПРОДАЖАМ ТОВАРАМ', 'ИНВЕНТ', 'РАБОЧИЦ', 'МЕНЕДЖЕР ПО ТЕНДЕРАМ', 'УПРАВЛЯЮЩИЙ АВТОСЕРВИСА', 'МЕНЕДЖЕР ОТДЕЛА КАДРОВ', 'ФЕЛЬДШЕР ', 'МЕНЕДЖЕР ТОРГОВОГО ЗАЛА', 'СБОРЩИК МЕТАЛЛОКОНСТРУКЦИЙ ', 'УПРАВЛЯЮЩИЙ ШМ', 'МАСТЕР КРС', 'САНТЕХНИК ', 'МЕНЕДЖЕР ОТДЕЛА РЕАЛИЗАЦИИ ПРОЕКТОВ', 'ОФИС МЕНЕДЖЕР ', 'ТАРГЕТОЛОГ', 'СЛИВЩИК-РАЗЛИВЩИК', 'ГРУЗЖЧИК', 'МАШЕНИСТ ЭКСКОВАТОРА ', 'ЭЛЕКТРОМОНТАЖ', 'МОНТАЖНИК ТЕХНОЛОГИЧЕСКОГО ТРУБОПРОВОДА', 'ОПЕРАТОР ЗС', 'КОНДУКТОР ТРАМВАЯ', 'КАЛЬЯНЫЙ МАСТЕР', 'ПОЛЕВОЙ РАБОЧИЙ ', 'ЗА РУКОВОДИТЕЛЯ', 'МЕНЕДЖЕР ПО РАБОТЕ ', 'ПОЛИГРАФ', 'РАЗБОРЧИК', 'БИТУМЩИК', 'РАЗЛИВЩИК ЦВЕТНЫХ МЕТАЛЛОВ', 'ПОЛОМОЙКА ', 'ВОДИТЕЛЬ ГРУЗОВОГО АВТОМОБИЛЯ ', 'СПЕЦИАЛИСТ ПО НЕДВИЖИМОСТИ ', 'ДИРЕКТОР ПО СТРОИТЕЛЬСТВУ', 'СПЕЦИАЛИСТ ПО РАЗРАБОТКЕ ДОКУМЕНТАЦИИ', 'НАЧАЛЬНИК ПО ПРОДАЖАМ ', 'ДЕЖУРНЫЙ ПО СТАНЦИИ ', 'ОПЕРАТОР КОММЕРЧЕСКОГО ОТДЕЛА', 'ПРОДОВЕЦ ', 'МЛАДШИЙ СЕРЖАНТ', 'МОБИЛЬНЫЙ ПРЕДСТАВИТЕЛЬ', 'ГОСНАЛОГИНСПЕКТОР', 'ЭЛЕКТРОМОНТЕР ПО ОБСЛУЖИВАНИЮ БУРОВЫХ', 'РАЗВЕДЧИК', 'РАБОЧАЯ САДА', 'УКЛАДЧИК-УПАКОВЩИК', 'ЛОГИСТИКА', 'ТИХНИЧКА', 'МАСТЕР УЧАСТКА ', 'РАЗНОРПБОЧИЙ', 'ЗАПРАВЩИК ', 'МОНТЕР ПУТЕЙ', 'ШИХТОВЩИК 3-ГО РАЗРЯДА ', 'ТЕЛЯТНИЦА', 'МАШИНИСТ НАСОСНЫХ ', 'КЛАДОВЩИК 2 РАЗРЯДА', 'АДМИНИСТРАТОР ПК', 'ПОМОЩНИК ОПЕРАТИВНОГО ДЕЖУРНОГО ', 'РЕСЕПШИОНИСТ', 'ОПЕРАТОР ТХУ', 'МАСТЕР ПРИЁМЩИК', 'ИНСПЕКТОР ДПП ', 'РАБОЧИЙ ДОРОЖНОГО ХОЗЯЙСТВА', 'ТЕХНОЛОГИ ДИЗАЙНЕР КУХОННОЙ И КОРПУСНОЙ МЕБЕЛИ ', 'ЗАВЕДУЮЩИЙ ОТДЕЛОМ ПО ВР И СЗС ', 'МЕНЕДЖЕР КЛО', 'ПРАДОВЕЦКОНСУЛЬТАНТ', 'ОБОЙЩИК МЕБЕЛИ', 'ДИЗАЙНЕР ', 'ОПЕРАТОР ВАКУУМНОЙ УПАКОВКИ', 'ДИРЕКТОР АПТЕКИ', 'ПИАР-МЕНЕДЖЕР', 'ПОМОЩНИК ДЕПУТАТА', 'ИНЖЕНЕР ПО ПРОДАЖАМ ', 'РАБОЧИЙ РАСТВОРНОГО УЗЛА', 'ПРОДАВЕЦ НЕПРОДОВОЛЬСТВЕННЫХ ТОВАРОВ ', 'МЕНЕДЖЕР ПО ПРАДАЖАМ', '21 ИЮНЯ 2023 ГОДА РАБОТНИК САДА', 'ДИРЕКТОР ПО ПРОДАЖАМ', 'РЫБОВОД ', 'СЛУЖАЩИЙ', 'ПРИЕМЩИК ПРАДУКТ', 'МАШИНИСТ ЭЛЕКТРОПОЕЗДА', 'БРИГАДИР СЕЛЬСКОГО ХОЗЯЙСТВА', 'ПОДГОТОВИТЕЛЬ ПИЩЕВОГО СЫРЬЯ', 'СОТРУДНИК СКЛАДА ', 'ПОДЗЕМНЫЙ ЭЛЕКТРОСЛЕСАРЬ', 'РЕПЕТИТОР АНГЛИЙСКОГО И ИСПАНСКОГО ЯЗЫКОВ', 'ВОДИТЕЛЬ ГРУЗОВИКА', 'ОХРАННИК-КИНОЛОГ', 'ЭКОНОМИСТ ', 'УЧИТЕЛЬНИЦА ', 'УПРАВЛЯЮЩИЙ МАГАЗИНОМ ', 'БИТОНЩИК 4 РАЗРЯДА ', 'ФИРМЫ ДИРЕКТОР', 'РАЗНОРОБОЧИЙ ', 'УБОРЩН', 'РУКОВОДИТЕЛЬ ОТДЕЛА ЛОГИСТИКИ', 'РАБОЧИЙ ПО ЗАПРАВКЕ', 'МОНТАЖНИК СТРОПОЛЬЩИК', 'ИНЖЕНЕР СТРОИТЕЛЬ ', 'ПЛОТНИК БЕТОНШИК', 'МЕНЕДЖЕР ПО ПРОДАЖЕМ', 'АУТСТАФФ МЕНЕДЖЕР ', 'БРИГАДИР УБОРЩИЦА', 'УПАКОВЩИК ПРОДУКЦИИ', 'СПЕЦИАЛИСТ ПО УЧЕБНО-МЕТОДИЧЕСКОЙ РАБОТЕ', 'МЕНЕДЖЕР ПО ПРОДАЖИ', 'МЕНЕДЖЕР ПО ПОДБОРУ ПЕРСОНАЛА ', 'КЛАДОВЩИК-КОМПЛЕКТОВЩИК', 'НОМЕР РАСЧЁТА', 'РУКОВОДИТЕЛЬ НАУЧНО-ТЕХНИЧЕСКОГО ОТДЕЛА', 'СТАРШИЙ СОТРУДНИК СУПЕРМАРКЕТА (ПРИЕМКА)', 'ПОМОЩНИК РУКОВОДИТЕЛЯ ', 'НАЧАЛЬНИК ОТДЕЛА КАДРОВ', 'НЕФТЕДОБЫТЧИК', 'СТРОИТЕЛЬ СУХОЙ СТЯЖКИ', 'СЛЕСАРЬ МОЛОЧНЫХ ОПОРАТОВ', 'РЕГУЛИРОВЩИК РЭАИП/ВРИО РУКОВОДИТЕЛЯ ОБЪЕКТА', 'ОБРАБОТЧИК ПЛАСТМАССОВЫХ ИЗДЕЛИЙ', 'ПОЖАРНЫЙ СПАСАТЕЛЬ ', 'АГРОЛЕСОМЕЛЛИОРАТОР', 'СПЕЦИАЛИСТ ПО СКАНИРОВАНИЮ И АРХИВИРОВАНИЮ', 'СПЕЦИАЛИСТ ПО ШИНОМОНТАЖУ', 'ПОВАР ПРОДАВЕЦ', 'СОВЕТНИК', 'СЛЕСАРЬ-РЕМОНТИК', 'ЗАМЕСТИТЕЛЬ ГЕНДИРЕКТОРА', 'ФЛОРИСТ/ПРОДАВЕЦ', 'ППС', 'СТРАИТЕЛЬ ПО ПОКРАСКИ СТЕН', 'МОНТАЖНИК СТ И ЖБК 5 РАЗРЯД', 'КАПРОВЩИК', 'ПЕНСИОНЕР', 'ВАЛЬШИК ЛЕСА', 'ОБОЙЩИК', 'МОСТЕР', 'ВОДИТЕЛЬ АБС', 'IT-СПЕЦИАЛИСТ', 'АВИАМЕХАННИК', 'СЛЕСАРЬ-МОНТАЖНИК СУДОВОЙ', 'МОНТАЖНИК ОКОН ПВХ', 'ЗАМ ГЕНДИРЕКТОР ', 'ДОРОЖНОРАБОЧИЙ', 'СОТРУДНИКИ', 'ИНТЕРНЕТ МАГАЗИН', 'ОХРАННИК КОНТРОЛЕР', 'СПЕЦИАЛИСТ ОТДЕЛА ПЕРСОНАЛА ', 'МАШИНИСТ ПЕРЕГРУЖАТЕЛЯ', 'НАЧАЛЬНИК ОЭБ', 'МОНТАЖНИК ВЕНТЕЛИЦИОНЫХ СИСТЕМ', 'СТРОПОЛШИК', 'ДСПО', 'НАСТАВНИК', 'МЕРЧАНДАЙЗЕР', 'ОПЕРАТОР С ПУ', 'ВЯЗАЛЬЩИК СХЕМНЫХ ЖГУТОВ', 'АДМИНИСТРАТОР КОНСУЛЬТАНТ', 'МОНТАЖНИК КАБЕЛЬЩИК', 'ШТУКАТУР-МАЛЯР', 'АДМИНИСТРАТОР МОЙКИ', 'НАМОТЧИК', 'ВОДИЬЕЛЬ', 'РУКОВОДИТЕЛЬ СТРОИТЕЛЬСТВА', 'ПЛОТНИК БЕТОНЩИК ', 'КОНСУЛЬТАНТ ПО НЕДВИЖИМОСТИ ', 'ОПЕРАТОР МАШИНЫ ПЭ', 'НАМОТЧИК СТАНКА', 'ГРУЗОПЕРЕВОЗКИ', 'ОПРЕССОВЩИК', 'ОПЕРАТОР 1С', 'СУДЕБНЫЙ ПРИСТАВ', 'СЛЕСАРЬ ЭЛЕКТРИК', 'ТРУБОПРОВОДЧИК', 'НАЧАЛЬНИК ЛАБОРАТОРИИ', 'СПЕЦИАЛИСТ ЦЕНТРА КОММУНИКАЦИИ', 'СТРОПОЛЬЧИК ', 'КАРЩИК', 'КЛАДОВЩИК КОМПЛЕТОВЩИК', 'ПОМОЩНИК НА КУХНЕ', 'МЛ ИНСПЕКТОР', 'ЗАПРАВЩИК ТЕКСТИЛЬНОГО ОБОРУДОВАНИЯ ', 'МАСТЕРОМ', 'ВЕДУЩИЙ ЭКСПЕРТ', 'НАЧАЛЬНИК СЛУЖБЫ', 'УПРОВЛЯЮЩИЙ', 'ДОРОЖНИК ', 'СТАРШИЙ СМЕНЫ ОХРАНЫ', 'МЕНЕДЖЕР ОТДЕЛА ПРЯМЫХ ПРОДАЖ', 'ВОДИТЕЛЬ АВТОМОБИЛЯ ', 'СПЕЦИАЛИСТ ПО ЗАКУПКАМ', 'СЛЕСАРЬ ПО РЕМОНТУ МЕТАЛЛОКОНСТРУКЦИИ ', 'МЕНЕДЖЕР ОЦИСА', 'ОПЕРАТОР МИАС', 'МЕНЕДРЕЖ', 'МАШИНИСТ ЭКСКАВАТОРА ', 'ЗАВЕДУЮЩАЯ ПРОИЗВОДСТВОМ', 'ОПЕРАТОР ОПК', 'ПОМОЩНИК ТОВАРОВЕДА', 'СОЦИАЛЬНЫЙ ПЕДАГОГ', 'АККАУНТ МЕНЕДЖЕР', 'СПЕЦИАЛИСТ АХО ', 'МЕТЕОРОЛОГ', 'НАЧАЛЬНИК СВЯЗИ', 'ПОМОЩНИК СОЛИСТА', 'ВАЛЬЩИК', 'ЗАГРУЗЧИК ШИХТЫ', 'ВОХР', 'РУБЩИК', 'ВОДИТЕЛЬ ТАКСИ ', 'УБОРЩИК СЛУЖЕБНЫХ ПОМЕЩЕНИЙ ', 'РАБОТНИК ВОИНСКОГО УЧЕТА ', 'СПЕЦИАЛИСТ ПО ОБУЧЕНИЮ', 'ОПЕРАТОР АЛМАЗНОГО БУРЕНИЯ', 'СБОРЩИК ОКОННЫХ КОНСТРУКЦИИ', 'ТРАКТАРИСТ', 'ОБВАЛЬЩИК', 'ДИРЕКТОР ИП', 'ОПЕРАТОР ПО РАННЕМУ ВЗЫСКАНИЮ', 'МАШИНИСТ ЛОКОМОТИВА', 'ИНСТРУКТОР РАЗВЕДЧИК', 'СТАРШИЙ СБОРЩИК', 'ДИРЕКТОР ПРОИЗВОДСТВА', 'ОПЕРАТОР КЛЕЕВОГО СТАНЦИИ', 'ПАРИКМАХЕР СТИЛИСТ', 'ПОМОЩНИК ПРЕПОДАВАТЕЛЯ', 'СЛЕСАРЬ ИНСТРУМЕНТАЛЬЩИК', 'ТЕХНИК АВР', 'КОНТЕНТ-МЕНЕДЖЕР', 'ИЛЕКТРОГАЗОСВАРЩИК', 'ПРИЕМКА', 'МАСТЕР МОНТАЖА ', 'ПОМОЩНИК ПОВАРА ', 'РЕЗЧИК ТРУБ', 'МЕНЕДЖЕР ПВЗ ', 'СБОРЩИК ТОВАРА ', 'УКЛАЧИК', 'МОЙЩИК', 'ПЕРСОНАЛ ПО ОБСЛУЖИВАНИЮ СОБОРА', 'ТЕЛЕМАРКЕТОЛОГ', 'УХОД ', 'ПОМОЩНИК', 'ВОЕННЫЙ ', 'ШИНОМОНТАЖНИК ', 'ОПЕРАТОР СТЕРИЛЬНЫХ МАШИН', 'ГРУЗЧИК СКЛАДА', 'НАЧАЛЬНИК УПРАВЛЕНИЯ', '79940261303', 'СБОРЩИК КОРПУСНОЙ МЕБЕЛИ', 'ЗЛЕКТРОСВАРЩИК МОНТАЖНИК', 'МЕХАНИК РАДИОСТАНЦИИ ', 'СТАРШИЙ МИНЕР', 'ОПЕРАТОР ПО СБОРКИ СТЕКЛОПАКЕТОВ', 'ОПЕРАТОР ДОБЫЧИ НЕФТИ И ГАЗА ', 'ОПЕРАТОР МНЛЗ', 'ЭЛЕКТРИК ', 'ЦБОРЩИЦА', 'ТЦ БАШМАКОВО ', 'ОПЕРАТОР ПНЕВМОНАГНЕТАТЕЛЯ ', 'ГРУППАКОМПЛЕКТОВШИК ', 'БЕТОНОУКЛАДЧИК', 'КРЕДИТНЫЙ СПЕЦИАЛИСТ ', 'ЗВУКОРЕЖИССЁР', 'ВАЛЬЩИК ЛЕСА', 'МОБИЛЬНЫЙ АДМИНИСТРАТОР', 'ТОКАРЬ ', 'ЗАВХОЗ', 'АДМИНИСТР', 'СТАРШИЙ РАБОТНИК ТОРГОВОГО ЗАЛА', 'ОТДЕЛОЧНЫЕ РАБОТЫ', 'СЛЕСАРЬ-МОНТАЖНИК', 'АДМИНИСТРАТОР ЗАЛА', 'ЗАВЕДУЮЩАЯ АПТЕКАМИ', 'МАШИНИСТ АММИАЧНО-ХОЛОДИЛЬНЫХ УСТАНОВОК', 'СПЕЦИАЛИСТ ОФИСА ПРОДАЖ', 'ПОДРОБНЫЙ РАБОЧИЙ ', 'ГЛАВНЫЙ ПРОДОВЕЦ', 'РТЗ', 'ДЕРЕКТОР ', 'ВЕДУЩИЙ АРХИВИCТ']\n",
      "Post Что оставляем\n",
      " {'РАБОЧИЙ': 404606, 'СЛУЖАЩИЙ / СПЕЦИАЛИСТ': 349804, '0': 246510, 'НАЧАЛЬНИК / РУКОВОДИТЕЛЬ': 81751, 'РУКОВОДИТЕЛЬ КОМПАНИИ': 41846, 'ВОЕННЫЙ': 14443, 'ДРУГОЕ': 1229, 'МЕДСЕСТРА/МЕДБРАТ': 902, 'РЯДОВОЙ': 839, 'ГЛАВНЫЙ БУХГАЛТЕР': 753, 'ОФИЦЕР': 571, 'ВРАЧ': 307, 'ФАРМАЦЕВТ': 159} \n",
      " dict_keys(['РАБОЧИЙ', 'СЛУЖАЩИЙ / СПЕЦИАЛИСТ', '0', 'НАЧАЛЬНИК / РУКОВОДИТЕЛЬ', 'РУКОВОДИТЕЛЬ КОМПАНИИ', 'ВОЕННЫЙ', 'ДРУГОЕ', 'МЕДСЕСТРА/МЕДБРАТ', 'РЯДОВОЙ', 'ГЛАВНЫЙ БУХГАЛТЕР', 'ОФИЦЕР', 'ВРАЧ', 'ФАРМАЦЕВТ'])\n",
      "Post \n",
      " dict_keys(['РАБОЧИЙ', 'СЛУЖАЩИЙ / СПЕЦИАЛИСТ', '0', 'НАЧАЛЬНИК / РУКОВОДИТЕЛЬ', 'РУКОВОДИТЕЛЬ КОМПАНИИ', 'ВОЕННЫЙ', 'ДРУГОЕ', 'МЕДСЕСТРА/МЕДБРАТ', 'РЯДОВОЙ', 'ГЛАВНЫЙ БУХГАЛТЕР', 'ОФИЦЕР', 'ВРАЧ', 'ФАРМАЦЕВТ'])\n"
     ]
    },
    {
     "name": "stdout",
     "output_type": "stream",
     "text": [
      "OrganizationPhone_group хвосты\n",
      " []\n",
      "OrganizationPhone_group Что оставляем\n",
      " {'1.0': 366435, '4.0': 353897, '2.0': 268962, '3.0': 160395} \n",
      " dict_keys(['1.0', '4.0', '2.0', '3.0'])\n",
      "OrganizationPhone_group \n",
      " dict_keys(['1.0', '4.0', '2.0', '3.0'])\n",
      "do it\n"
     ]
    }
   ],
   "source": [
    "my_dict = {}\n",
    "#обрабатываем категориальные переменные:\n",
    "#  ЗДЕСЬ  обрезаем хвосты - признаки, которых мало объединяем в группу 'others'\n",
    "if 1==1:\n",
    "    '''attribs=[ 'InsurancePolicy',\n",
    "       'VerifiedByESIA', 'EMailVerified', \n",
    "        'RegisterSameFact',  'StoreName',\n",
    "       'mobile', 'PingTreeLead', 'Bin', 'Bank', 'mask_person_addcontact',\n",
    "         'ActivityType', 'Education', 'Gender', 'LoanPurpose', 'MaritalStatus',\n",
    "       'MonthlyIncome', 'Post', 'OrganizationPhone_group']'''                            \n",
    "    NN=150    #   NN - минимальное количество ОСНОВНЫХ категорий, остальные слова в \"хвосты\" для обрубания     \n",
    "\n",
    "    for attrib in attribs:       #   бежим по текстовым атрибиутам\n",
    "\n",
    "        df[attrib]=df[attrib].astype(str)\n",
    "        \n",
    "        ll={}        #   имена частовстречающихся категорий\n",
    "        t=[]         #   имена хвостов\n",
    "\n",
    "        ii=0\n",
    "        for i,j in df[attrib].value_counts().items():      \n",
    "            ii=ii+1\n",
    "    #    по основной базе формирую словарь ОСНОВНЫХ слов, затем в df_rs_fssp удаляю  ТО, ЧТО НЕ ПОПАЛО в основные слова     \n",
    "\n",
    "            if j<NN:            # здесь подбираю вручную ----------------------  j сколько раз встретилось  ---------------------------\n",
    "                t.append(i)              #  ФОрмирую словарь из \"хвостов\"\n",
    "            else:\n",
    "                \n",
    "                ll.update({i:j})         #  формирую словарь с именами, которые буду заменять индивидуально\n",
    "\n",
    "        print(attrib,\"хвосты\\n\",t)                     #    нужно это учитыввать в МОДЕЛИ и ВЕСАХ  !!!!!!!!!!!!!!!!!!!!!!!!!!!!!!!!!!\n",
    "        print(attrib,\"Что оставляем\\n\",ll,'\\n',ll.keys())                     #    нужно это учитыввать в МОДЕЛИ и ВЕСАХ  !!!!!!!!!!!!!!!!!!!!!!!!!!!!!!!!!!\n",
    "        print(attrib,'\\n',ll.keys())  \n",
    "        my_dict[attrib] = list(ll.keys())\n",
    "        df.loc[~df[attrib].isin(ll), attrib] = 'others'            # удаляю хвосты   \n",
    "        \n",
    "        #print(df[attrib].value_counts())  \n",
    "         \n",
    "    print('do it')\n",
    "\n",
    "\n",
    "\n"
   ]
  },
  {
   "cell_type": "code",
   "execution_count": 25,
   "id": "652a9a98",
   "metadata": {
    "scrolled": true
   },
   "outputs": [
    {
     "name": "stdout",
     "output_type": "stream",
     "text": [
      "{'InsurancePolicy': ['1', '0'], 'VerifiedByESIA': ['0', '1'], 'EMailVerified': ['0', '1'], 'RegisterSameFact': ['1.0', '0.0'], 'StoreName': ['WEBSITE', 'PLAYMARKET', 'APPSTORE', 'APPGALLERY'], 'mobile': ['0', '1'], 'PingTreeLead': ['0', '1'], 'Bin': ['220220.0', '220070.0', '553691.0', '220024.0', '220015.0', '522860.0', '427938.0', '437772.0', '481776.0', '220028.0', '220029.0', '533669.0', '220073.0', '427616.0', '546998.0', '555949.0', '220432.0', '220077.0', '220030.0', '220027.0', '427638.0', '536829.0', '220002.0', '427432.0', '489347.0', '427640.0', '458443.0', '489049.0', '546940.0', '424917.0', '427630.0', '220003.0', '546938.0', '427655.0', '469395.0', '427667.0', '220001.0', '537965.0', '220038.0', '220431.0', '220424.0', '220412.0', '676907.0', '427660.0', '220053.0', '220341.0', '521324.0', '220039.0', '446915.0', '400680.0', '220019.0', '558620.0', '427606.0', '553609.0', '427662.0', '427652.0', '546955.0', '524602.0', '427631.0', '546960.0', '405870.0', '546930.0', '528041.0', '427650.0', '447624.0', '524614.0', '220026.0', '427654.0', '427672.0', '427642.0', '427626.0', '220045.0', '427602.0', '546967.0', '427618.0', '437773.0', '639002.0', '427649.0', '538150.0', '427644.0', '220196.0', '220048.0', '546962.0', '427613.0', '546952.0', '676454.0', '546906.0', '427611.0', '552175.0', '427646.0', '427656.0', '546916.0', '427676.0', '536672.0', '220050.0', '559900.0', '477986.0', '220156.0', '220011.0', '435303.0', '427670.0', '546931.0', '539877.0', '404802.0', '427666.0', '489042.0', '510069.0', '546956.0', '427645.0', '510621.0', '546918.0', '220008.0', '546972.0', '427663.0', '516473.0', '527269.0', '546942.0', '427610.0', '220033.0', '546944.0', '427603.0', '546954.0', '427622.0', '546949.0', '427664.0', '427675.0', '516116.0', '546911.0', '427608.0', '356299.0', '546946.0', '220007.0', '432498.0', '548673.0', '554759.0', '427648.0', '548401.0', '427607.0', '546926.0', '427601.0', '427633.0', '404268.0', '546913.0', '427659.0', '427628.0', '427627.0', '427605.0', '546950.0', '520985.0', '546902.0', '427668.0', '427604.0', '427674.0', '546907.0', '479087.0', '427427.0', '220010.0', '548655.0', '546912.0', '427612.0', '427653.0', '546901.0', '427635.0', '546910.0', '427669.0', '427677.0', '220020.0', '427641.0', '427661.0', '220098.0', '548440.0', '546904.0', '546974.0', '546968.0', '462729.0', '427609.0', '546927.0', '427901.0', '546969.0', '546941.0', '532356.0', '0.0', '546920.0', '546970.0', '546948.0', '554761.0', '220095.0', '427636.0', '427637.0', '546963.0', '546976.0', '546945.0', '220062.0', '440503.0', '427620.0', '427617.0', '220488.0', '427940.0', '522223.0', '546928.0', '220060.0', '427651.0', '546959.0', '417398.0', '427632.0', '546935.0', '548438.0', '546933.0', '546961.0', '546966.0', '426101.0', '220023.0', '546977.0', '546905.0', '548462.0', '427625.0', '546908.0', '546922.0', '520373.0', '546975.0', '546917.0', '559654.0', '552140.0', '546953.0', '427639.0', '427629.0', '220418.0', '400079.0', '479769.0', '546964.0', '220125.0', '220066.0', '427916.0', '408397.0', '220056.0', '546909.0', '427643.0', '548455.0', '546903.0', '548674.0', '510047.0', '404841.0', '546939.0', '548445.0', '487415.0', '546951.0', '220100.0', '445433.0', '479004.0', '559813.0', '546932.0', '220018.0', '546925.0', '546947.0', '414657.0', '220069.0', '546936.0', '557000.0', '220017.0', '432433.0', '220096.0', '404136.0', '427967.0', '481782.0', '356504.0', '427955.0', '546929.0', '518901.0', '419804.0', '220042.0', '405992.0', '546943.0'], 'Bank': ['SBER', '0', '[US] NEW WORLD IMMEDIATE ', 'VTB', 'ALFA-BANK', 'TINKOFF', '[IQ] JORDAN AHLI BANK', 'QIWI', 'OTKRITIE', 'POCHTA BANK', 'RNKB', 'PROMSVYAZBANK', 'RAIFFEISENBANK', 'CHINA AND SOUTH SEA BANK, LTD.', 'CREDIT UNION PAYMENT CENTER (LIMITED LIABILITY COMPANY)', 'ROSBANK', 'BANK LEVOBEREZHNY', 'CREDIT UNION CARD SERVICES, INC.', 'ISLAND F.C.U.', 'OJSC JSB ROSSIYA', 'URALSIB', 'GAZPROMBANK', 'JCB INTERNATIONAL CREDIT CARD CO., LTD.', 'GENBANK', 'MOSCOW BANK FOR RECONSTRUCTION AND DEVELOPMENT JSCB', 'AK BARS', '[RU] JSCB AVANGARD', 'HOME', '[RU] BANK ZENIT', '[RU] JSC RUSSIAN STANDARD BANK', '[RU] BANK SAINT PETERSBURG PLC', '[RU] URAL BANK FOR RECONSTRUCTION AND DEVELOPMENT JSC', 'BANCO DE DESARROLLO RURAL S.A. BANRURAL', '[RU] CREDIT UNION PAYMENT CENTER (LIMITED LIABILITY COMPANY)', '[RU] JSCB MOSCOW INDUSTRIAL BANK', 'NON-BANKING CREDIT ORG UNITED SETTLEMENT SYSTEM', '[RU] OJSC LETO BANK'], 'mask_person_addcontact': ['0', '1'], 'ActivityType': ['0', 'ТОРГОВЛЯ', 'ПРОМЫШЛЕННОСТЬ', 'ДРУГОЕ', 'СЕРВИС И УСЛУГИ', 'СТРОИТЕЛЬСТВО И НЕДВИЖИМОСТЬ', 'ТРАНСПОРТ', 'ГОСУДАРСТВЕННАЯ СЛУЖБА', 'НАУКА И ОБРАЗОВАНИЕ', 'МЕДИЦИНА', 'АРМИЯ', 'ОХРАННАЯ ДЕЯТЕЛЬНОСТЬ', 'ДОБЫВАЮЩИЙ СЕКТОР', 'ФИНАНСЫ, БАНКИ, СТРАХОВАНИЕ, КОНСАЛТИНГ', 'ИНФОРМАЦИОННЫЕ ТЕХНОЛОГИИ/ТЕЛЕКОММУНИКАЦИИ', 'КУЛЬТУРА И ИСКУССТВО', 'ТЭК'], 'Education': ['СРЕДНЕЕ СПЕЦИАЛЬНОЕ', 'ВЫСШЕЕ', 'СРЕДНЕЕ', 'НЕПОЛНОЕ ВЫСШЕЕ', 'НЕПОЛНОЕ СРЕДНЕЕ', 'ДРУГОЕ', '0'], 'Gender': ['0.0', '1.0'], 'LoanPurpose': ['0', 'НЕПРЕДВИДЕННЫЕ РАСХОДЫ', 'МЕДИЦИНСКИЕ УСЛУГИ', 'РЕМОНТ ДОМА ИЛИ АВТОМОБИЛЯ', 'ДРУГОЕ', 'ЕЖЕДНЕВНЫЕ РАСХОДЫ', 'ПОКУПКА БЫТОВОЙ ТЕХНИКИ И ЭЛЕКТРОНИКИ', 'ПОДАРКИ', 'ОБРАЗОВАНИЕ', 'БИЗНЕС', 'ПУТЕШЕСТВИЯ, ОТДЫХ'], 'MaritalStatus': ['0.0', '1.0', '3.0', '4.0', '2.0'], 'MonthlyIncome': ['50000.0', '45000.0', '35000.0', '30000.0', '40000.0', '60000.0', '25000.0', '70000.0', '80000.0', '55000.0', '65000.0', '20000.0', '75000.0', '100000.0', '90000.0', '85000.0', '120000.0', '28000.0', '38000.0', '32000.0', '15000.0', '27000.0', '42000.0', '150000.0', '37000.0', '48000.0', '47000.0', '36000.0', '95000.0', '43000.0', '56000.0', '52000.0', '23000.0', '34000.0', '26000.0', '18000.0', '46000.0', '24000.0', '22000.0', '110000.0', '54000.0', '39000.0', '29000.0', '33000.0', '57000.0', '58000.0', '10000.0', '67000.0', '68000.0', '130000.0', '78000.0', '53000.0', '200000.0', '17000.0', '21000.0', '31000.0', '72000.0', '62000.0', '44000.0', '140000.0', '49000.0', '41000.0', '63000.0', '87000.0', '16000.0', '250000.0', '19000.0', '98000.0', '180000.0', '64000.0', '12000.0', '76000.0', '71000.0', '125000.0', '89000.0', '86000.0', '105000.0', '69000.0', '115000.0', '51000.0', '160000.0', '59000.0', '73000.0', '66000.0', '300000.0', '79000.0', '170000.0', '74000.0', '14000.0', '97000.0', '5000.0', '13000.0', '350000.0', '96000.0', '450000.0', '88000.0', '135000.0', '83000.0', '82000.0', '77000.0', '500000.0', '92000.0', '84000.0', '93000.0', '61000.0', '190000.0', '145000.0', '27500.0', '400000.0', '37500.0', '28500.0', '32500.0', '800000.0', '3000.0', '94000.0', '11000.0', '600000.0', '220000.0', '22500.0', '47500.0', '38500.0', '42500.0', '8000.0', '700000.0', '25500.0', '195000.0', '24500.0', '23500.0', '35500.0', '650000.0', '18500.0', '34500.0', '26500.0', '185000.0', '240000.0', '6000.0', '7000.0', '230000.0', '2000.0', '45500.0', '112000.0', '4000.0', '81000.0', '45.0', '165000.0', '210000.0', '29500.0', '12500.0', '35.0', '750000.0', '43500.0', '48500.0', '102000.0', '175000.0', '17500.0', '31500.0', '91000.0', '155000.0', '99000.0', '9000.0', '900000.0', '36500.0', '21500.0', '0.0', '550000.0', '280000.0', '46500.0', '60.0', '16500.0', '19500.0', '2500.0', '50.0', '40.0', '103000.0', '1000.0', '108000.0', '49500.0', '30.0', '25.0', '45600.0', '3500.0', '28600.0', '15500.0', '33500.0', '35600.0', '104000.0', '14500.0', '44500.0', '56700.0', '39500.0', '52500.0', '27800.0', '107000.0', '20500.0', '270000.0', '1000000.0', '320000.0', '13500.0', '35700.0', '45800.0', '850000.0', '28900.0', '124000.0', '45700.0', '26700.0', '123000.0', '42300.0', '1200000.0'], 'Post': ['РАБОЧИЙ', 'СЛУЖАЩИЙ / СПЕЦИАЛИСТ', '0', 'НАЧАЛЬНИК / РУКОВОДИТЕЛЬ', 'РУКОВОДИТЕЛЬ КОМПАНИИ', 'ВОЕННЫЙ', 'ДРУГОЕ', 'МЕДСЕСТРА/МЕДБРАТ', 'РЯДОВОЙ', 'ГЛАВНЫЙ БУХГАЛТЕР', 'ОФИЦЕР', 'ВРАЧ', 'ФАРМАЦЕВТ'], 'OrganizationPhone_group': ['1.0', '4.0', '2.0', '3.0']}\n"
     ]
    }
   ],
   "source": [
    "print(my_dict)"
   ]
  },
  {
   "cell_type": "code",
   "execution_count": 26,
   "id": "fec1ed66",
   "metadata": {},
   "outputs": [],
   "source": [
    "# df.to_csv('original_obrabotka.csv', sep = ';') # сохраняем после удаления хвостов"
   ]
  },
  {
   "cell_type": "code",
   "execution_count": null,
   "id": "62c5eaf2",
   "metadata": {},
   "outputs": [],
   "source": []
  },
  {
   "cell_type": "markdown",
   "id": "6701733e",
   "metadata": {},
   "source": [
    "# WoEEncoder"
   ]
  },
  {
   "cell_type": "markdown",
   "id": "734986a2",
   "metadata": {},
   "source": [
    "## раздеяем трейн тест"
   ]
  },
  {
   "cell_type": "code",
   "execution_count": 27,
   "id": "0e869e13",
   "metadata": {
    "scrolled": true
   },
   "outputs": [],
   "source": [
    "train = df[(df['CreateTime']<'2023-09-01')&(df['Default_30'].notna())]"
   ]
  },
  {
   "cell_type": "code",
   "execution_count": 28,
   "id": "28c73748",
   "metadata": {},
   "outputs": [],
   "source": [
    "test = df[(df['CreateTime']>='2023-09-01')&(df['CreateTime']<'2023-12-01')]"
   ]
  },
  {
   "cell_type": "code",
   "execution_count": 29,
   "id": "6cbdf155",
   "metadata": {},
   "outputs": [],
   "source": [
    "# столбцы которые оставляем в доп и анкетных фичах\n",
    "cols_dop = ['DraftId', 'InsurancePolicy',\n",
    "       'VerifiedByESIA', 'EMailVerified', \n",
    "        'RegisterSameFact',  'StoreName',\n",
    "       'mobile', 'PingTreeLead', 'Bin', 'Bank', 'mask_person_addcontact',\n",
    "       'Default_30']\n",
    "\n",
    "cols_anketa  = ['DraftId',   'age', 'ActivityType',\n",
    "       'Education', 'Gender', 'LoanPurpose', 'MaritalStatus', 'MonthlyIncome',\n",
    "       'Post', 'OrganizationPhone_group', 'Default_30']"
   ]
  },
  {
   "cell_type": "code",
   "execution_count": 31,
   "id": "0dd421e5",
   "metadata": {},
   "outputs": [],
   "source": [
    "# столбцы категориальных признаков\n",
    "attribs_anketa = ['ActivityType',\n",
    " 'Education',\n",
    " 'Gender',\n",
    " 'LoanPurpose',\n",
    " 'MaritalStatus',\n",
    " 'MonthlyIncome',\n",
    " 'Post',\n",
    " 'OrganizationPhone_group']\n",
    "\n",
    "attribs_dop = [\n",
    " 'InsurancePolicy',\n",
    " 'VerifiedByESIA',\n",
    " 'EMailVerified',\n",
    " 'RegisterSameFact',\n",
    " 'StoreName',\n",
    " 'mobile',\n",
    " 'PingTreeLead',\n",
    " 'Bin',\n",
    " 'Bank',\n",
    " 'mask_person_addcontact']"
   ]
  },
  {
   "cell_type": "code",
   "execution_count": 32,
   "id": "b3c2750c",
   "metadata": {},
   "outputs": [],
   "source": [
    "train_anketa = train[cols_anketa]\n",
    "train_dop = train[cols_dop]"
   ]
  },
  {
   "cell_type": "code",
   "execution_count": 33,
   "id": "04e07021",
   "metadata": {},
   "outputs": [],
   "source": [
    "test_anketa = test[cols_anketa]\n",
    "test_dop = test[cols_dop]"
   ]
  },
  {
   "cell_type": "markdown",
   "id": "82b7a873",
   "metadata": {},
   "source": [
    "## Обучаем"
   ]
  },
  {
   "cell_type": "code",
   "execution_count": 34,
   "id": "d08ca170",
   "metadata": {},
   "outputs": [],
   "source": [
    "from feature_engine.encoding import WoEEncoder"
   ]
  },
  {
   "cell_type": "code",
   "execution_count": 39,
   "id": "16afff3f",
   "metadata": {},
   "outputs": [],
   "source": [
    "woe_encoder = WoEEncoder(\n",
    "    variables=attribs_anketa,\n",
    "    ignore_format=True,\n",
    "    fill_value = 0.5\n",
    "    \n",
    ")\n",
    "\n",
    "woe_encoder.fit(train_anketa[attribs_anketa], train_anketa['Default_30'])\n",
    "\n",
    "train_woe = woe_encoder.transform(train_anketa[attribs_anketa])\n",
    "test_woe = woe_encoder.transform(test_anketa[attribs_anketa])\n",
    "\n",
    "\n",
    "test_woe[['DraftId', 'age', 'Default_30']] = test_anketa[['DraftId', 'age', 'Default_30']]\n",
    "train_woe[['DraftId', 'age', 'Default_30']] = train_anketa[['DraftId', 'age', 'Default_30']]\n",
    "\n",
    "test_woe = test_woe[cols_anketa]\n",
    "train_woe = train_woe[cols_anketa]\n",
    "\n",
    "del train_woe['Default_30']\n",
    "del test_woe['Default_30']\n",
    "\n",
    "train_woe.to_csv('anketa_train_woe.csv', sep = ';')\n",
    "test_woe.to_csv('anketa_test_woe.csv', sep = ';')\n",
    "\n",
    "with open(\"anketa_woe_encoder.pickle\", \"wb\") as file:\n",
    "    pickle.dump(woe_encoder, file)"
   ]
  },
  {
   "cell_type": "code",
   "execution_count": null,
   "id": "84fe517c",
   "metadata": {},
   "outputs": [],
   "source": []
  },
  {
   "cell_type": "code",
   "execution_count": 43,
   "id": "8e71c687",
   "metadata": {},
   "outputs": [],
   "source": [
    "woe_encoder = WoEEncoder(\n",
    "    variables=attribs_dop,\n",
    "    ignore_format=True,\n",
    "    fill_value = 0.5\n",
    ")\n",
    "\n",
    "woe_encoder.fit(train_dop[attribs_dop], train_dop['Default_30'])\n",
    "\n",
    "train_woe = woe_encoder.transform(train_dop[attribs_dop])\n",
    "test_woe = woe_encoder.transform(test_dop[attribs_dop])\n",
    "\n",
    "test_woe[['DraftId', 'Default_30']] = test_dop[['DraftId',  'Default_30']]\n",
    "train_woe[['DraftId', 'Default_30']] = train_dop[['DraftId',  'Default_30']]\n",
    "\n",
    "test_woe = test_woe[cols_dop]\n",
    "train_woe = train_woe[cols_dop]\n",
    "\n",
    "del train_woe['Default_30']\n",
    "del test_woe['Default_30']\n",
    "\n",
    "train_woe.to_csv('dop_train_woe.csv', sep = ';')\n",
    "test_woe.to_csv('dop_test_woe.csv', sep = ';')\n",
    "\n",
    "del train_anketa['Default_30']\n",
    "del test_anketa['Default_30']\n",
    "\n",
    "del train_dop['Default_30']\n",
    "del test_dop['Default_30']\n",
    "\n",
    "\n",
    "# оригиналы до кодирования\n",
    "train_anketa.to_csv('anketa_train.csv', sep = ';')\n",
    "test_anketa.to_csv('anketa_test.csv', sep = ';')\n",
    "\n",
    "train_dop.to_csv('dop_train.csv', sep = ';')\n",
    "test_dop.to_csv('dop_test.csv', sep = ';')\n",
    "\n",
    "with open(\"dop_woe_encoder.pickle\", \"wb\") as file:\n",
    "    pickle.dump(woe_encoder, file)\n"
   ]
  },
  {
   "cell_type": "code",
   "execution_count": null,
   "id": "25e43403",
   "metadata": {},
   "outputs": [],
   "source": []
  },
  {
   "cell_type": "code",
   "execution_count": null,
   "id": "eccbdb15",
   "metadata": {},
   "outputs": [],
   "source": []
  },
  {
   "cell_type": "code",
   "execution_count": null,
   "id": "5becce2f",
   "metadata": {},
   "outputs": [],
   "source": []
  },
  {
   "cell_type": "code",
   "execution_count": null,
   "id": "bacdf6bb",
   "metadata": {},
   "outputs": [],
   "source": []
  },
  {
   "cell_type": "code",
   "execution_count": null,
   "id": "ebcc7d54",
   "metadata": {},
   "outputs": [],
   "source": []
  },
  {
   "cell_type": "code",
   "execution_count": null,
   "id": "8579c1d8",
   "metadata": {},
   "outputs": [],
   "source": []
  }
 ],
 "metadata": {
  "kernelspec": {
   "display_name": "Python 3 (ipykernel)",
   "language": "python",
   "name": "python3"
  },
  "language_info": {
   "codemirror_mode": {
    "name": "ipython",
    "version": 3
   },
   "file_extension": ".py",
   "mimetype": "text/x-python",
   "name": "python",
   "nbconvert_exporter": "python",
   "pygments_lexer": "ipython3",
   "version": "3.11.5"
  },
  "toc": {
   "base_numbering": 1,
   "nav_menu": {},
   "number_sections": true,
   "sideBar": true,
   "skip_h1_title": false,
   "title_cell": "Table of Contents",
   "title_sidebar": "Contents",
   "toc_cell": false,
   "toc_position": {},
   "toc_section_display": true,
   "toc_window_display": false
  }
 },
 "nbformat": 4,
 "nbformat_minor": 5
}
